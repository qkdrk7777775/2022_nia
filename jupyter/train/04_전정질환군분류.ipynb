{
 "cells": [
  {
   "cell_type": "code",
   "execution_count": 1,
   "id": "651d2e76-c61b-4977-af92-ad035cb4dc33",
   "metadata": {
    "execution": {
     "iopub.execute_input": "2022-11-29T17:08:18.111698Z",
     "iopub.status.busy": "2022-11-29T17:08:18.111420Z",
     "iopub.status.idle": "2022-11-29T17:08:19.555794Z",
     "shell.execute_reply": "2022-11-29T17:08:19.555413Z",
     "shell.execute_reply.started": "2022-11-29T17:08:18.111676Z"
    },
    "tags": []
   },
   "outputs": [
    {
     "name": "stdout",
     "output_type": "stream",
     "text": [
      "Python implementation: CPython\n",
      "Python version       : 3.8.10\n",
      "IPython version      : 7.34.0\n",
      "\n",
      "sklearn   : 1.0.2\n",
      "os        : unknown\n",
      "glob      : unknown\n",
      "cv2       : 4.6.0\n",
      "shutil    : unknown\n",
      "joblib    : 1.1.0\n",
      "gc        : unknown\n",
      "random    : unknown\n",
      "re        : 2.2.1\n",
      "tensorflow: 2.8.0\n",
      "numpy     : 1.22.3\n",
      "tqdm      : 4.63.1\n",
      "matplotlib: 3.5.1\n",
      "pandas    : 1.4.1\n",
      "datetime  : unknown\n",
      "warning   : not installed\n",
      "\n"
     ]
    }
   ],
   "source": [
    "%reload_ext watermark\n",
    "%watermark -v -p sklearn,os,glob,cv2,shutil,joblib,gc,random,re,tensorflow,numpy,tqdm,matplotlib,pandas,sklearn,datetime,random,warning"
   ]
  },
  {
   "cell_type": "code",
   "execution_count": 2,
   "id": "7ec98636-1317-4da5-8ae7-611ca8e97f0a",
   "metadata": {
    "execution": {
     "iopub.execute_input": "2022-11-29T17:08:19.556493Z",
     "iopub.status.busy": "2022-11-29T17:08:19.556358Z",
     "iopub.status.idle": "2022-11-29T17:08:19.962882Z",
     "shell.execute_reply": "2022-11-29T17:08:19.962423Z",
     "shell.execute_reply.started": "2022-11-29T17:08:19.556479Z"
    },
    "tags": []
   },
   "outputs": [
    {
     "name": "stdout",
     "output_type": "stream",
     "text": [
      "2022-11-29 17:08:19.961051\n"
     ]
    }
   ],
   "source": [
    "import os, glob, cv2, shutil, joblib,gc, random, re, multiprocessing\n",
    "import tensorflow as tf\n",
    "import numpy as np\n",
    "from tqdm import tqdm\n",
    "import matplotlib.pyplot as plt\n",
    "import pandas as pd\n",
    "from datetime import datetime\n",
    "from sklearn.model_selection import train_test_split, KFold\n",
    "from sklearn import metrics\n",
    "import random\n",
    "import warnings\n",
    "warnings.filterwarnings(action='ignore')\n",
    "import datetime\n",
    "import lightgbm as lgb\n",
    "from sklearn.model_selection import GridSearchCV\n",
    "from sklearn.metrics import fbeta_score, make_scorer\n",
    "from sklearn.metrics import accuracy_score\n",
    "from sklearn.metrics import roc_auc_score\n",
    "import sklearn\n",
    "from sklearn.ensemble import RandomForestClassifier\n",
    "\n",
    "print(datetime.datetime.today())"
   ]
  },
  {
   "cell_type": "code",
   "execution_count": 3,
   "id": "2c2c1a44-63e1-40fe-af58-59d0a55c743e",
   "metadata": {
    "execution": {
     "iopub.execute_input": "2022-11-29T17:08:19.963615Z",
     "iopub.status.busy": "2022-11-29T17:08:19.963481Z",
     "iopub.status.idle": "2022-11-29T17:08:19.973354Z",
     "shell.execute_reply": "2022-11-29T17:08:19.972986Z",
     "shell.execute_reply.started": "2022-11-29T17:08:19.963600Z"
    },
    "tags": []
   },
   "outputs": [
    {
     "name": "stdout",
     "output_type": "stream",
     "text": [
      "2022-11-29 17:08:19.971490\n"
     ]
    }
   ],
   "source": [
    "def video_gray2rgb(df):\n",
    "    out=np.zeros(df.shape[:3]+(3,),dtype='u1')\n",
    "    for i in range(df.shape[0]):\n",
    "        img=cv2.cvtColor(df[i,:,:,0],cv2.COLOR_GRAY2RGB)\n",
    "        out[i,:,:,:]=img   \n",
    "        del img\n",
    "    return out\n",
    "def batch_avi(data,idx,BATCH_SIZE=1024,font=cv2.FONT_HERSHEY_SIMPLEX):\n",
    "    def label_vis(data,i,font):\n",
    "        input_img=cv2.cvtColor(data[i,:,:,0],cv2.COLOR_GRAY2RGB\n",
    "                            ).astype('u1')\n",
    "        \n",
    "        pred_img=cv2.cvtColor(data[i,:,:,1]*255,cv2.COLOR_GRAY2RGB\n",
    "                            ).astype('u1')\n",
    "        pred_img[:,:,(0,2)]=0\n",
    "        \n",
    "        label_img=cv2.addWeighted(input_img,1,pred_img,.2,0)\n",
    "        text=f\"Index : {i}\"\n",
    "        cv2.putText(label_img,text, (80,30),font,1,(255,0,0),2)\n",
    "        \n",
    "        return np.expand_dims(label_img,axis=0)\n",
    "    return np.concatenate([label_vis(data,i, font) \n",
    "                    for i in range((BATCH_SIZE*idx),\n",
    "                                   (np.min([data.shape[0],(idx+1)*BATCH_SIZE])))])\n",
    "\n",
    "def write_avi(data,file_name,fps=30):\n",
    "    fourcc = cv2.VideoWriter_fourcc(*\"DIVX\")\n",
    "    (width, height)=data.shape[1:3]\n",
    "    out = cv2.VideoWriter(file_name, fourcc, fps, (height, width),isColor=True)\n",
    "    for i in range(len(data)):\n",
    "        out.write(data[i])\n",
    "    out.release()\n",
    "\n",
    "def get_feature(file):\n",
    "    df=pd.read_csv(file,sep='\\t')\n",
    "    df['diagnosis_group']=file.split('/')[-1].split('.')[0]\n",
    "    ls=list()\n",
    "    for i in df.patient_id.values:\n",
    "        ls.append(glob.glob(\n",
    "            f\"/home/data/**/{i}/\")[0])\n",
    "    df['input_path']=ls\n",
    "    output=df[['patient_id','age','sex','input_path','diagnosis_group']]\n",
    "    output.loc[:,['LA','LP','Left','RA','RP','Right']]=0\n",
    "    for i,(path,patent) in tqdm(enumerate(df[['input_path','patient_id']].values)):\n",
    "        try:\n",
    "            file=glob.glob(f\"{path}/*.tsv\")[0]\n",
    "            file=os.path.realpath(file)\n",
    "            output.loc[i,'path']=file\n",
    "            feature_df=pd.read_csv(file,sep='\\t')\n",
    "            feature=feature_df[['Direction','Gain']].groupby(['Direction']).mean().T\n",
    "            output.loc[i,feature.columns]=feature.values[0,:]\n",
    "        except:\n",
    "            output.loc[i,'path']=''\n",
    "    output=output[['age','sex','diagnosis_group','LA','LP','Left','RA','RP','Right','path']]\n",
    "\n",
    "    return output\n",
    "print(datetime.datetime.today())"
   ]
  },
  {
   "cell_type": "markdown",
   "id": "81dac628-978d-49d8-9750-383328e11884",
   "metadata": {},
   "source": [
    "# 모델링"
   ]
  },
  {
   "cell_type": "code",
   "execution_count": 4,
   "id": "cea62935-fe45-41a3-9a9b-d40d1ee2a97d",
   "metadata": {
    "execution": {
     "iopub.execute_input": "2022-11-29T17:08:19.973980Z",
     "iopub.status.busy": "2022-11-29T17:08:19.973885Z",
     "iopub.status.idle": "2022-11-29T17:08:19.977190Z",
     "shell.execute_reply": "2022-11-29T17:08:19.976765Z",
     "shell.execute_reply.started": "2022-11-29T17:08:19.973967Z"
    },
    "tags": []
   },
   "outputs": [
    {
     "name": "stdout",
     "output_type": "stream",
     "text": [
      "2022-11-29 17:08:19.975588\n"
     ]
    }
   ],
   "source": [
    "files=glob.glob(\"/home/data/*.tsv\")\n",
    "files=[i for i in files if not re.compile('stats').findall(i)]\n",
    "print(datetime.datetime.today())"
   ]
  },
  {
   "cell_type": "code",
   "execution_count": 5,
   "id": "8bd755cd-b833-4d06-8d75-3dabf82bc81e",
   "metadata": {
    "execution": {
     "iopub.execute_input": "2022-11-29T17:08:19.977791Z",
     "iopub.status.busy": "2022-11-29T17:08:19.977666Z",
     "iopub.status.idle": "2022-11-29T17:18:48.242184Z",
     "shell.execute_reply": "2022-11-29T17:18:48.241797Z",
     "shell.execute_reply.started": "2022-11-29T17:08:19.977778Z"
    },
    "tags": []
   },
   "outputs": [
    {
     "name": "stdout",
     "output_type": "stream",
     "text": [
      "2022-11-29 17:08:19.981024\n"
     ]
    },
    {
     "name": "stderr",
     "output_type": "stream",
     "text": [
      "100%|██████████| 3/3 [00:00<00:00, 17452.03it/s]\n",
      "/tmp/ipykernel_232949/3922528268.py:43: SettingWithCopyWarning: \n",
      "A value is trying to be set on a copy of a slice from a DataFrame.\n",
      "Try using .loc[row_indexer,col_indexer] = value instead\n",
      "\n",
      "See the caveats in the documentation: https://pandas.pydata.org/pandas-docs/stable/user_guide/indexing.html#returning-a-view-versus-a-copy\n",
      "0it [00:00, ?it/s]/tmp/ipykernel_232949/3922528268.py:48: SettingWithCopyWarning: \n",
      "A value is trying to be set on a copy of a slice from a DataFrame.\n",
      "Try using .loc[row_indexer,col_indexer] = value instead\n",
      "\n",
      "See the caveats in the documentation: https://pandas.pydata.org/pandas-docs/stable/user_guide/indexing.html#returning-a-view-versus-a-copy\n",
      "/tmp/ipykernel_232949/3922528268.py:51: SettingWithCopyWarning: \n",
      "A value is trying to be set on a copy of a slice from a DataFrame.\n",
      "Try using .loc[row_indexer,col_indexer] = value instead\n",
      "\n",
      "See the caveats in the documentation: https://pandas.pydata.org/pandas-docs/stable/user_guide/indexing.html#returning-a-view-versus-a-copy\n",
      "11it [00:00, 107.33it/s]/tmp/ipykernel_232949/3922528268.py:43: SettingWithCopyWarning: \n",
      "A value is trying to be set on a copy of a slice from a DataFrame.\n",
      "Try using .loc[row_indexer,col_indexer] = value instead\n",
      "\n",
      "See the caveats in the documentation: https://pandas.pydata.org/pandas-docs/stable/user_guide/indexing.html#returning-a-view-versus-a-copy\n",
      "0it [00:00, ?it/s]/tmp/ipykernel_232949/3922528268.py:43: SettingWithCopyWarning: \n",
      "A value is trying to be set on a copy of a slice from a DataFrame.\n",
      "Try using .loc[row_indexer,col_indexer] = value instead\n",
      "\n",
      "See the caveats in the documentation: https://pandas.pydata.org/pandas-docs/stable/user_guide/indexing.html#returning-a-view-versus-a-copy\n",
      "24it [00:00, 117.28it/s]/tmp/ipykernel_232949/3922528268.py:48: SettingWithCopyWarning: \n",
      "A value is trying to be set on a copy of a slice from a DataFrame.\n",
      "Try using .loc[row_indexer,col_indexer] = value instead\n",
      "\n",
      "See the caveats in the documentation: https://pandas.pydata.org/pandas-docs/stable/user_guide/indexing.html#returning-a-view-versus-a-copy\n",
      "/tmp/ipykernel_232949/3922528268.py:51: SettingWithCopyWarning: \n",
      "A value is trying to be set on a copy of a slice from a DataFrame.\n",
      "Try using .loc[row_indexer,col_indexer] = value instead\n",
      "\n",
      "See the caveats in the documentation: https://pandas.pydata.org/pandas-docs/stable/user_guide/indexing.html#returning-a-view-versus-a-copy\n",
      "12it [00:00, 114.34it/s]/tmp/ipykernel_232949/3922528268.py:48: SettingWithCopyWarning: \n",
      "A value is trying to be set on a copy of a slice from a DataFrame.\n",
      "Try using .loc[row_indexer,col_indexer] = value instead\n",
      "\n",
      "See the caveats in the documentation: https://pandas.pydata.org/pandas-docs/stable/user_guide/indexing.html#returning-a-view-versus-a-copy\n",
      "/tmp/ipykernel_232949/3922528268.py:51: SettingWithCopyWarning: \n",
      "A value is trying to be set on a copy of a slice from a DataFrame.\n",
      "Try using .loc[row_indexer,col_indexer] = value instead\n",
      "\n",
      "See the caveats in the documentation: https://pandas.pydata.org/pandas-docs/stable/user_guide/indexing.html#returning-a-view-versus-a-copy\n",
      "6405it [09:09, 13.90it/s]\n",
      "7122it [10:27,  9.80it/s]"
     ]
    },
    {
     "name": "stdout",
     "output_type": "stream",
     "text": [
      "2022-11-29 17:18:48.161766\n"
     ]
    },
    {
     "name": "stderr",
     "output_type": "stream",
     "text": [
      "7123it [10:27, 11.36it/s]"
     ]
    }
   ],
   "source": [
    "if 'model_files.csv' not in os.listdir():\n",
    "    print(datetime.datetime.today())\n",
    "    num_core=multiprocessing.cpu_count()\n",
    "    pd.set_option('mode.chained_assignment',  None) \n",
    "    with joblib.Parallel(n_jobs=num_core-2) as parallel:\n",
    "        model_files = parallel(joblib.delayed(get_feature)(i) for i in tqdm(files))\n",
    "    pd.set_option('mode.chained_assignment', 'warn')\n",
    "    model_files=pd.concat(model_files)\n",
    "    model_files.loc[model_files.sex=='F ','sex']='F'\n",
    "    model_files.loc[model_files.sex=='F ','sex']='F'\n",
    "    model_files.loc[model_files.sex=='f','sex']='F'\n",
    "    model_files.loc[model_files.sex=='m','sex']='M'\n",
    "    model_files[[\"F\",\"M\"]]=pd.get_dummies(model_files['sex'])\n",
    "    model_files=model_files.drop('sex',axis=1)\n",
    "    model_files=model_files.dropna()\n",
    "    model_files=model_files[model_files.path!=''].reset_index().drop('index',axis=1)\n",
    "    print(datetime.datetime.today())\n",
    "    model_files.to_csv(\"model_files.csv\",index=False)\n",
    "else:\n",
    "    model_files=pd.read_csv('model_files.csv')"
   ]
  },
  {
   "cell_type": "code",
   "execution_count": 6,
   "id": "ab9b807f-bb87-4662-ae48-c718aa3372c8",
   "metadata": {
    "execution": {
     "iopub.execute_input": "2022-11-29T17:18:48.243013Z",
     "iopub.status.busy": "2022-11-29T17:18:48.242888Z",
     "iopub.status.idle": "2022-11-29T17:18:48.251302Z",
     "shell.execute_reply": "2022-11-29T17:18:48.250808Z",
     "shell.execute_reply.started": "2022-11-29T17:18:48.242996Z"
    }
   },
   "outputs": [
    {
     "name": "stdout",
     "output_type": "stream",
     "text": [
      "Normal        6933\n",
      "Peripheral    6910\n",
      "Central       2683\n",
      "Name: diagnosis_group, dtype: int64\n",
      "Normal        0.419521\n",
      "Peripheral    0.418129\n",
      "Central       0.162350\n",
      "Name: diagnosis_group, dtype: float64\n"
     ]
    }
   ],
   "source": [
    "print(model_files.diagnosis_group.value_counts())\n",
    "print(model_files.diagnosis_group.value_counts()/model_files.diagnosis_group.value_counts().sum())"
   ]
  },
  {
   "cell_type": "markdown",
   "id": "e4f78a7c-8600-4919-9df1-f51dc3d7303e",
   "metadata": {},
   "source": [
    "## 모델링 수행"
   ]
  },
  {
   "cell_type": "code",
   "execution_count": 7,
   "id": "8a7ba5e4-8e31-4183-9cfa-1a13dcc4954d",
   "metadata": {
    "execution": {
     "iopub.execute_input": "2022-11-29T17:18:48.253455Z",
     "iopub.status.busy": "2022-11-29T17:18:48.253324Z",
     "iopub.status.idle": "2022-11-29T17:18:48.463038Z",
     "shell.execute_reply": "2022-11-29T17:18:48.462610Z",
     "shell.execute_reply.started": "2022-11-29T17:18:48.253437Z"
    },
    "tags": []
   },
   "outputs": [
    {
     "name": "stdout",
     "output_type": "stream",
     "text": [
      "2022-11-29 17:18:48.261116\n",
      "Normal        3741\n",
      "Peripheral    3656\n",
      "Central       1416\n",
      "Name: diagnosis_group, dtype: int64\n",
      "Peripheral    2322\n",
      "Normal        2291\n",
      "Central        896\n",
      "Name: diagnosis_group, dtype: int64\n",
      "Normal        3741\n",
      "Peripheral    3666\n",
      "Central       1406\n",
      "Name: diagnosis_group, dtype: int64\n",
      "Peripheral    2310\n",
      "Normal        2291\n",
      "Central        908\n",
      "Name: diagnosis_group, dtype: int64\n",
      "Peripheral    3700\n",
      "Normal        3677\n",
      "Central       1437\n",
      "Name: diagnosis_group, dtype: int64\n",
      "Normal        2351\n",
      "Peripheral    2278\n",
      "Central        879\n",
      "Name: diagnosis_group, dtype: int64\n",
      "2022-11-29 17:18:48.460890\n"
     ]
    }
   ],
   "source": [
    "print(datetime.datetime.today())\n",
    "kf = KFold(n_splits = 3, shuffle = True,random_state=42)\n",
    "target_label=np.array(['Abnormal','Normal'])\n",
    "params={\"num_leaves\":[20,40,60,80,100],\n",
    "        \"min_child_samples\":[5,10,15],\n",
    "        \"max_depth\":[-1,5,10,2],\n",
    "        \"learning_rate\":[0.05,0.1,0.2],\n",
    "        \"reg_alpha\":[0,0.01,0.03],\n",
    "       }\n",
    "\n",
    "dfs=list()\n",
    "tp_sum=dict();fn_sum=dict();fp_sum=dict();tn_sum=dict()\n",
    "for K, (train_idx,test_idx) in enumerate(kf.split(model_files),1):    \n",
    "    for cutoff in np.arange(0,1.1,0.05):\n",
    "        for target in target_label:\n",
    "            cond=f\"K_{K}_target_{target}_cutoff_{cutoff:.2f}\"\n",
    "            tp_sum[cond]=0;fn_sum[cond]=0;fp_sum[cond]=0;tn_sum[cond]=0\n",
    "    \n",
    "    train_files=model_files.loc[train_idx,:]\n",
    "    test_files=model_files.loc[test_idx,:]\n",
    "    tr_x=train_files.drop(['path','diagnosis_group'],axis=1)\n",
    "    tr_y=(train_files.diagnosis_group=='Normal').astype('u1')\n",
    "    \n",
    "    train_files, valid_files=train_test_split(\n",
    "        train_files, test_size=.2, random_state=42)\n",
    "    train_files=train_files.sort_index()\n",
    "    valid_files=valid_files.sort_index()\n",
    "    test_files=test_files.sort_index()\n",
    "\n",
    "    tr_x_=train_files.drop(['path','diagnosis_group'],axis=1)\n",
    "    tr_y_=(train_files.diagnosis_group=='Normal').astype('u1')\n",
    "    \n",
    "    val_x_=valid_files.drop(['path','diagnosis_group'],axis=1)\n",
    "    val_y_=(valid_files.diagnosis_group=='Normal').astype('u1')\n",
    "    \n",
    "    te_x=test_files.drop(['path','diagnosis_group'],axis=1)\n",
    "    te_y=(test_files.diagnosis_group=='Normal').astype('u1')\n",
    "\n",
    "    print(train_files.diagnosis_group.value_counts())    \n",
    "    print(test_files.diagnosis_group.value_counts())\n",
    "    ###################\n",
    "    class_weight={\n",
    "        0:.6,1:.4\n",
    "    }\n",
    "    \n",
    "#     lgbm=lgb.LGBMClassifier(\n",
    "#         n_estimators=400,random_state=10042,class_weight=class_weight)\n",
    "#     clf=GridSearchCV(lgbm,params,scoring=\"accuracy\",verbose=1,n_jobs=-1,cv=3)\n",
    "#     clf.fit(X=tr_x,y=tr_y)\n",
    "#     lgbm.set_params(**clf.best_params_)\n",
    "#     lgbm.fit(tr_x_, tr_y_, early_stopping_rounds=300,verbose=0,eval_set=[(val_x_,val_y_)])\n",
    "#     joblib.dump(lgbm,f'lgbm_{K}_fold_v2.pkl')\n",
    "    \n",
    "    lgbm=joblib.load(f'lgbm_{K}_fold_v2.pkl')\n",
    "    y_preds=lgbm.predict_proba(te_x)\n",
    "    test_files['pred']=np.apply_along_axis(np.argmax,1,y_preds)\n",
    "    test_files['y_true']=te_y\n",
    "    test_files['proba']=y_preds[:,1]\n",
    "    dfs.append(test_files)\n",
    "pd.concat(dfs).to_csv('진단모델_output_final.csv',index=False)\n",
    "print(datetime.datetime.today())"
   ]
  },
  {
   "cell_type": "code",
   "execution_count": 8,
   "id": "bd59413f-0f8a-498f-917c-c81018a48175",
   "metadata": {
    "execution": {
     "iopub.execute_input": "2022-11-29T17:18:48.464032Z",
     "iopub.status.busy": "2022-11-29T17:18:48.463906Z",
     "iopub.status.idle": "2022-11-29T17:18:48.472936Z",
     "shell.execute_reply": "2022-11-29T17:18:48.472582Z",
     "shell.execute_reply.started": "2022-11-29T17:18:48.464015Z"
    }
   },
   "outputs": [],
   "source": [
    "scores=dict()\n",
    "for i,df in enumerate(dfs):\n",
    "    scores.update({i:roc_auc_score(df.y_true, df.proba)})\n",
    "    \n",
    "with open(\"진단모델지표.json\", 'w') as outfile:\n",
    "    json.dump(scores, outfile)"
   ]
  },
  {
   "cell_type": "code",
   "execution_count": 9,
   "id": "29678094-4592-4c81-a244-b2cf5686c710",
   "metadata": {
    "execution": {
     "iopub.execute_input": "2022-11-29T17:18:48.473535Z",
     "iopub.status.busy": "2022-11-29T17:18:48.473438Z",
     "iopub.status.idle": "2022-11-29T17:18:48.478360Z",
     "shell.execute_reply": "2022-11-29T17:18:48.478000Z",
     "shell.execute_reply.started": "2022-11-29T17:18:48.473521Z"
    },
    "tags": []
   },
   "outputs": [
    {
     "data": {
      "text/plain": [
       "{0: 0.6737553438903113, 1: 0.7043176897520196, 2: 0.6725239881343666}"
      ]
     },
     "execution_count": 9,
     "metadata": {},
     "output_type": "execute_result"
    }
   ],
   "source": [
    "scores"
   ]
  }
 ],
 "metadata": {
  "kernelspec": {
   "display_name": "Python 3 (ipykernel)",
   "language": "python",
   "name": "python3"
  },
  "language_info": {
   "codemirror_mode": {
    "name": "ipython",
    "version": 3
   },
   "file_extension": ".py",
   "mimetype": "text/x-python",
   "name": "python",
   "nbconvert_exporter": "python",
   "pygments_lexer": "ipython3",
   "version": "3.8.10"
  }
 },
 "nbformat": 4,
 "nbformat_minor": 5
}
