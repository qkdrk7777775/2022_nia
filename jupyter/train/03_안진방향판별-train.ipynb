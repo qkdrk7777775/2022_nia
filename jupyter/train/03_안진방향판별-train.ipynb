{
 "cells": [
  {
   "cell_type": "code",
   "execution_count": 1,
   "id": "7ec98636-1317-4da5-8ae7-611ca8e97f0a",
   "metadata": {
    "execution": {
     "iopub.execute_input": "2022-11-25T10:47:29.835681Z",
     "iopub.status.busy": "2022-11-25T10:47:29.835483Z",
     "iopub.status.idle": "2022-11-25T10:47:31.716102Z",
     "shell.execute_reply": "2022-11-25T10:47:31.715563Z",
     "shell.execute_reply.started": "2022-11-25T10:47:29.835664Z"
    },
    "tags": []
   },
   "outputs": [
    {
     "name": "stdout",
     "output_type": "stream",
     "text": [
      "2022-11-25 10:47:31.714064\n"
     ]
    }
   ],
   "source": [
    "import os, glob, cv2, shutil, joblib,gc, random, re\n",
    "import tensorflow as tf\n",
    "import numpy as np\n",
    "import tqdm\n",
    "from tqdm import tqdm\n",
    "import matplotlib.pyplot as plt\n",
    "import pandas as pd\n",
    "from datetime import datetime\n",
    "from sklearn.model_selection import train_test_split, KFold\n",
    "from sklearn import metrics\n",
    "import skimage\n",
    "import random\n",
    "import warnings\n",
    "warnings.filterwarnings(action='ignore')\n",
    "import datetime\n",
    "print(datetime.datetime.today())"
   ]
  },
  {
   "cell_type": "code",
   "execution_count": 2,
   "id": "75fa067c-593a-4b0d-b13d-344994d97cfd",
   "metadata": {
    "execution": {
     "iopub.execute_input": "2022-11-25T10:47:31.721053Z",
     "iopub.status.busy": "2022-11-25T10:47:31.720961Z",
     "iopub.status.idle": "2022-11-25T10:47:32.281316Z",
     "shell.execute_reply": "2022-11-25T10:47:32.280907Z",
     "shell.execute_reply.started": "2022-11-25T10:47:31.721040Z"
    },
    "tags": []
   },
   "outputs": [],
   "source": [
    "if not \"label_df.csv\" in os.listdir():\n",
    "\n",
    "    df=pd.read_csv(\"/lustre/data/vHIT/s3/create_annotation/20221122/01_segmentation_may_be_succeeded.tsv\",sep='\\t')\n",
    "    df.output_path=[i.replace(\"create_annotation\",\"upload\").replace(\"first.\",'') for i in df.output_path]\n",
    "\n",
    "    files=list();h_tags=list();v_tags=list()\n",
    "    for sub_path in tqdm(df.output_path):\n",
    "        sub_df=pd.read_csv(sub_path,sep='\\t')\n",
    "        if 'horizontal_tagging' in sub_df.columns:\n",
    "            for frame,h_tag, v_tag in sub_df[['frame_number','horizontal_tagging','vertical_tagging']].values:\n",
    "                find_file=glob.glob(f\"{os.path.dirname(sub_path)}/horizontal_vertical/*_{frame}-all.avi\")\n",
    "                if len(find_file)==1:\n",
    "                    files.append(find_file[0])\n",
    "                    h_tags.append(h_tag)\n",
    "                    v_tags.append(v_tag)\n",
    "    label_df=pd.DataFrame({\"files\":files,'horizontal_tagging':h_tags,'vertical_tagging':v_tags})\n",
    "    label_df.to_csv(\"label_df.csv\",index=False)\n",
    "label_df=pd.read_csv(\"label_df.csv\")\n",
    "label_df.horizontal_tagging=label_df.horizontal_tagging.fillna('mid')\n",
    "label_df.vertical_tagging=label_df.vertical_tagging.fillna('mid')"
   ]
  },
  {
   "cell_type": "code",
   "execution_count": 3,
   "id": "d07f455e-0310-4978-92da-258babe5fcd3",
   "metadata": {
    "execution": {
     "iopub.execute_input": "2022-11-25T10:47:49.051788Z",
     "iopub.status.busy": "2022-11-25T10:47:49.051577Z",
     "iopub.status.idle": "2022-11-25T10:47:49.063366Z",
     "shell.execute_reply": "2022-11-25T10:47:49.062933Z",
     "shell.execute_reply.started": "2022-11-25T10:47:49.051769Z"
    },
    "tags": []
   },
   "outputs": [
    {
     "name": "stdout",
     "output_type": "stream",
     "text": [
      "2022-11-25 10:47:49.061444\n"
     ]
    }
   ],
   "source": [
    "def video_gray2rgb(df):\n",
    "    out=np.zeros(df.shape[:3]+(3,),dtype='u1')\n",
    "    for i in range(df.shape[0]):\n",
    "        img=cv2.cvtColor(df[i,:,:,0],cv2.COLOR_GRAY2RGB)\n",
    "        out[i,:,:,:]=img   \n",
    "        del img\n",
    "    return out\n",
    "def batch_avi(data,idx,BATCH_SIZE=1024,\n",
    "              font=cv2.FONT_HERSHEY_SIMPLEX):\n",
    "    \n",
    "    def label_vis(data,i,font):\n",
    "        input_img=cv2.cvtColor(\n",
    "            data[i,:,:,0],cv2.COLOR_GRAY2RGB).astype('u1')\n",
    "        pred_img=cv2.cvtColor(\n",
    "            data[i,:,:,1]*255,cv2.COLOR_GRAY2RGB).astype('u1')\n",
    "        pred_img[:,:,(0,2)]=0\n",
    "        \n",
    "        label_img=cv2.addWeighted(input_img,1,pred_img,.2,0)\n",
    "        text=f\"Index : {i}\"\n",
    "        cv2.putText(label_img,text, (80,30),font,1,(255,0,0),2)\n",
    "        \n",
    "        return np.expand_dims(label_img,axis=0)\n",
    "    return np.concatenate(\n",
    "        [label_vis(data,i, font) \n",
    "         for i in range(\n",
    "             (BATCH_SIZE*idx),(np.min([data.shape[0],(idx+1)*BATCH_SIZE])))])\n",
    "\n",
    "def write_avi(data,file_name,fps=30):\n",
    "    fourcc = cv2.VideoWriter_fourcc(*\"DIVX\")\n",
    "    (width, height)=data.shape[1:3]\n",
    "    out = cv2.VideoWriter(file_name, fourcc, fps, (height, width),isColor=True)\n",
    "    for i in range(len(data)):\n",
    "        out.write(data[i])\n",
    "    out.release()\n",
    "    \n",
    "def my_confusion_matrix(y_true,y_pred,cutoff=.5):\n",
    "    label_true=y_true>=.5\n",
    "    pred_true=y_pred>=cutoff\n",
    "    label_false= ~ label_true\n",
    "    pred_false = ~ pred_true\n",
    "    tp=np.sum(label_true&pred_true)\n",
    "    fn=np.sum(label_true)-tp\n",
    "    fp=np.sum(label_false&pred_true)\n",
    "    tn=np.sum(label_false)-fp\n",
    "    return tp,fn,fp,tn\n",
    "\n",
    "\n",
    "def read_avi(file):\n",
    "    data=list()\n",
    "    cap = cv2.VideoCapture(file)\n",
    "    batch=20\n",
    "    cnt=0\n",
    "    while(cap.isOpened()):\n",
    "        ret, frame = cap.read()\n",
    "        if ret:\n",
    "            frame=cv2.resize(frame,(320,240))\n",
    "            frame=cv2.cvtColor(frame,cv2.COLOR_RGB2GRAY)\n",
    "            frame=np.expand_dims(frame/255, axis=0)\n",
    "            data.append(frame)\n",
    "            cnt+=1\n",
    "            cv2.waitKey(1)\n",
    "        else:\n",
    "            break\n",
    "        if cnt==batch:\n",
    "            break\n",
    "    cap.release()\n",
    "    cv2.destroyAllWindows()\n",
    "    out=np.concatenate(data).astype('float')\n",
    "    if out.shape[0]!=batch:\n",
    "        out=np.concatenate([out,np.zeros((batch-out.shape[0],240,320),dtype=np.float)],axis=0).astype('float')\n",
    "    out=np.diff(out,axis=0)[:].sum(axis=0)\n",
    "    out=(((out-out.min())/(out.max()-out.min()))*255).astype('u1')\n",
    "    return out.copy()\n",
    "print(datetime.datetime.today())"
   ]
  },
  {
   "cell_type": "code",
   "execution_count": 4,
   "id": "ecbe645b-6dcb-4b08-8293-7f12b8940472",
   "metadata": {
    "execution": {
     "iopub.execute_input": "2022-11-25T10:47:51.474037Z",
     "iopub.status.busy": "2022-11-25T10:47:51.473517Z",
     "iopub.status.idle": "2022-11-25T10:47:51.480121Z",
     "shell.execute_reply": "2022-11-25T10:47:51.479684Z",
     "shell.execute_reply.started": "2022-11-25T10:47:51.474008Z"
    },
    "tags": []
   },
   "outputs": [
    {
     "name": "stdout",
     "output_type": "stream",
     "text": [
      "2022-11-25 10:47:51.478132\n"
     ]
    }
   ],
   "source": [
    "def my_generator(label_df):\n",
    "    def generator():\n",
    "        label=np.array([\n",
    "            [6,7,8],[3,4,5],[0,1,2]])\n",
    "        for (file,y1,y2) in label_df.values:\n",
    "            x=read_avi(os.path.realpath(file))/255\n",
    "            # y=label[np.where([y2==i for i in ['down','mid','up']])[0],\n",
    "            #         np.where([y1==i for i in ['right','mid','left']])[0]]\n",
    "            # yield x, y\n",
    "            out2=np.zeros(3);out3=np.zeros(3)\n",
    "            \n",
    "            if y1=='left':\n",
    "                out2[0]=1\n",
    "            elif y1=='mid':\n",
    "                out2[1]=1\n",
    "            elif y1=='right':\n",
    "                out2[2]=1\n",
    "            \n",
    "            if y2=='up':\n",
    "                out3[0]=1\n",
    "            elif y2=='mid':\n",
    "                out3[1]=1\n",
    "            elif y2=='down':\n",
    "                out3[2]=1\n",
    "\n",
    "            yield x, (out2,out3)\n",
    "    return generator\n",
    "print(datetime.datetime.today())"
   ]
  },
  {
   "cell_type": "code",
   "execution_count": 5,
   "id": "5df6ad1b-5185-4b9d-9f6b-a622467fbe70",
   "metadata": {
    "execution": {
     "iopub.execute_input": "2022-11-25T10:47:53.297641Z",
     "iopub.status.busy": "2022-11-25T10:47:53.297330Z",
     "iopub.status.idle": "2022-11-25T10:47:54.553794Z",
     "shell.execute_reply": "2022-11-25T10:47:54.553372Z",
     "shell.execute_reply.started": "2022-11-25T10:47:53.297613Z"
    },
    "tags": []
   },
   "outputs": [
    {
     "name": "stderr",
     "output_type": "stream",
     "text": [
      "2022-11-25 10:47:53.354738: I tensorflow/stream_executor/cuda/cuda_gpu_executor.cc:936] successful NUMA node read from SysFS had negative value (-1), but there must be at least one NUMA node, so returning NUMA node zero\n",
      "2022-11-25 10:47:53.358728: I tensorflow/stream_executor/cuda/cuda_gpu_executor.cc:936] successful NUMA node read from SysFS had negative value (-1), but there must be at least one NUMA node, so returning NUMA node zero\n",
      "2022-11-25 10:47:53.359044: I tensorflow/stream_executor/cuda/cuda_gpu_executor.cc:936] successful NUMA node read from SysFS had negative value (-1), but there must be at least one NUMA node, so returning NUMA node zero\n",
      "2022-11-25 10:47:53.359524: I tensorflow/core/platform/cpu_feature_guard.cc:151] This TensorFlow binary is optimized with oneAPI Deep Neural Network Library (oneDNN) to use the following CPU instructions in performance-critical operations:  AVX2 FMA\n",
      "To enable them in other operations, rebuild TensorFlow with the appropriate compiler flags.\n",
      "2022-11-25 10:47:53.359904: I tensorflow/stream_executor/cuda/cuda_gpu_executor.cc:936] successful NUMA node read from SysFS had negative value (-1), but there must be at least one NUMA node, so returning NUMA node zero\n",
      "2022-11-25 10:47:53.360216: I tensorflow/stream_executor/cuda/cuda_gpu_executor.cc:936] successful NUMA node read from SysFS had negative value (-1), but there must be at least one NUMA node, so returning NUMA node zero\n",
      "2022-11-25 10:47:53.360510: I tensorflow/stream_executor/cuda/cuda_gpu_executor.cc:936] successful NUMA node read from SysFS had negative value (-1), but there must be at least one NUMA node, so returning NUMA node zero\n",
      "2022-11-25 10:47:53.705038: I tensorflow/stream_executor/cuda/cuda_gpu_executor.cc:936] successful NUMA node read from SysFS had negative value (-1), but there must be at least one NUMA node, so returning NUMA node zero\n",
      "2022-11-25 10:47:53.705331: I tensorflow/stream_executor/cuda/cuda_gpu_executor.cc:936] successful NUMA node read from SysFS had negative value (-1), but there must be at least one NUMA node, so returning NUMA node zero\n",
      "2022-11-25 10:47:53.705587: I tensorflow/stream_executor/cuda/cuda_gpu_executor.cc:936] successful NUMA node read from SysFS had negative value (-1), but there must be at least one NUMA node, so returning NUMA node zero\n",
      "2022-11-25 10:47:53.705820: I tensorflow/core/common_runtime/gpu/gpu_device.cc:1525] Created device /job:localhost/replica:0/task:0/device:GPU:0 with 4418 MB memory:  -> device: 0, name: NVIDIA GeForce RTX 2060, pci bus id: 0000:05:00.0, compute capability: 7.5\n"
     ]
    },
    {
     "name": "stdout",
     "output_type": "stream",
     "text": [
      "2022-11-25 10:47:54.551952\n"
     ]
    }
   ],
   "source": [
    "model=tf.keras.models.load_model('수평수직모델.h5',compile=False)\n",
    "print(datetime.datetime.today())"
   ]
  },
  {
   "cell_type": "markdown",
   "id": "81dac628-978d-49d8-9750-383328e11884",
   "metadata": {},
   "source": [
    "# 모델링"
   ]
  },
  {
   "cell_type": "markdown",
   "id": "12192e8a-9f8b-4760-b061-03106f92b630",
   "metadata": {},
   "source": [
    "## 모델 확인"
   ]
  },
  {
   "cell_type": "markdown",
   "id": "76fbfc85-d8f9-4263-9c2e-3d73fb54495d",
   "metadata": {},
   "source": [
    "### Train"
   ]
  },
  {
   "cell_type": "code",
   "execution_count": 6,
   "id": "1aaa70a3-31b8-4985-bead-4a16379d078b",
   "metadata": {
    "execution": {
     "iopub.execute_input": "2022-11-25T10:47:59.829055Z",
     "iopub.status.busy": "2022-11-25T10:47:59.828782Z",
     "iopub.status.idle": "2022-11-25T10:48:00.015651Z",
     "shell.execute_reply": "2022-11-25T10:48:00.015206Z",
     "shell.execute_reply.started": "2022-11-25T10:47:59.829027Z"
    },
    "tags": []
   },
   "outputs": [],
   "source": [
    "kf = KFold(n_splits = 3, shuffle = False)\n",
    "output_type='float32';output_shape=(240,320);\n",
    "y_shape=(3,3);y_type=(output_type,output_type)\n",
    "\n",
    "for K, (train_idx,test_idx) in enumerate(kf.split(label_df),1):\n",
    "    \n",
    "    train_files=label_df.loc[train_idx]\n",
    "    test_files=label_df.loc[test_idx]\n",
    "    train_files, valid_files=train_test_split(\n",
    "        train_files, test_size=.2, random_state=42)\n",
    "    train_files=train_files.sample(\n",
    "        frac=1,random_state=42).reset_index().drop('index',axis=1)\n",
    "    with tf.device(\"/cpu:0\"):\n",
    "        random.seed(42)\n",
    "        tr_dataset=tf.data.Dataset.from_generator(\n",
    "            my_generator(train_files),\n",
    "            output_shapes=(output_shape, y_shape),\n",
    "            output_types=(output_type, y_type))\n",
    "\n",
    "        random.seed(42)\n",
    "        te_dataset=tf.data.Dataset.from_generator(\n",
    "            my_generator(test_files),\n",
    "            output_shapes=(output_shape, y_shape),\n",
    "            output_types=(output_type, y_type))\n",
    "        random.seed(42)\n",
    "        val_dataset=tf.data.Dataset.from_generator(\n",
    "            my_generator(valid_files),\n",
    "            output_shapes=(output_shape, y_shape),\n",
    "            output_types=(output_type, y_type))\n",
    "        tr_gen =tr_dataset.batch(256).prefetch(1)\n",
    "        te_gen =te_dataset.batch(1).prefetch(1)\n",
    "        val_gen=val_dataset.batch(256).prefetch(1)\n",
    "    break"
   ]
  },
  {
   "cell_type": "code",
   "execution_count": 8,
   "id": "4315d2ea-3633-42c3-91d0-50d7b06ae683",
   "metadata": {
    "execution": {
     "iopub.execute_input": "2022-11-25T10:48:24.569476Z",
     "iopub.status.busy": "2022-11-25T10:48:24.569273Z",
     "iopub.status.idle": "2022-11-25T10:48:54.705350Z",
     "shell.execute_reply": "2022-11-25T10:48:54.704746Z",
     "shell.execute_reply.started": "2022-11-25T10:48:24.569458Z"
    },
    "tags": []
   },
   "outputs": [
    {
     "name": "stdout",
     "output_type": "stream",
     "text": [
      "Epoch 1/500\n"
     ]
    },
    {
     "name": "stderr",
     "output_type": "stream",
     "text": [
      "2022-11-25 10:48:43.536715: W tensorflow/core/common_runtime/bfc_allocator.cc:462] Allocator (GPU_0_bfc) ran out of memory trying to allocate 2.31GiB (rounded to 2480013312)requested by op model_4/conv2d_81/Conv2D\n",
      "If the cause is memory fragmentation maybe the environment variable 'TF_GPU_ALLOCATOR=cuda_malloc_async' will improve the situation. \n",
      "Current allocation summary follows.\n",
      "Current allocation summary follows.\n",
      "2022-11-25 10:48:43.536797: I tensorflow/core/common_runtime/bfc_allocator.cc:1010] BFCAllocator dump for GPU_0_bfc\n",
      "2022-11-25 10:48:43.536822: I tensorflow/core/common_runtime/bfc_allocator.cc:1017] Bin (256): \tTotal Chunks: 80, Chunks in use: 79. 20.0KiB allocated for chunks. 19.8KiB in use in bin. 5.9KiB client-requested in use in bin.\n",
      "2022-11-25 10:48:43.536831: I tensorflow/core/common_runtime/bfc_allocator.cc:1017] Bin (512): \tTotal Chunks: 6, Chunks in use: 6. 3.0KiB allocated for chunks. 3.0KiB in use in bin. 3.0KiB client-requested in use in bin.\n",
      "2022-11-25 10:48:43.536839: I tensorflow/core/common_runtime/bfc_allocator.cc:1017] Bin (1024): \tTotal Chunks: 10, Chunks in use: 10. 14.8KiB allocated for chunks. 14.8KiB in use in bin. 13.4KiB client-requested in use in bin.\n",
      "2022-11-25 10:48:43.536848: I tensorflow/core/common_runtime/bfc_allocator.cc:1017] Bin (2048): \tTotal Chunks: 7, Chunks in use: 7. 19.8KiB allocated for chunks. 19.8KiB in use in bin. 19.4KiB client-requested in use in bin.\n",
      "2022-11-25 10:48:43.536855: I tensorflow/core/common_runtime/bfc_allocator.cc:1017] Bin (4096): \tTotal Chunks: 3, Chunks in use: 3. 16.5KiB allocated for chunks. 16.5KiB in use in bin. 9.4KiB client-requested in use in bin.\n",
      "2022-11-25 10:48:43.536863: I tensorflow/core/common_runtime/bfc_allocator.cc:1017] Bin (8192): \tTotal Chunks: 0, Chunks in use: 0. 0B allocated for chunks. 0B in use in bin. 0B client-requested in use in bin.\n",
      "2022-11-25 10:48:43.536870: I tensorflow/core/common_runtime/bfc_allocator.cc:1017] Bin (16384): \tTotal Chunks: 0, Chunks in use: 0. 0B allocated for chunks. 0B in use in bin. 0B client-requested in use in bin.\n",
      "2022-11-25 10:48:43.536877: I tensorflow/core/common_runtime/bfc_allocator.cc:1017] Bin (32768): \tTotal Chunks: 0, Chunks in use: 0. 0B allocated for chunks. 0B in use in bin. 0B client-requested in use in bin.\n",
      "2022-11-25 10:48:43.536886: I tensorflow/core/common_runtime/bfc_allocator.cc:1017] Bin (65536): \tTotal Chunks: 6, Chunks in use: 6. 432.0KiB allocated for chunks. 432.0KiB in use in bin. 432.0KiB client-requested in use in bin.\n",
      "2022-11-25 10:48:43.536894: I tensorflow/core/common_runtime/bfc_allocator.cc:1017] Bin (131072): \tTotal Chunks: 9, Chunks in use: 8. 1.61MiB allocated for chunks. 1.37MiB in use in bin. 1.23MiB client-requested in use in bin.\n",
      "2022-11-25 10:48:43.536901: I tensorflow/core/common_runtime/bfc_allocator.cc:1017] Bin (262144): \tTotal Chunks: 3, Chunks in use: 3. 1.16MiB allocated for chunks. 1.16MiB in use in bin. 1000.0KiB client-requested in use in bin.\n",
      "2022-11-25 10:48:43.536909: I tensorflow/core/common_runtime/bfc_allocator.cc:1017] Bin (524288): \tTotal Chunks: 1, Chunks in use: 1. 512.0KiB allocated for chunks. 512.0KiB in use in bin. 400.0KiB client-requested in use in bin.\n",
      "2022-11-25 10:48:43.536916: I tensorflow/core/common_runtime/bfc_allocator.cc:1017] Bin (1048576): \tTotal Chunks: 0, Chunks in use: 0. 0B allocated for chunks. 0B in use in bin. 0B client-requested in use in bin.\n",
      "2022-11-25 10:48:43.536923: I tensorflow/core/common_runtime/bfc_allocator.cc:1017] Bin (2097152): \tTotal Chunks: 0, Chunks in use: 0. 0B allocated for chunks. 0B in use in bin. 0B client-requested in use in bin.\n",
      "2022-11-25 10:48:43.536930: I tensorflow/core/common_runtime/bfc_allocator.cc:1017] Bin (4194304): \tTotal Chunks: 0, Chunks in use: 0. 0B allocated for chunks. 0B in use in bin. 0B client-requested in use in bin.\n",
      "2022-11-25 10:48:43.536936: I tensorflow/core/common_runtime/bfc_allocator.cc:1017] Bin (8388608): \tTotal Chunks: 0, Chunks in use: 0. 0B allocated for chunks. 0B in use in bin. 0B client-requested in use in bin.\n",
      "2022-11-25 10:48:43.536943: I tensorflow/core/common_runtime/bfc_allocator.cc:1017] Bin (16777216): \tTotal Chunks: 0, Chunks in use: 0. 0B allocated for chunks. 0B in use in bin. 0B client-requested in use in bin.\n",
      "2022-11-25 10:48:43.536950: I tensorflow/core/common_runtime/bfc_allocator.cc:1017] Bin (33554432): \tTotal Chunks: 0, Chunks in use: 0. 0B allocated for chunks. 0B in use in bin. 0B client-requested in use in bin.\n",
      "2022-11-25 10:48:43.536957: I tensorflow/core/common_runtime/bfc_allocator.cc:1017] Bin (67108864): \tTotal Chunks: 0, Chunks in use: 0. 0B allocated for chunks. 0B in use in bin. 0B client-requested in use in bin.\n",
      "2022-11-25 10:48:43.536965: I tensorflow/core/common_runtime/bfc_allocator.cc:1017] Bin (134217728): \tTotal Chunks: 4, Chunks in use: 4. 529.65MiB allocated for chunks. 529.65MiB in use in bin. 474.00MiB client-requested in use in bin.\n",
      "2022-11-25 10:48:43.536975: I tensorflow/core/common_runtime/bfc_allocator.cc:1017] Bin (268435456): \tTotal Chunks: 5, Chunks in use: 3. 3.79GiB allocated for chunks. 798.12MiB in use in bin. 796.22MiB client-requested in use in bin.\n",
      "2022-11-25 10:48:43.536986: I tensorflow/core/common_runtime/bfc_allocator.cc:1033] Bin for 2.31GiB was 256.00MiB, Chunk State: \n",
      "2022-11-25 10:48:43.537001: I tensorflow/core/common_runtime/bfc_allocator.cc:1039]   Size: 796.22MiB | Requested Size: 72.0KiB | in_use: 0 | bin_num: 20, prev:   Size: 133.00MiB | Requested Size: 133.00MiB | in_use: 1 | bin_num: -1, next:   Size: 265.41MiB | Requested Size: 265.41MiB | in_use: 1 | bin_num: -1\n",
      "2022-11-25 10:48:43.537013: I tensorflow/core/common_runtime/bfc_allocator.cc:1039]   Size: 2.24GiB | Requested Size: 144.0KiB | in_use: 0 | bin_num: 20, prev:   Size: 265.41MiB | Requested Size: 265.41MiB | in_use: 1 | bin_num: -1\n",
      "2022-11-25 10:48:43.537019: I tensorflow/core/common_runtime/bfc_allocator.cc:1046] Next region of size 4632674304\n",
      "2022-11-25 10:48:43.537027: I tensorflow/core/common_runtime/bfc_allocator.cc:1066] InUse at 7f3ada000000 of size 1280 next 1\n",
      "2022-11-25 10:48:43.537034: I tensorflow/core/common_runtime/bfc_allocator.cc:1066] InUse at 7f3ada000500 of size 256 next 2\n",
      "2022-11-25 10:48:43.537039: I tensorflow/core/common_runtime/bfc_allocator.cc:1066] InUse at 7f3ada000600 of size 256 next 3\n",
      "2022-11-25 10:48:43.537045: I tensorflow/core/common_runtime/bfc_allocator.cc:1066] InUse at 7f3ada000700 of size 256 next 4\n",
      "2022-11-25 10:48:43.537051: I tensorflow/core/common_runtime/bfc_allocator.cc:1066] InUse at 7f3ada000800 of size 256 next 5\n",
      "2022-11-25 10:48:43.537056: I tensorflow/core/common_runtime/bfc_allocator.cc:1066] InUse at 7f3ada000900 of size 256 next 8\n",
      "2022-11-25 10:48:43.537062: I tensorflow/core/common_runtime/bfc_allocator.cc:1066] InUse at 7f3ada000a00 of size 256 next 9\n",
      "2022-11-25 10:48:43.537067: I tensorflow/core/common_runtime/bfc_allocator.cc:1066] InUse at 7f3ada000b00 of size 256 next 7\n",
      "2022-11-25 10:48:43.537073: I tensorflow/core/common_runtime/bfc_allocator.cc:1066] InUse at 7f3ada000c00 of size 256 next 13\n",
      "2022-11-25 10:48:43.537079: I tensorflow/core/common_runtime/bfc_allocator.cc:1066] InUse at 7f3ada000d00 of size 256 next 15\n",
      "2022-11-25 10:48:43.537084: I tensorflow/core/common_runtime/bfc_allocator.cc:1066] InUse at 7f3ada000e00 of size 256 next 16\n",
      "2022-11-25 10:48:43.537090: I tensorflow/core/common_runtime/bfc_allocator.cc:1066] InUse at 7f3ada000f00 of size 256 next 17\n",
      "2022-11-25 10:48:43.537100: I tensorflow/core/common_runtime/bfc_allocator.cc:1066] InUse at 7f3ada001000 of size 256 next 20\n",
      "2022-11-25 10:48:43.537110: I tensorflow/core/common_runtime/bfc_allocator.cc:1066] InUse at 7f3ada001100 of size 256 next 6\n",
      "2022-11-25 10:48:43.537120: I tensorflow/core/common_runtime/bfc_allocator.cc:1066] InUse at 7f3ada001200 of size 512 next 35\n",
      "2022-11-25 10:48:43.537130: I tensorflow/core/common_runtime/bfc_allocator.cc:1066] InUse at 7f3ada001400 of size 512 next 69\n",
      "2022-11-25 10:48:43.537138: I tensorflow/core/common_runtime/bfc_allocator.cc:1066] InUse at 7f3ada001600 of size 256 next 64\n",
      "2022-11-25 10:48:43.537144: I tensorflow/core/common_runtime/bfc_allocator.cc:1066] InUse at 7f3ada001700 of size 256 next 72\n",
      "2022-11-25 10:48:43.537149: I tensorflow/core/common_runtime/bfc_allocator.cc:1066] InUse at 7f3ada001800 of size 256 next 24\n",
      "2022-11-25 10:48:43.537155: I tensorflow/core/common_runtime/bfc_allocator.cc:1066] InUse at 7f3ada001900 of size 256 next 26\n",
      "2022-11-25 10:48:43.537161: I tensorflow/core/common_runtime/bfc_allocator.cc:1066] InUse at 7f3ada001a00 of size 256 next 27\n",
      "2022-11-25 10:48:43.537166: I tensorflow/core/common_runtime/bfc_allocator.cc:1066] InUse at 7f3ada001b00 of size 256 next 28\n",
      "2022-11-25 10:48:43.537172: I tensorflow/core/common_runtime/bfc_allocator.cc:1066] InUse at 7f3ada001c00 of size 256 next 30\n",
      "2022-11-25 10:48:43.537177: I tensorflow/core/common_runtime/bfc_allocator.cc:1066] InUse at 7f3ada001d00 of size 256 next 31\n",
      "2022-11-25 10:48:43.537183: I tensorflow/core/common_runtime/bfc_allocator.cc:1066] InUse at 7f3ada001e00 of size 256 next 80\n",
      "2022-11-25 10:48:43.537188: I tensorflow/core/common_runtime/bfc_allocator.cc:1066] InUse at 7f3ada001f00 of size 256 next 36\n",
      "2022-11-25 10:48:43.537194: I tensorflow/core/common_runtime/bfc_allocator.cc:1066] InUse at 7f3ada002000 of size 256 next 37\n",
      "2022-11-25 10:48:43.537200: I tensorflow/core/common_runtime/bfc_allocator.cc:1066] InUse at 7f3ada002100 of size 256 next 38\n",
      "2022-11-25 10:48:43.537206: I tensorflow/core/common_runtime/bfc_allocator.cc:1066] InUse at 7f3ada002200 of size 256 next 57\n",
      "2022-11-25 10:48:43.537212: I tensorflow/core/common_runtime/bfc_allocator.cc:1066] InUse at 7f3ada002300 of size 256 next 39\n",
      "2022-11-25 10:48:43.537218: I tensorflow/core/common_runtime/bfc_allocator.cc:1066] InUse at 7f3ada002400 of size 256 next 42\n",
      "2022-11-25 10:48:43.537223: I tensorflow/core/common_runtime/bfc_allocator.cc:1066] InUse at 7f3ada002500 of size 256 next 43\n",
      "2022-11-25 10:48:43.537229: I tensorflow/core/common_runtime/bfc_allocator.cc:1066] InUse at 7f3ada002600 of size 256 next 49\n",
      "2022-11-25 10:48:43.537234: I tensorflow/core/common_runtime/bfc_allocator.cc:1066] InUse at 7f3ada002700 of size 256 next 44\n",
      "2022-11-25 10:48:43.537240: I tensorflow/core/common_runtime/bfc_allocator.cc:1066] InUse at 7f3ada002800 of size 256 next 47\n",
      "2022-11-25 10:48:43.537245: I tensorflow/core/common_runtime/bfc_allocator.cc:1066] InUse at 7f3ada002900 of size 256 next 48\n",
      "2022-11-25 10:48:43.537251: I tensorflow/core/common_runtime/bfc_allocator.cc:1066] InUse at 7f3ada002a00 of size 256 next 46\n",
      "2022-11-25 10:48:43.537257: I tensorflow/core/common_runtime/bfc_allocator.cc:1066] InUse at 7f3ada002b00 of size 256 next 52\n",
      "2022-11-25 10:48:43.537262: I tensorflow/core/common_runtime/bfc_allocator.cc:1066] InUse at 7f3ada002c00 of size 256 next 54\n",
      "2022-11-25 10:48:43.537268: I tensorflow/core/common_runtime/bfc_allocator.cc:1066] InUse at 7f3ada002d00 of size 6400 next 74\n",
      "2022-11-25 10:48:43.537274: I tensorflow/core/common_runtime/bfc_allocator.cc:1066] InUse at 7f3ada004600 of size 256 next 61\n",
      "2022-11-25 10:48:43.537279: I tensorflow/core/common_runtime/bfc_allocator.cc:1066] InUse at 7f3ada004700 of size 256 next 82\n",
      "2022-11-25 10:48:43.537285: I tensorflow/core/common_runtime/bfc_allocator.cc:1066] InUse at 7f3ada004800 of size 5120 next 76\n",
      "2022-11-25 10:48:43.537291: I tensorflow/core/common_runtime/bfc_allocator.cc:1066] InUse at 7f3ada005c00 of size 256 next 60\n",
      "2022-11-25 10:48:43.537296: I tensorflow/core/common_runtime/bfc_allocator.cc:1066] InUse at 7f3ada005d00 of size 256 next 53\n",
      "2022-11-25 10:48:43.537302: I tensorflow/core/common_runtime/bfc_allocator.cc:1066] InUse at 7f3ada005e00 of size 256 next 29\n",
      "2022-11-25 10:48:43.537308: I tensorflow/core/common_runtime/bfc_allocator.cc:1066] InUse at 7f3ada005f00 of size 409600 next 12\n",
      "2022-11-25 10:48:43.537314: I tensorflow/core/common_runtime/bfc_allocator.cc:1066] InUse at 7f3ada069f00 of size 256 next 45\n",
      "2022-11-25 10:48:43.537319: I tensorflow/core/common_runtime/bfc_allocator.cc:1066] InUse at 7f3ada06a000 of size 147456 next 18\n",
      "2022-11-25 10:48:43.537326: I tensorflow/core/common_runtime/bfc_allocator.cc:1066] InUse at 7f3ada08e000 of size 256 next 23\n",
      "2022-11-25 10:48:43.537331: I tensorflow/core/common_runtime/bfc_allocator.cc:1066] InUse at 7f3ada08e100 of size 512 next 19\n",
      "2022-11-25 10:48:43.537337: I tensorflow/core/common_runtime/bfc_allocator.cc:1066] InUse at 7f3ada08e300 of size 512 next 93\n",
      "2022-11-25 10:48:43.537343: I tensorflow/core/common_runtime/bfc_allocator.cc:1066] InUse at 7f3ada08e500 of size 1536 next 113\n",
      "2022-11-25 10:48:43.537349: I tensorflow/core/common_runtime/bfc_allocator.cc:1066] InUse at 7f3ada08eb00 of size 256 next 114\n",
      "2022-11-25 10:48:43.537355: I tensorflow/core/common_runtime/bfc_allocator.cc:1066] InUse at 7f3ada08ec00 of size 1536 next 115\n",
      "2022-11-25 10:48:43.537360: I tensorflow/core/common_runtime/bfc_allocator.cc:1066] InUse at 7f3ada08f200 of size 256 next 116\n",
      "2022-11-25 10:48:43.537366: I tensorflow/core/common_runtime/bfc_allocator.cc:1066] InUse at 7f3ada08f300 of size 256 next 117\n",
      "2022-11-25 10:48:43.537374: I tensorflow/core/common_runtime/bfc_allocator.cc:1066] InUse at 7f3ada08f400 of size 256 next 118\n",
      "2022-11-25 10:48:43.537380: I tensorflow/core/common_runtime/bfc_allocator.cc:1066] InUse at 7f3ada08f500 of size 256 next 119\n",
      "2022-11-25 10:48:43.537385: I tensorflow/core/common_runtime/bfc_allocator.cc:1066] InUse at 7f3ada08f600 of size 256 next 120\n",
      "2022-11-25 10:48:43.537391: I tensorflow/core/common_runtime/bfc_allocator.cc:1066] InUse at 7f3ada08f700 of size 256 next 121\n",
      "2022-11-25 10:48:43.537397: I tensorflow/core/common_runtime/bfc_allocator.cc:1066] InUse at 7f3ada08f800 of size 256 next 122\n",
      "2022-11-25 10:48:43.537402: I tensorflow/core/common_runtime/bfc_allocator.cc:1066] InUse at 7f3ada08f900 of size 256 next 123\n",
      "2022-11-25 10:48:43.537409: I tensorflow/core/common_runtime/bfc_allocator.cc:1066] InUse at 7f3ada08fa00 of size 256 next 124\n",
      "2022-11-25 10:48:43.537414: I tensorflow/core/common_runtime/bfc_allocator.cc:1066] InUse at 7f3ada08fb00 of size 256 next 125\n",
      "2022-11-25 10:48:43.537420: I tensorflow/core/common_runtime/bfc_allocator.cc:1066] InUse at 7f3ada08fc00 of size 256 next 126\n",
      "2022-11-25 10:48:43.537426: I tensorflow/core/common_runtime/bfc_allocator.cc:1066] InUse at 7f3ada08fd00 of size 256 next 127\n",
      "2022-11-25 10:48:43.537432: I tensorflow/core/common_runtime/bfc_allocator.cc:1066] InUse at 7f3ada08fe00 of size 3072 next 128\n",
      "2022-11-25 10:48:43.537437: I tensorflow/core/common_runtime/bfc_allocator.cc:1066] InUse at 7f3ada090a00 of size 3072 next 129\n",
      "2022-11-25 10:48:43.537443: I tensorflow/core/common_runtime/bfc_allocator.cc:1066] Free  at 7f3ada091600 of size 256 next 130\n",
      "2022-11-25 10:48:43.537449: I tensorflow/core/common_runtime/bfc_allocator.cc:1066] InUse at 7f3ada091700 of size 256 next 131\n",
      "2022-11-25 10:48:43.537455: I tensorflow/core/common_runtime/bfc_allocator.cc:1066] InUse at 7f3ada091800 of size 2048 next 132\n",
      "2022-11-25 10:48:43.537461: I tensorflow/core/common_runtime/bfc_allocator.cc:1066] InUse at 7f3ada092000 of size 2048 next 133\n",
      "2022-11-25 10:48:43.537467: I tensorflow/core/common_runtime/bfc_allocator.cc:1066] Free  at 7f3ada092800 of size 254720 next 22\n",
      "2022-11-25 10:48:43.537474: I tensorflow/core/common_runtime/bfc_allocator.cc:1066] InUse at 7f3ada0d0b00 of size 256 next 88\n",
      "2022-11-25 10:48:43.537480: I tensorflow/core/common_runtime/bfc_allocator.cc:1066] InUse at 7f3ada0d0c00 of size 256 next 92\n",
      "2022-11-25 10:48:43.537486: I tensorflow/core/common_runtime/bfc_allocator.cc:1066] InUse at 7f3ada0d0d00 of size 256 next 94\n",
      "2022-11-25 10:48:43.537492: I tensorflow/core/common_runtime/bfc_allocator.cc:1066] InUse at 7f3ada0d0e00 of size 256 next 96\n",
      "2022-11-25 10:48:43.537497: I tensorflow/core/common_runtime/bfc_allocator.cc:1066] InUse at 7f3ada0d0f00 of size 256 next 21\n",
      "2022-11-25 10:48:43.537503: I tensorflow/core/common_runtime/bfc_allocator.cc:1066] InUse at 7f3ada0d1000 of size 1536 next 83\n",
      "2022-11-25 10:48:43.537509: I tensorflow/core/common_runtime/bfc_allocator.cc:1066] InUse at 7f3ada0d1600 of size 512 next 100\n",
      "2022-11-25 10:48:43.537515: I tensorflow/core/common_runtime/bfc_allocator.cc:1066] InUse at 7f3ada0d1800 of size 256 next 106\n",
      "2022-11-25 10:48:43.537521: I tensorflow/core/common_runtime/bfc_allocator.cc:1066] InUse at 7f3ada0d1900 of size 256 next 103\n",
      "2022-11-25 10:48:43.537527: I tensorflow/core/common_runtime/bfc_allocator.cc:1066] InUse at 7f3ada0d1a00 of size 256 next 89\n",
      "2022-11-25 10:48:43.537533: I tensorflow/core/common_runtime/bfc_allocator.cc:1066] InUse at 7f3ada0d1b00 of size 280294912 next 75\n",
      "2022-11-25 10:48:43.537538: I tensorflow/core/common_runtime/bfc_allocator.cc:1066] InUse at 7f3aeac21100 of size 256 next 110\n",
      "2022-11-25 10:48:43.537545: I tensorflow/core/common_runtime/bfc_allocator.cc:1066] InUse at 7f3aeac21200 of size 512 next 102\n",
      "2022-11-25 10:48:43.537550: I tensorflow/core/common_runtime/bfc_allocator.cc:1066] InUse at 7f3aeac21400 of size 256 next 105\n",
      "2022-11-25 10:48:43.537556: I tensorflow/core/common_runtime/bfc_allocator.cc:1066] InUse at 7f3aeac21500 of size 256 next 79\n",
      "2022-11-25 10:48:43.537562: I tensorflow/core/common_runtime/bfc_allocator.cc:1066] InUse at 7f3aeac21600 of size 1536 next 109\n",
      "2022-11-25 10:48:43.537568: I tensorflow/core/common_runtime/bfc_allocator.cc:1066] InUse at 7f3aeac21c00 of size 256 next 84\n",
      "2022-11-25 10:48:43.537574: I tensorflow/core/common_runtime/bfc_allocator.cc:1066] InUse at 7f3aeac21d00 of size 256 next 62\n",
      "2022-11-25 10:48:43.537579: I tensorflow/core/common_runtime/bfc_allocator.cc:1066] InUse at 7f3aeac21e00 of size 256 next 63\n",
      "2022-11-25 10:48:43.537585: I tensorflow/core/common_runtime/bfc_allocator.cc:1066] InUse at 7f3aeac21f00 of size 256 next 41\n",
      "2022-11-25 10:48:43.537591: I tensorflow/core/common_runtime/bfc_allocator.cc:1066] InUse at 7f3aeac22000 of size 256 next 66\n",
      "2022-11-25 10:48:43.537596: I tensorflow/core/common_runtime/bfc_allocator.cc:1066] InUse at 7f3aeac22100 of size 256 next 108\n",
      "2022-11-25 10:48:43.537603: I tensorflow/core/common_runtime/bfc_allocator.cc:1066] InUse at 7f3aeac22200 of size 1536 next 107\n",
      "2022-11-25 10:48:43.537609: I tensorflow/core/common_runtime/bfc_allocator.cc:1066] InUse at 7f3aeac22800 of size 5376 next 86\n",
      "2022-11-25 10:48:43.537614: I tensorflow/core/common_runtime/bfc_allocator.cc:1066] InUse at 7f3aeac23d00 of size 1536 next 104\n",
      "2022-11-25 10:48:43.537620: I tensorflow/core/common_runtime/bfc_allocator.cc:1066] InUse at 7f3aeac24300 of size 1792 next 87\n",
      "2022-11-25 10:48:43.537627: I tensorflow/core/common_runtime/bfc_allocator.cc:1066] InUse at 7f3aeac24a00 of size 3328 next 111\n",
      "2022-11-25 10:48:43.537633: I tensorflow/core/common_runtime/bfc_allocator.cc:1066] InUse at 7f3aeac25700 of size 147456 next 65\n",
      "2022-11-25 10:48:43.537638: I tensorflow/core/common_runtime/bfc_allocator.cc:1066] InUse at 7f3aeac49700 of size 1536 next 51\n",
      "2022-11-25 10:48:43.537644: I tensorflow/core/common_runtime/bfc_allocator.cc:1066] InUse at 7f3aeac49d00 of size 1280 next 14\n",
      "2022-11-25 10:48:43.537650: I tensorflow/core/common_runtime/bfc_allocator.cc:1066] InUse at 7f3aeac4a200 of size 3328 next 40\n",
      "2022-11-25 10:48:43.537657: I tensorflow/core/common_runtime/bfc_allocator.cc:1066] InUse at 7f3aeac4af00 of size 256 next 33\n",
      "2022-11-25 10:48:43.537663: I tensorflow/core/common_runtime/bfc_allocator.cc:1066] InUse at 7f3aeac4b000 of size 3328 next 70\n",
      "2022-11-25 10:48:43.537669: I tensorflow/core/common_runtime/bfc_allocator.cc:1066] InUse at 7f3aeac4bd00 of size 256 next 81\n",
      "2022-11-25 10:48:43.537675: I tensorflow/core/common_runtime/bfc_allocator.cc:1066] InUse at 7f3aeac4be00 of size 73728 next 10\n",
      "2022-11-25 10:48:43.537682: I tensorflow/core/common_runtime/bfc_allocator.cc:1066] InUse at 7f3aeac5de00 of size 256 next 55\n",
      "2022-11-25 10:48:43.537690: I tensorflow/core/common_runtime/bfc_allocator.cc:1066] InUse at 7f3aeac5df00 of size 204800 next 11\n",
      "2022-11-25 10:48:43.537695: I tensorflow/core/common_runtime/bfc_allocator.cc:1066] InUse at 7f3aeac8ff00 of size 256 next 50\n",
      "2022-11-25 10:48:43.537701: I tensorflow/core/common_runtime/bfc_allocator.cc:1066] InUse at 7f3aeac90000 of size 73728 next 32\n",
      "2022-11-25 10:48:43.537707: I tensorflow/core/common_runtime/bfc_allocator.cc:1066] InUse at 7f3aeaca2000 of size 256 next 34\n",
      "2022-11-25 10:48:43.537713: I tensorflow/core/common_runtime/bfc_allocator.cc:1066] InUse at 7f3aeaca2100 of size 231936 next 68\n",
      "2022-11-25 10:48:43.537719: I tensorflow/core/common_runtime/bfc_allocator.cc:1066] InUse at 7f3aeacdab00 of size 73728 next 58\n",
      "2022-11-25 10:48:43.537725: I tensorflow/core/common_runtime/bfc_allocator.cc:1066] InUse at 7f3aeacecb00 of size 73728 next 73\n",
      "2022-11-25 10:48:43.537731: I tensorflow/core/common_runtime/bfc_allocator.cc:1066] InUse at 7f3aeacfeb00 of size 147456 next 59\n",
      "2022-11-25 10:48:43.537737: I tensorflow/core/common_runtime/bfc_allocator.cc:1066] InUse at 7f3aead22b00 of size 524288 next 71\n",
      "2022-11-25 10:48:43.537742: I tensorflow/core/common_runtime/bfc_allocator.cc:1066] InUse at 7f3aeada2b00 of size 147456 next 97\n",
      "2022-11-25 10:48:43.537748: I tensorflow/core/common_runtime/bfc_allocator.cc:1066] InUse at 7f3aeadc6b00 of size 335872 next 91\n",
      "2022-11-25 10:48:43.537754: I tensorflow/core/common_runtime/bfc_allocator.cc:1066] InUse at 7f3aeae18b00 of size 204800 next 90\n",
      "2022-11-25 10:48:43.537760: I tensorflow/core/common_runtime/bfc_allocator.cc:1066] InUse at 7f3aeae4ab00 of size 73728 next 85\n",
      "2022-11-25 10:48:43.537765: I tensorflow/core/common_runtime/bfc_allocator.cc:1066] InUse at 7f3aeae5cb00 of size 73728 next 99\n",
      "2022-11-25 10:48:43.537772: I tensorflow/core/common_runtime/bfc_allocator.cc:1066] InUse at 7f3aeae6eb00 of size 204800 next 112\n",
      "2022-11-25 10:48:43.537778: I tensorflow/core/common_runtime/bfc_allocator.cc:1066] InUse at 7f3aeaea0b00 of size 466944 next 98\n",
      "2022-11-25 10:48:43.537784: I tensorflow/core/common_runtime/bfc_allocator.cc:1066] InUse at 7f3aeaf12b00 of size 139460608 next 67\n",
      "2022-11-25 10:48:43.537790: I tensorflow/core/common_runtime/bfc_allocator.cc:1066] InUse at 7f3af3412b00 of size 278298624 next 25\n",
      "2022-11-25 10:48:43.537797: I tensorflow/core/common_runtime/bfc_allocator.cc:1066] InUse at 7f3b03d7ab00 of size 136994816 next 78\n",
      "2022-11-25 10:48:43.537803: I tensorflow/core/common_runtime/bfc_allocator.cc:1066] InUse at 7f3b0c020b00 of size 139460608 next 77\n",
      "2022-11-25 10:48:43.537808: I tensorflow/core/common_runtime/bfc_allocator.cc:1066] InUse at 7f3b14520b00 of size 139460608 next 56\n",
      "2022-11-25 10:48:43.537815: I tensorflow/core/common_runtime/bfc_allocator.cc:1066] Free  at 7f3b1ca20b00 of size 834895872 next 101\n",
      "2022-11-25 10:48:43.537821: I tensorflow/core/common_runtime/bfc_allocator.cc:1066] InUse at 7f3b4e658b00 of size 278298624 next 95\n",
      "2022-11-25 10:48:43.537827: I tensorflow/core/common_runtime/bfc_allocator.cc:1066] Free  at 7f3b5efc0b00 of size 2401563904 next 18446744073709551615\n",
      "2022-11-25 10:48:43.537832: I tensorflow/core/common_runtime/bfc_allocator.cc:1071]      Summary of in-use Chunks by size: \n",
      "2022-11-25 10:48:43.537846: I tensorflow/core/common_runtime/bfc_allocator.cc:1074] 79 Chunks of size 256 totalling 19.8KiB\n",
      "2022-11-25 10:48:43.537859: I tensorflow/core/common_runtime/bfc_allocator.cc:1074] 6 Chunks of size 512 totalling 3.0KiB\n",
      "2022-11-25 10:48:43.537873: I tensorflow/core/common_runtime/bfc_allocator.cc:1074] 2 Chunks of size 1280 totalling 2.5KiB\n",
      "2022-11-25 10:48:43.537885: I tensorflow/core/common_runtime/bfc_allocator.cc:1074] 7 Chunks of size 1536 totalling 10.5KiB\n",
      "2022-11-25 10:48:43.537892: I tensorflow/core/common_runtime/bfc_allocator.cc:1074] 1 Chunks of size 1792 totalling 1.8KiB\n",
      "2022-11-25 10:48:43.537898: I tensorflow/core/common_runtime/bfc_allocator.cc:1074] 2 Chunks of size 2048 totalling 4.0KiB\n",
      "2022-11-25 10:48:43.537905: I tensorflow/core/common_runtime/bfc_allocator.cc:1074] 2 Chunks of size 3072 totalling 6.0KiB\n",
      "2022-11-25 10:48:43.537911: I tensorflow/core/common_runtime/bfc_allocator.cc:1074] 3 Chunks of size 3328 totalling 9.8KiB\n",
      "2022-11-25 10:48:43.537918: I tensorflow/core/common_runtime/bfc_allocator.cc:1074] 1 Chunks of size 5120 totalling 5.0KiB\n",
      "2022-11-25 10:48:43.537924: I tensorflow/core/common_runtime/bfc_allocator.cc:1074] 1 Chunks of size 5376 totalling 5.2KiB\n",
      "2022-11-25 10:48:43.537930: I tensorflow/core/common_runtime/bfc_allocator.cc:1074] 1 Chunks of size 6400 totalling 6.2KiB\n",
      "2022-11-25 10:48:43.537937: I tensorflow/core/common_runtime/bfc_allocator.cc:1074] 6 Chunks of size 73728 totalling 432.0KiB\n",
      "2022-11-25 10:48:43.537944: I tensorflow/core/common_runtime/bfc_allocator.cc:1074] 4 Chunks of size 147456 totalling 576.0KiB\n",
      "2022-11-25 10:48:43.537951: I tensorflow/core/common_runtime/bfc_allocator.cc:1074] 3 Chunks of size 204800 totalling 600.0KiB\n",
      "2022-11-25 10:48:43.537958: I tensorflow/core/common_runtime/bfc_allocator.cc:1074] 1 Chunks of size 231936 totalling 226.5KiB\n",
      "2022-11-25 10:48:43.537964: I tensorflow/core/common_runtime/bfc_allocator.cc:1074] 1 Chunks of size 335872 totalling 328.0KiB\n",
      "2022-11-25 10:48:43.537971: I tensorflow/core/common_runtime/bfc_allocator.cc:1074] 1 Chunks of size 409600 totalling 400.0KiB\n",
      "2022-11-25 10:48:43.537977: I tensorflow/core/common_runtime/bfc_allocator.cc:1074] 1 Chunks of size 466944 totalling 456.0KiB\n",
      "2022-11-25 10:48:43.537984: I tensorflow/core/common_runtime/bfc_allocator.cc:1074] 1 Chunks of size 524288 totalling 512.0KiB\n",
      "2022-11-25 10:48:43.537991: I tensorflow/core/common_runtime/bfc_allocator.cc:1074] 1 Chunks of size 136994816 totalling 130.65MiB\n",
      "2022-11-25 10:48:43.537997: I tensorflow/core/common_runtime/bfc_allocator.cc:1074] 3 Chunks of size 139460608 totalling 399.00MiB\n",
      "2022-11-25 10:48:43.538004: I tensorflow/core/common_runtime/bfc_allocator.cc:1074] 2 Chunks of size 278298624 totalling 530.81MiB\n",
      "2022-11-25 10:48:43.538011: I tensorflow/core/common_runtime/bfc_allocator.cc:1074] 1 Chunks of size 280294912 totalling 267.31MiB\n",
      "2022-11-25 10:48:43.538017: I tensorflow/core/common_runtime/bfc_allocator.cc:1078] Sum Total of in-use chunks: 1.30GiB\n",
      "2022-11-25 10:48:43.538023: I tensorflow/core/common_runtime/bfc_allocator.cc:1080] total_region_allocated_bytes_: 4632674304 memory_limit_: 4632674304 available bytes: 0 curr_region_allocation_bytes_: 9265348608\n",
      "2022-11-25 10:48:43.538034: I tensorflow/core/common_runtime/bfc_allocator.cc:1086] Stats: \n",
      "Limit:                      4632674304\n",
      "InUse:                      1395959552\n",
      "MaxInUse:                   1676503552\n",
      "NumAllocs:                         382\n",
      "MaxAllocSize:                280294912\n",
      "Reserved:                            0\n",
      "PeakReserved:                        0\n",
      "LargestFreeBlock:                    0\n",
      "\n",
      "2022-11-25 10:48:43.538049: W tensorflow/core/common_runtime/bfc_allocator.cc:474] *****************x*******_________________*******___________________________________________________\n",
      "2022-11-25 10:48:43.538501: W tensorflow/core/framework/op_kernel.cc:1745] OP_REQUIRES failed at conv_ops.cc:684 : RESOURCE_EXHAUSTED: OOM when allocating tensor with shape[256,32,238,318] and type float on /job:localhost/replica:0/task:0/device:GPU:0 by allocator GPU_0_bfc\n",
      "2022-11-25 10:48:53.538681: W tensorflow/core/common_runtime/bfc_allocator.cc:462] Allocator (GPU_0_bfc) ran out of memory trying to allocate 2.28GiB (rounded to 2443706368)requested by op model_4/conv2d_84/Conv2D\n",
      "If the cause is memory fragmentation maybe the environment variable 'TF_GPU_ALLOCATOR=cuda_malloc_async' will improve the situation. \n",
      "Current allocation summary follows.\n",
      "Current allocation summary follows.\n",
      "2022-11-25 10:48:53.538729: I tensorflow/core/common_runtime/bfc_allocator.cc:1010] BFCAllocator dump for GPU_0_bfc\n",
      "2022-11-25 10:48:53.538745: I tensorflow/core/common_runtime/bfc_allocator.cc:1017] Bin (256): \tTotal Chunks: 80, Chunks in use: 79. 20.0KiB allocated for chunks. 19.8KiB in use in bin. 5.9KiB client-requested in use in bin.\n",
      "2022-11-25 10:48:53.538755: I tensorflow/core/common_runtime/bfc_allocator.cc:1017] Bin (512): \tTotal Chunks: 6, Chunks in use: 6. 3.0KiB allocated for chunks. 3.0KiB in use in bin. 3.0KiB client-requested in use in bin.\n",
      "2022-11-25 10:48:53.538763: I tensorflow/core/common_runtime/bfc_allocator.cc:1017] Bin (1024): \tTotal Chunks: 10, Chunks in use: 10. 14.8KiB allocated for chunks. 14.8KiB in use in bin. 13.4KiB client-requested in use in bin.\n",
      "2022-11-25 10:48:53.538771: I tensorflow/core/common_runtime/bfc_allocator.cc:1017] Bin (2048): \tTotal Chunks: 7, Chunks in use: 7. 19.8KiB allocated for chunks. 19.8KiB in use in bin. 19.4KiB client-requested in use in bin.\n",
      "2022-11-25 10:48:53.538779: I tensorflow/core/common_runtime/bfc_allocator.cc:1017] Bin (4096): \tTotal Chunks: 3, Chunks in use: 3. 16.5KiB allocated for chunks. 16.5KiB in use in bin. 9.4KiB client-requested in use in bin.\n",
      "2022-11-25 10:48:53.538787: I tensorflow/core/common_runtime/bfc_allocator.cc:1017] Bin (8192): \tTotal Chunks: 0, Chunks in use: 0. 0B allocated for chunks. 0B in use in bin. 0B client-requested in use in bin.\n",
      "2022-11-25 10:48:53.538795: I tensorflow/core/common_runtime/bfc_allocator.cc:1017] Bin (16384): \tTotal Chunks: 0, Chunks in use: 0. 0B allocated for chunks. 0B in use in bin. 0B client-requested in use in bin.\n",
      "2022-11-25 10:48:53.538802: I tensorflow/core/common_runtime/bfc_allocator.cc:1017] Bin (32768): \tTotal Chunks: 0, Chunks in use: 0. 0B allocated for chunks. 0B in use in bin. 0B client-requested in use in bin.\n",
      "2022-11-25 10:48:53.538811: I tensorflow/core/common_runtime/bfc_allocator.cc:1017] Bin (65536): \tTotal Chunks: 6, Chunks in use: 6. 432.0KiB allocated for chunks. 432.0KiB in use in bin. 432.0KiB client-requested in use in bin.\n",
      "2022-11-25 10:48:53.538819: I tensorflow/core/common_runtime/bfc_allocator.cc:1017] Bin (131072): \tTotal Chunks: 9, Chunks in use: 8. 1.61MiB allocated for chunks. 1.37MiB in use in bin. 1.23MiB client-requested in use in bin.\n",
      "2022-11-25 10:48:53.538827: I tensorflow/core/common_runtime/bfc_allocator.cc:1017] Bin (262144): \tTotal Chunks: 3, Chunks in use: 3. 1.16MiB allocated for chunks. 1.16MiB in use in bin. 1000.0KiB client-requested in use in bin.\n",
      "2022-11-25 10:48:53.538836: I tensorflow/core/common_runtime/bfc_allocator.cc:1017] Bin (524288): \tTotal Chunks: 1, Chunks in use: 1. 512.0KiB allocated for chunks. 512.0KiB in use in bin. 400.0KiB client-requested in use in bin.\n",
      "2022-11-25 10:48:53.538843: I tensorflow/core/common_runtime/bfc_allocator.cc:1017] Bin (1048576): \tTotal Chunks: 0, Chunks in use: 0. 0B allocated for chunks. 0B in use in bin. 0B client-requested in use in bin.\n",
      "2022-11-25 10:48:53.538850: I tensorflow/core/common_runtime/bfc_allocator.cc:1017] Bin (2097152): \tTotal Chunks: 0, Chunks in use: 0. 0B allocated for chunks. 0B in use in bin. 0B client-requested in use in bin.\n",
      "2022-11-25 10:48:53.538857: I tensorflow/core/common_runtime/bfc_allocator.cc:1017] Bin (4194304): \tTotal Chunks: 0, Chunks in use: 0. 0B allocated for chunks. 0B in use in bin. 0B client-requested in use in bin.\n",
      "2022-11-25 10:48:53.538864: I tensorflow/core/common_runtime/bfc_allocator.cc:1017] Bin (8388608): \tTotal Chunks: 0, Chunks in use: 0. 0B allocated for chunks. 0B in use in bin. 0B client-requested in use in bin.\n",
      "2022-11-25 10:48:53.538871: I tensorflow/core/common_runtime/bfc_allocator.cc:1017] Bin (16777216): \tTotal Chunks: 0, Chunks in use: 0. 0B allocated for chunks. 0B in use in bin. 0B client-requested in use in bin.\n",
      "2022-11-25 10:48:53.538878: I tensorflow/core/common_runtime/bfc_allocator.cc:1017] Bin (33554432): \tTotal Chunks: 0, Chunks in use: 0. 0B allocated for chunks. 0B in use in bin. 0B client-requested in use in bin.\n",
      "2022-11-25 10:48:53.538885: I tensorflow/core/common_runtime/bfc_allocator.cc:1017] Bin (67108864): \tTotal Chunks: 0, Chunks in use: 0. 0B allocated for chunks. 0B in use in bin. 0B client-requested in use in bin.\n",
      "2022-11-25 10:48:53.538897: I tensorflow/core/common_runtime/bfc_allocator.cc:1017] Bin (134217728): \tTotal Chunks: 4, Chunks in use: 4. 529.65MiB allocated for chunks. 529.65MiB in use in bin. 474.00MiB client-requested in use in bin.\n",
      "2022-11-25 10:48:53.538906: I tensorflow/core/common_runtime/bfc_allocator.cc:1017] Bin (268435456): \tTotal Chunks: 5, Chunks in use: 3. 3.79GiB allocated for chunks. 798.12MiB in use in bin. 796.22MiB client-requested in use in bin.\n",
      "2022-11-25 10:48:53.538913: I tensorflow/core/common_runtime/bfc_allocator.cc:1033] Bin for 2.28GiB was 256.00MiB, Chunk State: \n",
      "2022-11-25 10:48:53.538928: I tensorflow/core/common_runtime/bfc_allocator.cc:1039]   Size: 796.22MiB | Requested Size: 72.0KiB | in_use: 0 | bin_num: 20, prev:   Size: 133.00MiB | Requested Size: 133.00MiB | in_use: 1 | bin_num: -1, next:   Size: 265.41MiB | Requested Size: 265.41MiB | in_use: 1 | bin_num: -1\n",
      "2022-11-25 10:48:53.538937: I tensorflow/core/common_runtime/bfc_allocator.cc:1039]   Size: 2.24GiB | Requested Size: 144.0KiB | in_use: 0 | bin_num: 20, prev:   Size: 265.41MiB | Requested Size: 265.41MiB | in_use: 1 | bin_num: -1\n",
      "2022-11-25 10:48:53.538943: I tensorflow/core/common_runtime/bfc_allocator.cc:1046] Next region of size 4632674304\n",
      "2022-11-25 10:48:53.538953: I tensorflow/core/common_runtime/bfc_allocator.cc:1066] InUse at 7f3ada000000 of size 1280 next 1\n",
      "2022-11-25 10:48:53.538960: I tensorflow/core/common_runtime/bfc_allocator.cc:1066] InUse at 7f3ada000500 of size 256 next 2\n",
      "2022-11-25 10:48:53.538966: I tensorflow/core/common_runtime/bfc_allocator.cc:1066] InUse at 7f3ada000600 of size 256 next 3\n",
      "2022-11-25 10:48:53.538971: I tensorflow/core/common_runtime/bfc_allocator.cc:1066] InUse at 7f3ada000700 of size 256 next 4\n",
      "2022-11-25 10:48:53.538977: I tensorflow/core/common_runtime/bfc_allocator.cc:1066] InUse at 7f3ada000800 of size 256 next 5\n",
      "2022-11-25 10:48:53.538983: I tensorflow/core/common_runtime/bfc_allocator.cc:1066] InUse at 7f3ada000900 of size 256 next 8\n",
      "2022-11-25 10:48:53.538989: I tensorflow/core/common_runtime/bfc_allocator.cc:1066] InUse at 7f3ada000a00 of size 256 next 9\n",
      "2022-11-25 10:48:53.538995: I tensorflow/core/common_runtime/bfc_allocator.cc:1066] InUse at 7f3ada000b00 of size 256 next 7\n",
      "2022-11-25 10:48:53.539001: I tensorflow/core/common_runtime/bfc_allocator.cc:1066] InUse at 7f3ada000c00 of size 256 next 13\n",
      "2022-11-25 10:48:53.539006: I tensorflow/core/common_runtime/bfc_allocator.cc:1066] InUse at 7f3ada000d00 of size 256 next 15\n",
      "2022-11-25 10:48:53.539012: I tensorflow/core/common_runtime/bfc_allocator.cc:1066] InUse at 7f3ada000e00 of size 256 next 16\n",
      "2022-11-25 10:48:53.539018: I tensorflow/core/common_runtime/bfc_allocator.cc:1066] InUse at 7f3ada000f00 of size 256 next 17\n",
      "2022-11-25 10:48:53.539024: I tensorflow/core/common_runtime/bfc_allocator.cc:1066] InUse at 7f3ada001000 of size 256 next 20\n",
      "2022-11-25 10:48:53.539030: I tensorflow/core/common_runtime/bfc_allocator.cc:1066] InUse at 7f3ada001100 of size 256 next 6\n",
      "2022-11-25 10:48:53.539036: I tensorflow/core/common_runtime/bfc_allocator.cc:1066] InUse at 7f3ada001200 of size 512 next 35\n",
      "2022-11-25 10:48:53.539042: I tensorflow/core/common_runtime/bfc_allocator.cc:1066] InUse at 7f3ada001400 of size 512 next 69\n",
      "2022-11-25 10:48:53.539048: I tensorflow/core/common_runtime/bfc_allocator.cc:1066] InUse at 7f3ada001600 of size 256 next 64\n",
      "2022-11-25 10:48:53.539053: I tensorflow/core/common_runtime/bfc_allocator.cc:1066] InUse at 7f3ada001700 of size 256 next 72\n",
      "2022-11-25 10:48:53.539059: I tensorflow/core/common_runtime/bfc_allocator.cc:1066] InUse at 7f3ada001800 of size 256 next 24\n",
      "2022-11-25 10:48:53.539065: I tensorflow/core/common_runtime/bfc_allocator.cc:1066] InUse at 7f3ada001900 of size 256 next 26\n",
      "2022-11-25 10:48:53.539071: I tensorflow/core/common_runtime/bfc_allocator.cc:1066] InUse at 7f3ada001a00 of size 256 next 27\n",
      "2022-11-25 10:48:53.539077: I tensorflow/core/common_runtime/bfc_allocator.cc:1066] InUse at 7f3ada001b00 of size 256 next 28\n",
      "2022-11-25 10:48:53.539083: I tensorflow/core/common_runtime/bfc_allocator.cc:1066] InUse at 7f3ada001c00 of size 256 next 30\n",
      "2022-11-25 10:48:53.539089: I tensorflow/core/common_runtime/bfc_allocator.cc:1066] InUse at 7f3ada001d00 of size 256 next 31\n",
      "2022-11-25 10:48:53.539094: I tensorflow/core/common_runtime/bfc_allocator.cc:1066] InUse at 7f3ada001e00 of size 256 next 80\n",
      "2022-11-25 10:48:53.539100: I tensorflow/core/common_runtime/bfc_allocator.cc:1066] InUse at 7f3ada001f00 of size 256 next 36\n",
      "2022-11-25 10:48:53.539106: I tensorflow/core/common_runtime/bfc_allocator.cc:1066] InUse at 7f3ada002000 of size 256 next 37\n",
      "2022-11-25 10:48:53.539111: I tensorflow/core/common_runtime/bfc_allocator.cc:1066] InUse at 7f3ada002100 of size 256 next 38\n",
      "2022-11-25 10:48:53.539117: I tensorflow/core/common_runtime/bfc_allocator.cc:1066] InUse at 7f3ada002200 of size 256 next 57\n",
      "2022-11-25 10:48:53.539122: I tensorflow/core/common_runtime/bfc_allocator.cc:1066] InUse at 7f3ada002300 of size 256 next 39\n",
      "2022-11-25 10:48:53.539128: I tensorflow/core/common_runtime/bfc_allocator.cc:1066] InUse at 7f3ada002400 of size 256 next 42\n",
      "2022-11-25 10:48:53.539133: I tensorflow/core/common_runtime/bfc_allocator.cc:1066] InUse at 7f3ada002500 of size 256 next 43\n",
      "2022-11-25 10:48:53.539139: I tensorflow/core/common_runtime/bfc_allocator.cc:1066] InUse at 7f3ada002600 of size 256 next 49\n",
      "2022-11-25 10:48:53.539145: I tensorflow/core/common_runtime/bfc_allocator.cc:1066] InUse at 7f3ada002700 of size 256 next 44\n",
      "2022-11-25 10:48:53.539150: I tensorflow/core/common_runtime/bfc_allocator.cc:1066] InUse at 7f3ada002800 of size 256 next 47\n",
      "2022-11-25 10:48:53.539156: I tensorflow/core/common_runtime/bfc_allocator.cc:1066] InUse at 7f3ada002900 of size 256 next 48\n",
      "2022-11-25 10:48:53.539164: I tensorflow/core/common_runtime/bfc_allocator.cc:1066] InUse at 7f3ada002a00 of size 256 next 46\n",
      "2022-11-25 10:48:53.539169: I tensorflow/core/common_runtime/bfc_allocator.cc:1066] InUse at 7f3ada002b00 of size 256 next 52\n",
      "2022-11-25 10:48:53.539175: I tensorflow/core/common_runtime/bfc_allocator.cc:1066] InUse at 7f3ada002c00 of size 256 next 54\n",
      "2022-11-25 10:48:53.539181: I tensorflow/core/common_runtime/bfc_allocator.cc:1066] InUse at 7f3ada002d00 of size 6400 next 74\n",
      "2022-11-25 10:48:53.539186: I tensorflow/core/common_runtime/bfc_allocator.cc:1066] InUse at 7f3ada004600 of size 256 next 61\n",
      "2022-11-25 10:48:53.539192: I tensorflow/core/common_runtime/bfc_allocator.cc:1066] InUse at 7f3ada004700 of size 256 next 82\n",
      "2022-11-25 10:48:53.539198: I tensorflow/core/common_runtime/bfc_allocator.cc:1066] InUse at 7f3ada004800 of size 5120 next 76\n",
      "2022-11-25 10:48:53.539207: I tensorflow/core/common_runtime/bfc_allocator.cc:1066] InUse at 7f3ada005c00 of size 256 next 60\n",
      "2022-11-25 10:48:53.539219: I tensorflow/core/common_runtime/bfc_allocator.cc:1066] InUse at 7f3ada005d00 of size 256 next 53\n",
      "2022-11-25 10:48:53.539231: I tensorflow/core/common_runtime/bfc_allocator.cc:1066] InUse at 7f3ada005e00 of size 256 next 29\n",
      "2022-11-25 10:48:53.539237: I tensorflow/core/common_runtime/bfc_allocator.cc:1066] InUse at 7f3ada005f00 of size 409600 next 12\n",
      "2022-11-25 10:48:53.539243: I tensorflow/core/common_runtime/bfc_allocator.cc:1066] InUse at 7f3ada069f00 of size 256 next 45\n",
      "2022-11-25 10:48:53.539249: I tensorflow/core/common_runtime/bfc_allocator.cc:1066] InUse at 7f3ada06a000 of size 147456 next 18\n",
      "2022-11-25 10:48:53.539255: I tensorflow/core/common_runtime/bfc_allocator.cc:1066] InUse at 7f3ada08e000 of size 256 next 23\n",
      "2022-11-25 10:48:53.539261: I tensorflow/core/common_runtime/bfc_allocator.cc:1066] InUse at 7f3ada08e100 of size 512 next 19\n",
      "2022-11-25 10:48:53.539267: I tensorflow/core/common_runtime/bfc_allocator.cc:1066] InUse at 7f3ada08e300 of size 512 next 93\n",
      "2022-11-25 10:48:53.539273: I tensorflow/core/common_runtime/bfc_allocator.cc:1066] InUse at 7f3ada08e500 of size 1536 next 113\n",
      "2022-11-25 10:48:53.539279: I tensorflow/core/common_runtime/bfc_allocator.cc:1066] InUse at 7f3ada08eb00 of size 256 next 114\n",
      "2022-11-25 10:48:53.539285: I tensorflow/core/common_runtime/bfc_allocator.cc:1066] InUse at 7f3ada08ec00 of size 1536 next 115\n",
      "2022-11-25 10:48:53.539290: I tensorflow/core/common_runtime/bfc_allocator.cc:1066] InUse at 7f3ada08f200 of size 256 next 116\n",
      "2022-11-25 10:48:53.539296: I tensorflow/core/common_runtime/bfc_allocator.cc:1066] InUse at 7f3ada08f300 of size 256 next 117\n",
      "2022-11-25 10:48:53.539302: I tensorflow/core/common_runtime/bfc_allocator.cc:1066] InUse at 7f3ada08f400 of size 256 next 118\n",
      "2022-11-25 10:48:53.539308: I tensorflow/core/common_runtime/bfc_allocator.cc:1066] InUse at 7f3ada08f500 of size 256 next 119\n",
      "2022-11-25 10:48:53.539314: I tensorflow/core/common_runtime/bfc_allocator.cc:1066] InUse at 7f3ada08f600 of size 256 next 120\n",
      "2022-11-25 10:48:53.539319: I tensorflow/core/common_runtime/bfc_allocator.cc:1066] InUse at 7f3ada08f700 of size 256 next 121\n",
      "2022-11-25 10:48:53.539325: I tensorflow/core/common_runtime/bfc_allocator.cc:1066] InUse at 7f3ada08f800 of size 256 next 122\n",
      "2022-11-25 10:48:53.539330: I tensorflow/core/common_runtime/bfc_allocator.cc:1066] InUse at 7f3ada08f900 of size 256 next 123\n",
      "2022-11-25 10:48:53.539336: I tensorflow/core/common_runtime/bfc_allocator.cc:1066] InUse at 7f3ada08fa00 of size 256 next 124\n",
      "2022-11-25 10:48:53.539342: I tensorflow/core/common_runtime/bfc_allocator.cc:1066] InUse at 7f3ada08fb00 of size 256 next 125\n",
      "2022-11-25 10:48:53.539348: I tensorflow/core/common_runtime/bfc_allocator.cc:1066] InUse at 7f3ada08fc00 of size 256 next 126\n",
      "2022-11-25 10:48:53.539354: I tensorflow/core/common_runtime/bfc_allocator.cc:1066] InUse at 7f3ada08fd00 of size 256 next 127\n",
      "2022-11-25 10:48:53.539360: I tensorflow/core/common_runtime/bfc_allocator.cc:1066] InUse at 7f3ada08fe00 of size 3072 next 128\n",
      "2022-11-25 10:48:53.539365: I tensorflow/core/common_runtime/bfc_allocator.cc:1066] InUse at 7f3ada090a00 of size 3072 next 129\n",
      "2022-11-25 10:48:53.539372: I tensorflow/core/common_runtime/bfc_allocator.cc:1066] Free  at 7f3ada091600 of size 256 next 130\n",
      "2022-11-25 10:48:53.539378: I tensorflow/core/common_runtime/bfc_allocator.cc:1066] InUse at 7f3ada091700 of size 256 next 131\n",
      "2022-11-25 10:48:53.539385: I tensorflow/core/common_runtime/bfc_allocator.cc:1066] InUse at 7f3ada091800 of size 2048 next 132\n",
      "2022-11-25 10:48:53.539391: I tensorflow/core/common_runtime/bfc_allocator.cc:1066] InUse at 7f3ada092000 of size 2048 next 133\n",
      "2022-11-25 10:48:53.539397: I tensorflow/core/common_runtime/bfc_allocator.cc:1066] Free  at 7f3ada092800 of size 254720 next 22\n",
      "2022-11-25 10:48:53.539403: I tensorflow/core/common_runtime/bfc_allocator.cc:1066] InUse at 7f3ada0d0b00 of size 256 next 88\n",
      "2022-11-25 10:48:53.539409: I tensorflow/core/common_runtime/bfc_allocator.cc:1066] InUse at 7f3ada0d0c00 of size 256 next 92\n",
      "2022-11-25 10:48:53.539414: I tensorflow/core/common_runtime/bfc_allocator.cc:1066] InUse at 7f3ada0d0d00 of size 256 next 94\n",
      "2022-11-25 10:48:53.539420: I tensorflow/core/common_runtime/bfc_allocator.cc:1066] InUse at 7f3ada0d0e00 of size 256 next 96\n",
      "2022-11-25 10:48:53.539426: I tensorflow/core/common_runtime/bfc_allocator.cc:1066] InUse at 7f3ada0d0f00 of size 256 next 21\n",
      "2022-11-25 10:48:53.539431: I tensorflow/core/common_runtime/bfc_allocator.cc:1066] InUse at 7f3ada0d1000 of size 1536 next 83\n",
      "2022-11-25 10:48:53.539437: I tensorflow/core/common_runtime/bfc_allocator.cc:1066] InUse at 7f3ada0d1600 of size 512 next 100\n",
      "2022-11-25 10:48:53.539443: I tensorflow/core/common_runtime/bfc_allocator.cc:1066] InUse at 7f3ada0d1800 of size 256 next 106\n",
      "2022-11-25 10:48:53.539449: I tensorflow/core/common_runtime/bfc_allocator.cc:1066] InUse at 7f3ada0d1900 of size 256 next 103\n",
      "2022-11-25 10:48:53.539456: I tensorflow/core/common_runtime/bfc_allocator.cc:1066] InUse at 7f3ada0d1a00 of size 256 next 89\n",
      "2022-11-25 10:48:53.539466: I tensorflow/core/common_runtime/bfc_allocator.cc:1066] InUse at 7f3ada0d1b00 of size 280294912 next 75\n",
      "2022-11-25 10:48:53.539475: I tensorflow/core/common_runtime/bfc_allocator.cc:1066] InUse at 7f3aeac21100 of size 256 next 110\n",
      "2022-11-25 10:48:53.539481: I tensorflow/core/common_runtime/bfc_allocator.cc:1066] InUse at 7f3aeac21200 of size 512 next 102\n",
      "2022-11-25 10:48:53.539487: I tensorflow/core/common_runtime/bfc_allocator.cc:1066] InUse at 7f3aeac21400 of size 256 next 105\n",
      "2022-11-25 10:48:53.539493: I tensorflow/core/common_runtime/bfc_allocator.cc:1066] InUse at 7f3aeac21500 of size 256 next 79\n",
      "2022-11-25 10:48:53.539498: I tensorflow/core/common_runtime/bfc_allocator.cc:1066] InUse at 7f3aeac21600 of size 1536 next 109\n",
      "2022-11-25 10:48:53.539504: I tensorflow/core/common_runtime/bfc_allocator.cc:1066] InUse at 7f3aeac21c00 of size 256 next 84\n",
      "2022-11-25 10:48:53.539510: I tensorflow/core/common_runtime/bfc_allocator.cc:1066] InUse at 7f3aeac21d00 of size 256 next 62\n",
      "2022-11-25 10:48:53.539516: I tensorflow/core/common_runtime/bfc_allocator.cc:1066] InUse at 7f3aeac21e00 of size 256 next 63\n",
      "2022-11-25 10:48:53.539522: I tensorflow/core/common_runtime/bfc_allocator.cc:1066] InUse at 7f3aeac21f00 of size 256 next 41\n",
      "2022-11-25 10:48:53.539527: I tensorflow/core/common_runtime/bfc_allocator.cc:1066] InUse at 7f3aeac22000 of size 256 next 66\n",
      "2022-11-25 10:48:53.539533: I tensorflow/core/common_runtime/bfc_allocator.cc:1066] InUse at 7f3aeac22100 of size 256 next 108\n",
      "2022-11-25 10:48:53.539539: I tensorflow/core/common_runtime/bfc_allocator.cc:1066] InUse at 7f3aeac22200 of size 1536 next 107\n",
      "2022-11-25 10:48:53.539548: I tensorflow/core/common_runtime/bfc_allocator.cc:1066] InUse at 7f3aeac22800 of size 5376 next 86\n",
      "2022-11-25 10:48:53.539558: I tensorflow/core/common_runtime/bfc_allocator.cc:1066] InUse at 7f3aeac23d00 of size 1536 next 104\n",
      "2022-11-25 10:48:53.539569: I tensorflow/core/common_runtime/bfc_allocator.cc:1066] InUse at 7f3aeac24300 of size 1792 next 87\n",
      "2022-11-25 10:48:53.539575: I tensorflow/core/common_runtime/bfc_allocator.cc:1066] InUse at 7f3aeac24a00 of size 3328 next 111\n",
      "2022-11-25 10:48:53.539581: I tensorflow/core/common_runtime/bfc_allocator.cc:1066] InUse at 7f3aeac25700 of size 147456 next 65\n",
      "2022-11-25 10:48:53.539588: I tensorflow/core/common_runtime/bfc_allocator.cc:1066] InUse at 7f3aeac49700 of size 1536 next 51\n",
      "2022-11-25 10:48:53.539597: I tensorflow/core/common_runtime/bfc_allocator.cc:1066] InUse at 7f3aeac49d00 of size 1280 next 14\n",
      "2022-11-25 10:48:53.539609: I tensorflow/core/common_runtime/bfc_allocator.cc:1066] InUse at 7f3aeac4a200 of size 3328 next 40\n",
      "2022-11-25 10:48:53.539621: I tensorflow/core/common_runtime/bfc_allocator.cc:1066] InUse at 7f3aeac4af00 of size 256 next 33\n",
      "2022-11-25 10:48:53.539633: I tensorflow/core/common_runtime/bfc_allocator.cc:1066] InUse at 7f3aeac4b000 of size 3328 next 70\n",
      "2022-11-25 10:48:53.539645: I tensorflow/core/common_runtime/bfc_allocator.cc:1066] InUse at 7f3aeac4bd00 of size 256 next 81\n",
      "2022-11-25 10:48:53.539657: I tensorflow/core/common_runtime/bfc_allocator.cc:1066] InUse at 7f3aeac4be00 of size 73728 next 10\n",
      "2022-11-25 10:48:53.539669: I tensorflow/core/common_runtime/bfc_allocator.cc:1066] InUse at 7f3aeac5de00 of size 256 next 55\n",
      "2022-11-25 10:48:53.539680: I tensorflow/core/common_runtime/bfc_allocator.cc:1066] InUse at 7f3aeac5df00 of size 204800 next 11\n",
      "2022-11-25 10:48:53.539692: I tensorflow/core/common_runtime/bfc_allocator.cc:1066] InUse at 7f3aeac8ff00 of size 256 next 50\n",
      "2022-11-25 10:48:53.539704: I tensorflow/core/common_runtime/bfc_allocator.cc:1066] InUse at 7f3aeac90000 of size 73728 next 32\n",
      "2022-11-25 10:48:53.539716: I tensorflow/core/common_runtime/bfc_allocator.cc:1066] InUse at 7f3aeaca2000 of size 256 next 34\n",
      "2022-11-25 10:48:53.539728: I tensorflow/core/common_runtime/bfc_allocator.cc:1066] InUse at 7f3aeaca2100 of size 231936 next 68\n",
      "2022-11-25 10:48:53.539739: I tensorflow/core/common_runtime/bfc_allocator.cc:1066] InUse at 7f3aeacdab00 of size 73728 next 58\n",
      "2022-11-25 10:48:53.539752: I tensorflow/core/common_runtime/bfc_allocator.cc:1066] InUse at 7f3aeacecb00 of size 73728 next 73\n",
      "2022-11-25 10:48:53.539764: I tensorflow/core/common_runtime/bfc_allocator.cc:1066] InUse at 7f3aeacfeb00 of size 147456 next 59\n",
      "2022-11-25 10:48:53.539776: I tensorflow/core/common_runtime/bfc_allocator.cc:1066] InUse at 7f3aead22b00 of size 524288 next 71\n",
      "2022-11-25 10:48:53.539789: I tensorflow/core/common_runtime/bfc_allocator.cc:1066] InUse at 7f3aeada2b00 of size 147456 next 97\n",
      "2022-11-25 10:48:53.539801: I tensorflow/core/common_runtime/bfc_allocator.cc:1066] InUse at 7f3aeadc6b00 of size 335872 next 91\n",
      "2022-11-25 10:48:53.539816: I tensorflow/core/common_runtime/bfc_allocator.cc:1066] InUse at 7f3aeae18b00 of size 204800 next 90\n",
      "2022-11-25 10:48:53.539827: I tensorflow/core/common_runtime/bfc_allocator.cc:1066] InUse at 7f3aeae4ab00 of size 73728 next 85\n",
      "2022-11-25 10:48:53.539837: I tensorflow/core/common_runtime/bfc_allocator.cc:1066] InUse at 7f3aeae5cb00 of size 73728 next 99\n",
      "2022-11-25 10:48:53.539844: I tensorflow/core/common_runtime/bfc_allocator.cc:1066] InUse at 7f3aeae6eb00 of size 204800 next 112\n",
      "2022-11-25 10:48:53.539856: I tensorflow/core/common_runtime/bfc_allocator.cc:1066] InUse at 7f3aeaea0b00 of size 466944 next 98\n",
      "2022-11-25 10:48:53.539866: I tensorflow/core/common_runtime/bfc_allocator.cc:1066] InUse at 7f3aeaf12b00 of size 139460608 next 67\n",
      "2022-11-25 10:48:53.539873: I tensorflow/core/common_runtime/bfc_allocator.cc:1066] InUse at 7f3af3412b00 of size 278298624 next 25\n",
      "2022-11-25 10:48:53.539879: I tensorflow/core/common_runtime/bfc_allocator.cc:1066] InUse at 7f3b03d7ab00 of size 136994816 next 78\n",
      "2022-11-25 10:48:53.539890: I tensorflow/core/common_runtime/bfc_allocator.cc:1066] InUse at 7f3b0c020b00 of size 139460608 next 77\n",
      "2022-11-25 10:48:53.539898: I tensorflow/core/common_runtime/bfc_allocator.cc:1066] InUse at 7f3b14520b00 of size 139460608 next 56\n",
      "2022-11-25 10:48:53.539904: I tensorflow/core/common_runtime/bfc_allocator.cc:1066] Free  at 7f3b1ca20b00 of size 834895872 next 101\n",
      "2022-11-25 10:48:53.539910: I tensorflow/core/common_runtime/bfc_allocator.cc:1066] InUse at 7f3b4e658b00 of size 278298624 next 95\n",
      "2022-11-25 10:48:53.539916: I tensorflow/core/common_runtime/bfc_allocator.cc:1066] Free  at 7f3b5efc0b00 of size 2401563904 next 18446744073709551615\n",
      "2022-11-25 10:48:53.539924: I tensorflow/core/common_runtime/bfc_allocator.cc:1071]      Summary of in-use Chunks by size: \n",
      "2022-11-25 10:48:53.539936: I tensorflow/core/common_runtime/bfc_allocator.cc:1074] 79 Chunks of size 256 totalling 19.8KiB\n",
      "2022-11-25 10:48:53.539944: I tensorflow/core/common_runtime/bfc_allocator.cc:1074] 6 Chunks of size 512 totalling 3.0KiB\n",
      "2022-11-25 10:48:53.539950: I tensorflow/core/common_runtime/bfc_allocator.cc:1074] 2 Chunks of size 1280 totalling 2.5KiB\n",
      "2022-11-25 10:48:53.539957: I tensorflow/core/common_runtime/bfc_allocator.cc:1074] 7 Chunks of size 1536 totalling 10.5KiB\n",
      "2022-11-25 10:48:53.539964: I tensorflow/core/common_runtime/bfc_allocator.cc:1074] 1 Chunks of size 1792 totalling 1.8KiB\n",
      "2022-11-25 10:48:53.539970: I tensorflow/core/common_runtime/bfc_allocator.cc:1074] 2 Chunks of size 2048 totalling 4.0KiB\n",
      "2022-11-25 10:48:53.539977: I tensorflow/core/common_runtime/bfc_allocator.cc:1074] 2 Chunks of size 3072 totalling 6.0KiB\n",
      "2022-11-25 10:48:53.539983: I tensorflow/core/common_runtime/bfc_allocator.cc:1074] 3 Chunks of size 3328 totalling 9.8KiB\n",
      "2022-11-25 10:48:53.539989: I tensorflow/core/common_runtime/bfc_allocator.cc:1074] 1 Chunks of size 5120 totalling 5.0KiB\n",
      "2022-11-25 10:48:53.539996: I tensorflow/core/common_runtime/bfc_allocator.cc:1074] 1 Chunks of size 5376 totalling 5.2KiB\n",
      "2022-11-25 10:48:53.540003: I tensorflow/core/common_runtime/bfc_allocator.cc:1074] 1 Chunks of size 6400 totalling 6.2KiB\n",
      "2022-11-25 10:48:53.540010: I tensorflow/core/common_runtime/bfc_allocator.cc:1074] 6 Chunks of size 73728 totalling 432.0KiB\n",
      "2022-11-25 10:48:53.540016: I tensorflow/core/common_runtime/bfc_allocator.cc:1074] 4 Chunks of size 147456 totalling 576.0KiB\n",
      "2022-11-25 10:48:53.540023: I tensorflow/core/common_runtime/bfc_allocator.cc:1074] 3 Chunks of size 204800 totalling 600.0KiB\n",
      "2022-11-25 10:48:53.540035: I tensorflow/core/common_runtime/bfc_allocator.cc:1074] 1 Chunks of size 231936 totalling 226.5KiB\n",
      "2022-11-25 10:48:53.540042: I tensorflow/core/common_runtime/bfc_allocator.cc:1074] 1 Chunks of size 335872 totalling 328.0KiB\n",
      "2022-11-25 10:48:53.540049: I tensorflow/core/common_runtime/bfc_allocator.cc:1074] 1 Chunks of size 409600 totalling 400.0KiB\n",
      "2022-11-25 10:48:53.540056: I tensorflow/core/common_runtime/bfc_allocator.cc:1074] 1 Chunks of size 466944 totalling 456.0KiB\n",
      "2022-11-25 10:48:53.540062: I tensorflow/core/common_runtime/bfc_allocator.cc:1074] 1 Chunks of size 524288 totalling 512.0KiB\n",
      "2022-11-25 10:48:53.540069: I tensorflow/core/common_runtime/bfc_allocator.cc:1074] 1 Chunks of size 136994816 totalling 130.65MiB\n",
      "2022-11-25 10:48:53.540076: I tensorflow/core/common_runtime/bfc_allocator.cc:1074] 3 Chunks of size 139460608 totalling 399.00MiB\n",
      "2022-11-25 10:48:53.540082: I tensorflow/core/common_runtime/bfc_allocator.cc:1074] 2 Chunks of size 278298624 totalling 530.81MiB\n",
      "2022-11-25 10:48:53.540089: I tensorflow/core/common_runtime/bfc_allocator.cc:1074] 1 Chunks of size 280294912 totalling 267.31MiB\n",
      "2022-11-25 10:48:53.540096: I tensorflow/core/common_runtime/bfc_allocator.cc:1078] Sum Total of in-use chunks: 1.30GiB\n",
      "2022-11-25 10:48:53.540102: I tensorflow/core/common_runtime/bfc_allocator.cc:1080] total_region_allocated_bytes_: 4632674304 memory_limit_: 4632674304 available bytes: 0 curr_region_allocation_bytes_: 9265348608\n",
      "2022-11-25 10:48:53.540113: I tensorflow/core/common_runtime/bfc_allocator.cc:1086] Stats: \n",
      "Limit:                      4632674304\n",
      "InUse:                      1395959552\n",
      "MaxInUse:                   1676503552\n",
      "NumAllocs:                         382\n",
      "MaxAllocSize:                280294912\n",
      "Reserved:                            0\n",
      "PeakReserved:                        0\n",
      "LargestFreeBlock:                    0\n",
      "\n",
      "2022-11-25 10:48:53.540130: W tensorflow/core/common_runtime/bfc_allocator.cc:474] *****************x*******_________________*******___________________________________________________\n",
      "2022-11-25 10:48:53.540168: W tensorflow/core/framework/op_kernel.cc:1745] OP_REQUIRES failed at conv_ops.cc:684 : RESOURCE_EXHAUSTED: OOM when allocating tensor with shape[256,32,236,316] and type float on /job:localhost/replica:0/task:0/device:GPU:0 by allocator GPU_0_bfc\n",
      "2022-11-25 10:48:53.844795: I tensorflow/stream_executor/cuda/cuda_dnn.cc:368] Loaded cuDNN version 8200\n"
     ]
    },
    {
     "ename": "KeyboardInterrupt",
     "evalue": "",
     "output_type": "error",
     "traceback": [
      "\u001b[0;31m---------------------------------------------------------------------------\u001b[0m",
      "\u001b[0;31mKeyboardInterrupt\u001b[0m                         Traceback (most recent call last)",
      "\u001b[0;32m/tmp/ipykernel_337984/966894464.py\u001b[0m in \u001b[0;36m<cell line: 21>\u001b[0;34m()\u001b[0m\n\u001b[1;32m     19\u001b[0m         mode='min')\n\u001b[1;32m     20\u001b[0m ]\n\u001b[0;32m---> 21\u001b[0;31m model.fit(tr_gen, epochs=500, validation_data=val_gen,\n\u001b[0m\u001b[1;32m     22\u001b[0m           verbose=1,callbacks=callbacks)\n",
      "\u001b[0;32m/usr/local/lib/python3.8/dist-packages/keras/utils/traceback_utils.py\u001b[0m in \u001b[0;36merror_handler\u001b[0;34m(*args, **kwargs)\u001b[0m\n\u001b[1;32m     62\u001b[0m     \u001b[0mfiltered_tb\u001b[0m \u001b[0;34m=\u001b[0m \u001b[0;32mNone\u001b[0m\u001b[0;34m\u001b[0m\u001b[0;34m\u001b[0m\u001b[0m\n\u001b[1;32m     63\u001b[0m     \u001b[0;32mtry\u001b[0m\u001b[0;34m:\u001b[0m\u001b[0;34m\u001b[0m\u001b[0;34m\u001b[0m\u001b[0m\n\u001b[0;32m---> 64\u001b[0;31m       \u001b[0;32mreturn\u001b[0m \u001b[0mfn\u001b[0m\u001b[0;34m(\u001b[0m\u001b[0;34m*\u001b[0m\u001b[0margs\u001b[0m\u001b[0;34m,\u001b[0m \u001b[0;34m**\u001b[0m\u001b[0mkwargs\u001b[0m\u001b[0;34m)\u001b[0m\u001b[0;34m\u001b[0m\u001b[0;34m\u001b[0m\u001b[0m\n\u001b[0m\u001b[1;32m     65\u001b[0m     \u001b[0;32mexcept\u001b[0m \u001b[0mException\u001b[0m \u001b[0;32mas\u001b[0m \u001b[0me\u001b[0m\u001b[0;34m:\u001b[0m  \u001b[0;31m# pylint: disable=broad-except\u001b[0m\u001b[0;34m\u001b[0m\u001b[0;34m\u001b[0m\u001b[0m\n\u001b[1;32m     66\u001b[0m       \u001b[0mfiltered_tb\u001b[0m \u001b[0;34m=\u001b[0m \u001b[0m_process_traceback_frames\u001b[0m\u001b[0;34m(\u001b[0m\u001b[0me\u001b[0m\u001b[0;34m.\u001b[0m\u001b[0m__traceback__\u001b[0m\u001b[0;34m)\u001b[0m\u001b[0;34m\u001b[0m\u001b[0;34m\u001b[0m\u001b[0m\n",
      "\u001b[0;32m/usr/local/lib/python3.8/dist-packages/keras/engine/training.py\u001b[0m in \u001b[0;36mfit\u001b[0;34m(self, x, y, batch_size, epochs, verbose, callbacks, validation_split, validation_data, shuffle, class_weight, sample_weight, initial_epoch, steps_per_epoch, validation_steps, validation_batch_size, validation_freq, max_queue_size, workers, use_multiprocessing)\u001b[0m\n\u001b[1;32m   1382\u001b[0m                 _r=1):\n\u001b[1;32m   1383\u001b[0m               \u001b[0mcallbacks\u001b[0m\u001b[0;34m.\u001b[0m\u001b[0mon_train_batch_begin\u001b[0m\u001b[0;34m(\u001b[0m\u001b[0mstep\u001b[0m\u001b[0;34m)\u001b[0m\u001b[0;34m\u001b[0m\u001b[0;34m\u001b[0m\u001b[0m\n\u001b[0;32m-> 1384\u001b[0;31m               \u001b[0mtmp_logs\u001b[0m \u001b[0;34m=\u001b[0m \u001b[0mself\u001b[0m\u001b[0;34m.\u001b[0m\u001b[0mtrain_function\u001b[0m\u001b[0;34m(\u001b[0m\u001b[0miterator\u001b[0m\u001b[0;34m)\u001b[0m\u001b[0;34m\u001b[0m\u001b[0;34m\u001b[0m\u001b[0m\n\u001b[0m\u001b[1;32m   1385\u001b[0m               \u001b[0;32mif\u001b[0m \u001b[0mdata_handler\u001b[0m\u001b[0;34m.\u001b[0m\u001b[0mshould_sync\u001b[0m\u001b[0;34m:\u001b[0m\u001b[0;34m\u001b[0m\u001b[0;34m\u001b[0m\u001b[0m\n\u001b[1;32m   1386\u001b[0m                 \u001b[0mcontext\u001b[0m\u001b[0;34m.\u001b[0m\u001b[0masync_wait\u001b[0m\u001b[0;34m(\u001b[0m\u001b[0;34m)\u001b[0m\u001b[0;34m\u001b[0m\u001b[0;34m\u001b[0m\u001b[0m\n",
      "\u001b[0;32m/usr/local/lib/python3.8/dist-packages/tensorflow/python/util/traceback_utils.py\u001b[0m in \u001b[0;36merror_handler\u001b[0;34m(*args, **kwargs)\u001b[0m\n\u001b[1;32m    148\u001b[0m     \u001b[0mfiltered_tb\u001b[0m \u001b[0;34m=\u001b[0m \u001b[0;32mNone\u001b[0m\u001b[0;34m\u001b[0m\u001b[0;34m\u001b[0m\u001b[0m\n\u001b[1;32m    149\u001b[0m     \u001b[0;32mtry\u001b[0m\u001b[0;34m:\u001b[0m\u001b[0;34m\u001b[0m\u001b[0;34m\u001b[0m\u001b[0m\n\u001b[0;32m--> 150\u001b[0;31m       \u001b[0;32mreturn\u001b[0m \u001b[0mfn\u001b[0m\u001b[0;34m(\u001b[0m\u001b[0;34m*\u001b[0m\u001b[0margs\u001b[0m\u001b[0;34m,\u001b[0m \u001b[0;34m**\u001b[0m\u001b[0mkwargs\u001b[0m\u001b[0;34m)\u001b[0m\u001b[0;34m\u001b[0m\u001b[0;34m\u001b[0m\u001b[0m\n\u001b[0m\u001b[1;32m    151\u001b[0m     \u001b[0;32mexcept\u001b[0m \u001b[0mException\u001b[0m \u001b[0;32mas\u001b[0m \u001b[0me\u001b[0m\u001b[0;34m:\u001b[0m\u001b[0;34m\u001b[0m\u001b[0;34m\u001b[0m\u001b[0m\n\u001b[1;32m    152\u001b[0m       \u001b[0mfiltered_tb\u001b[0m \u001b[0;34m=\u001b[0m \u001b[0m_process_traceback_frames\u001b[0m\u001b[0;34m(\u001b[0m\u001b[0me\u001b[0m\u001b[0;34m.\u001b[0m\u001b[0m__traceback__\u001b[0m\u001b[0;34m)\u001b[0m\u001b[0;34m\u001b[0m\u001b[0;34m\u001b[0m\u001b[0m\n",
      "\u001b[0;32m/usr/local/lib/python3.8/dist-packages/tensorflow/python/eager/def_function.py\u001b[0m in \u001b[0;36m__call__\u001b[0;34m(self, *args, **kwds)\u001b[0m\n\u001b[1;32m    913\u001b[0m \u001b[0;34m\u001b[0m\u001b[0m\n\u001b[1;32m    914\u001b[0m       \u001b[0;32mwith\u001b[0m \u001b[0mOptionalXlaContext\u001b[0m\u001b[0;34m(\u001b[0m\u001b[0mself\u001b[0m\u001b[0;34m.\u001b[0m\u001b[0m_jit_compile\u001b[0m\u001b[0;34m)\u001b[0m\u001b[0;34m:\u001b[0m\u001b[0;34m\u001b[0m\u001b[0;34m\u001b[0m\u001b[0m\n\u001b[0;32m--> 915\u001b[0;31m         \u001b[0mresult\u001b[0m \u001b[0;34m=\u001b[0m \u001b[0mself\u001b[0m\u001b[0;34m.\u001b[0m\u001b[0m_call\u001b[0m\u001b[0;34m(\u001b[0m\u001b[0;34m*\u001b[0m\u001b[0margs\u001b[0m\u001b[0;34m,\u001b[0m \u001b[0;34m**\u001b[0m\u001b[0mkwds\u001b[0m\u001b[0;34m)\u001b[0m\u001b[0;34m\u001b[0m\u001b[0;34m\u001b[0m\u001b[0m\n\u001b[0m\u001b[1;32m    916\u001b[0m \u001b[0;34m\u001b[0m\u001b[0m\n\u001b[1;32m    917\u001b[0m       \u001b[0mnew_tracing_count\u001b[0m \u001b[0;34m=\u001b[0m \u001b[0mself\u001b[0m\u001b[0;34m.\u001b[0m\u001b[0mexperimental_get_tracing_count\u001b[0m\u001b[0;34m(\u001b[0m\u001b[0;34m)\u001b[0m\u001b[0;34m\u001b[0m\u001b[0;34m\u001b[0m\u001b[0m\n",
      "\u001b[0;32m/usr/local/lib/python3.8/dist-packages/tensorflow/python/eager/def_function.py\u001b[0m in \u001b[0;36m_call\u001b[0;34m(self, *args, **kwds)\u001b[0m\n\u001b[1;32m    978\u001b[0m         \u001b[0;31m# Lifting succeeded, so variables are initialized and we can run the\u001b[0m\u001b[0;34m\u001b[0m\u001b[0;34m\u001b[0m\u001b[0;34m\u001b[0m\u001b[0m\n\u001b[1;32m    979\u001b[0m         \u001b[0;31m# stateless function.\u001b[0m\u001b[0;34m\u001b[0m\u001b[0;34m\u001b[0m\u001b[0;34m\u001b[0m\u001b[0m\n\u001b[0;32m--> 980\u001b[0;31m         \u001b[0;32mreturn\u001b[0m \u001b[0mself\u001b[0m\u001b[0;34m.\u001b[0m\u001b[0m_stateless_fn\u001b[0m\u001b[0;34m(\u001b[0m\u001b[0;34m*\u001b[0m\u001b[0margs\u001b[0m\u001b[0;34m,\u001b[0m \u001b[0;34m**\u001b[0m\u001b[0mkwds\u001b[0m\u001b[0;34m)\u001b[0m\u001b[0;34m\u001b[0m\u001b[0;34m\u001b[0m\u001b[0m\n\u001b[0m\u001b[1;32m    981\u001b[0m     \u001b[0;32melse\u001b[0m\u001b[0;34m:\u001b[0m\u001b[0;34m\u001b[0m\u001b[0;34m\u001b[0m\u001b[0m\n\u001b[1;32m    982\u001b[0m       \u001b[0m_\u001b[0m\u001b[0;34m,\u001b[0m \u001b[0m_\u001b[0m\u001b[0;34m,\u001b[0m \u001b[0m_\u001b[0m\u001b[0;34m,\u001b[0m \u001b[0mfiltered_flat_args\u001b[0m \u001b[0;34m=\u001b[0m\u001b[0;31m \u001b[0m\u001b[0;31m\\\u001b[0m\u001b[0;34m\u001b[0m\u001b[0;34m\u001b[0m\u001b[0m\n",
      "\u001b[0;32m/usr/local/lib/python3.8/dist-packages/tensorflow/python/eager/function.py\u001b[0m in \u001b[0;36m__call__\u001b[0;34m(self, *args, **kwargs)\u001b[0m\n\u001b[1;32m   2954\u001b[0m       (graph_function,\n\u001b[1;32m   2955\u001b[0m        filtered_flat_args) = self._maybe_define_function(args, kwargs)\n\u001b[0;32m-> 2956\u001b[0;31m     return graph_function._call_flat(\n\u001b[0m\u001b[1;32m   2957\u001b[0m         filtered_flat_args, captured_inputs=graph_function.captured_inputs)  # pylint: disable=protected-access\n\u001b[1;32m   2958\u001b[0m \u001b[0;34m\u001b[0m\u001b[0m\n",
      "\u001b[0;32m/usr/local/lib/python3.8/dist-packages/tensorflow/python/eager/function.py\u001b[0m in \u001b[0;36m_call_flat\u001b[0;34m(self, args, captured_inputs, cancellation_manager)\u001b[0m\n\u001b[1;32m   1851\u001b[0m         and executing_eagerly):\n\u001b[1;32m   1852\u001b[0m       \u001b[0;31m# No tape is watching; skip to running the function.\u001b[0m\u001b[0;34m\u001b[0m\u001b[0;34m\u001b[0m\u001b[0;34m\u001b[0m\u001b[0m\n\u001b[0;32m-> 1853\u001b[0;31m       return self._build_call_outputs(self._inference_function.call(\n\u001b[0m\u001b[1;32m   1854\u001b[0m           ctx, args, cancellation_manager=cancellation_manager))\n\u001b[1;32m   1855\u001b[0m     forward_backward = self._select_forward_and_backward_functions(\n",
      "\u001b[0;32m/usr/local/lib/python3.8/dist-packages/tensorflow/python/eager/function.py\u001b[0m in \u001b[0;36mcall\u001b[0;34m(self, ctx, args, cancellation_manager)\u001b[0m\n\u001b[1;32m    497\u001b[0m       \u001b[0;32mwith\u001b[0m \u001b[0m_InterpolateFunctionError\u001b[0m\u001b[0;34m(\u001b[0m\u001b[0mself\u001b[0m\u001b[0;34m)\u001b[0m\u001b[0;34m:\u001b[0m\u001b[0;34m\u001b[0m\u001b[0;34m\u001b[0m\u001b[0m\n\u001b[1;32m    498\u001b[0m         \u001b[0;32mif\u001b[0m \u001b[0mcancellation_manager\u001b[0m \u001b[0;32mis\u001b[0m \u001b[0;32mNone\u001b[0m\u001b[0;34m:\u001b[0m\u001b[0;34m\u001b[0m\u001b[0;34m\u001b[0m\u001b[0m\n\u001b[0;32m--> 499\u001b[0;31m           outputs = execute.execute(\n\u001b[0m\u001b[1;32m    500\u001b[0m               \u001b[0mstr\u001b[0m\u001b[0;34m(\u001b[0m\u001b[0mself\u001b[0m\u001b[0;34m.\u001b[0m\u001b[0msignature\u001b[0m\u001b[0;34m.\u001b[0m\u001b[0mname\u001b[0m\u001b[0;34m)\u001b[0m\u001b[0;34m,\u001b[0m\u001b[0;34m\u001b[0m\u001b[0;34m\u001b[0m\u001b[0m\n\u001b[1;32m    501\u001b[0m               \u001b[0mnum_outputs\u001b[0m\u001b[0;34m=\u001b[0m\u001b[0mself\u001b[0m\u001b[0;34m.\u001b[0m\u001b[0m_num_outputs\u001b[0m\u001b[0;34m,\u001b[0m\u001b[0;34m\u001b[0m\u001b[0;34m\u001b[0m\u001b[0m\n",
      "\u001b[0;32m/usr/local/lib/python3.8/dist-packages/tensorflow/python/eager/execute.py\u001b[0m in \u001b[0;36mquick_execute\u001b[0;34m(op_name, num_outputs, inputs, attrs, ctx, name)\u001b[0m\n\u001b[1;32m     52\u001b[0m   \u001b[0;32mtry\u001b[0m\u001b[0;34m:\u001b[0m\u001b[0;34m\u001b[0m\u001b[0;34m\u001b[0m\u001b[0m\n\u001b[1;32m     53\u001b[0m     \u001b[0mctx\u001b[0m\u001b[0;34m.\u001b[0m\u001b[0mensure_initialized\u001b[0m\u001b[0;34m(\u001b[0m\u001b[0;34m)\u001b[0m\u001b[0;34m\u001b[0m\u001b[0;34m\u001b[0m\u001b[0m\n\u001b[0;32m---> 54\u001b[0;31m     tensors = pywrap_tfe.TFE_Py_Execute(ctx._handle, device_name, op_name,\n\u001b[0m\u001b[1;32m     55\u001b[0m                                         inputs, attrs, num_outputs)\n\u001b[1;32m     56\u001b[0m   \u001b[0;32mexcept\u001b[0m \u001b[0mcore\u001b[0m\u001b[0;34m.\u001b[0m\u001b[0m_NotOkStatusException\u001b[0m \u001b[0;32mas\u001b[0m \u001b[0me\u001b[0m\u001b[0;34m:\u001b[0m\u001b[0;34m\u001b[0m\u001b[0;34m\u001b[0m\u001b[0m\n",
      "\u001b[0;31mKeyboardInterrupt\u001b[0m: "
     ]
    }
   ],
   "source": [
    "model=tf.keras.models.load_model('수평수직모델.h5',compile=False)\n",
    "# model=my_model()\n",
    "model.compile(\n",
    "    optimizer=tf.keras.optimizers.Adam(\n",
    "    learning_rate=.01),\n",
    "    # loss='sparse_categorical_crossentropy',metrics='acc'\n",
    "    loss={\"output1\":'categorical_crossentropy', \n",
    "          \"output2\":'categorical_crossentropy'},\n",
    "    metrics={\"output1\":'accuracy',\n",
    "             \"output2\":'accuracy'},\n",
    "    )\n",
    "\n",
    "callbacks=[\n",
    "    tf.keras.callbacks.EarlyStopping(\n",
    "            monitor='val_loss', patience=10,\n",
    "        mode='min'),\n",
    "        tf.keras.callbacks.ReduceLROnPlateau(\n",
    "            monitor='val_loss',patience=5,factor=0.1,\n",
    "        mode='min')\n",
    "]\n",
    "model.fit(tr_gen, epochs=500, validation_data=val_gen,\n",
    "          verbose=1,callbacks=callbacks)\n"
   ]
  },
  {
   "cell_type": "markdown",
   "id": "32b94027-5094-4505-890b-10b407b7106f",
   "metadata": {},
   "source": [
    "### valid"
   ]
  },
  {
   "cell_type": "code",
   "execution_count": 6,
   "id": "5db65c7e-8a1d-4d32-aa32-24a1e08433a6",
   "metadata": {
    "execution": {
     "iopub.execute_input": "2022-11-25T10:34:40.149242Z",
     "iopub.status.busy": "2022-11-25T10:34:40.149127Z",
     "iopub.status.idle": "2022-11-25T10:41:42.325959Z",
     "shell.execute_reply": "2022-11-25T10:41:42.325594Z",
     "shell.execute_reply.started": "2022-11-25T10:34:40.149225Z"
    },
    "tags": []
   },
   "outputs": [
    {
     "name": "stdout",
     "output_type": "stream",
     "text": [
      "2022-11-25 10:34:40.156020\n",
      "K = 1, test_length : 3948\n"
     ]
    },
    {
     "name": "stderr",
     "output_type": "stream",
     "text": [
      "0it [00:00, ?it/s]2022-11-25 10:34:40.676064: I tensorflow/stream_executor/cuda/cuda_dnn.cc:368] Loaded cuDNN version 8200\n",
      "3948it [02:20, 28.10it/s]\n"
     ]
    },
    {
     "name": "stdout",
     "output_type": "stream",
     "text": [
      "K = 2, test_length : 3947\n"
     ]
    },
    {
     "name": "stderr",
     "output_type": "stream",
     "text": [
      "3947it [02:20, 28.07it/s]\n"
     ]
    },
    {
     "name": "stdout",
     "output_type": "stream",
     "text": [
      "K = 3, test_length : 3947\n"
     ]
    },
    {
     "name": "stderr",
     "output_type": "stream",
     "text": [
      "3947it [02:20, 28.01it/s]"
     ]
    },
    {
     "name": "stdout",
     "output_type": "stream",
     "text": [
      "2022-11-25 10:41:42.324136\n"
     ]
    },
    {
     "name": "stderr",
     "output_type": "stream",
     "text": [
      "\n"
     ]
    }
   ],
   "source": [
    "kf = KFold(n_splits = 3, shuffle = False)\n",
    "output_type='float32';output_shape=(240,320);\n",
    "y_shape=(3,3);y_type=(output_type,output_type)\n",
    "dfs=list()\n",
    "target_label1=np.array(['left','mid','right'])\n",
    "target_label2=np.array(['up','mid','down'])\n",
    "\n",
    "print(datetime.datetime.today())\n",
    "tp_sum=dict();fn_sum=dict();fp_sum=dict();tn_sum=dict()\n",
    "for K, (train_idx,test_idx) in enumerate(kf.split(label_df[::40]),1):\n",
    "    \n",
    "    for cutoff in np.arange(0,1.1,0.05):\n",
    "        for out_type in [0,1]:\n",
    "            if out_type==0:\n",
    "                target_label=target_label1\n",
    "            else:\n",
    "                target_label=target_label2\n",
    "            for target in target_label:\n",
    "                cond=f\"K_{K}_out_type_{out_type}_target_{target}_cutoff_{cutoff:.02f}\"\n",
    "                tp_sum[cond]=0;fn_sum[cond]=0;fp_sum[cond]=0;tn_sum[cond]=0\n",
    "    \n",
    "    test_files=label_df.loc[test_idx]\n",
    "    test_files=test_files.reset_index(drop=True)\n",
    "    print(f\"K = {K}, test_length : {len(test_files)}\")\n",
    "    \n",
    "    with tf.device(\"/cpu:0\"):\n",
    "        random.seed(42)\n",
    "        te_dataset=tf.data.Dataset.from_generator(\n",
    "            my_generator(test_files),\n",
    "            output_shapes=(output_shape, y_shape),\n",
    "            output_types=(output_type, y_type))\n",
    "        te_gen =te_dataset.batch(1).prefetch(1)\n",
    "        \n",
    "    with tf.device(\"/gpu:0\"):\n",
    "    #     ###################\n",
    "    #     \"\"\"\n",
    "    #     모델 검증\n",
    "    #     \"\"\"\n",
    "        for i,(x,y) in tqdm(enumerate(te_gen)):\n",
    "            pred=model.predict(x)\n",
    "            y1_pred,y2_pred=[np.argmax(i) for i in pred]\n",
    "            test_files.loc[i,'y1_pred']=target_label1[y1_pred]\n",
    "            test_files.loc[i,'y2_pred']=target_label2[y2_pred]\n",
    "            for target in range(3):\n",
    "                for out_type in [0,1]:\n",
    "                    if out_type==0:\n",
    "                        target_label=target_label1\n",
    "                    else:\n",
    "                        target_label=target_label2\n",
    "\n",
    "                    y_true=y[out_type][:,target].numpy()\n",
    "                    y_pred=pred[out_type][:,target].astype('float64')\n",
    "\n",
    "                    for cutoff in np.arange(0,1.1,0.05):\n",
    "                        cond=f\"K_{K}_out_type_{out_type}_target_{target_label[target]}_cutoff_{cutoff:.02f}\"\n",
    "                        tp,fn,fp,tn=my_confusion_matrix(y_true,y_pred,cutoff)\n",
    "                        # tn,fn,fp,tp=confusion_matrix(y_true,y_pred,cutoff=cutoff)\n",
    "                        tp_sum[cond]+=tp;fn_sum[cond]+=fn;fp_sum[cond]+=fp;tn_sum[cond]+=tn\n",
    "        dfs.append(test_files)\n",
    "# pd.concat(dfs).to_csv('안진방향판별_output.csv',index=False)\n",
    "print(datetime.datetime.today())"
   ]
  },
  {
   "cell_type": "code",
   "execution_count": 7,
   "id": "529c9b2a-1e7c-4bab-a5d5-be0d9bf1c2a6",
   "metadata": {
    "execution": {
     "iopub.execute_input": "2022-11-25T10:41:42.327748Z",
     "iopub.status.busy": "2022-11-25T10:41:42.327605Z",
     "iopub.status.idle": "2022-11-25T10:41:42.330322Z",
     "shell.execute_reply": "2022-11-25T10:41:42.329975Z",
     "shell.execute_reply.started": "2022-11-25T10:41:42.327733Z"
    },
    "tags": []
   },
   "outputs": [],
   "source": [
    "# joblib.dump([tp_sum,fn_sum,fp_sum,tn_sum],'수평수직지표.pkl')\n",
    "from itertools import cycle\n",
    "import matplotlib.pyplot as plt \n",
    "import numpy as np\n",
    "import joblib\n",
    "from sklearn import metrics\n",
    "# tp_sum,fn_sum,fp_sum,tn_sum=joblib.load('수평수직지표.pkl')"
   ]
  },
  {
   "cell_type": "code",
   "execution_count": 8,
   "id": "991d7c8c-da9c-4afb-bc60-dd8c52f9683a",
   "metadata": {
    "execution": {
     "iopub.execute_input": "2022-11-25T10:41:42.331023Z",
     "iopub.status.busy": "2022-11-25T10:41:42.330859Z",
     "iopub.status.idle": "2022-11-25T10:41:42.337983Z",
     "shell.execute_reply": "2022-11-25T10:41:42.337611Z",
     "shell.execute_reply.started": "2022-11-25T10:41:42.331009Z"
    },
    "tags": []
   },
   "outputs": [],
   "source": [
    "colors = cycle([\"aqua\", \"darkorange\", \"cornflowerblue\"])\n",
    "out_type=0\n",
    "target_label=target_label1\n",
    "# out_type=1\n",
    "# target_label=target_label2\n",
    "roc_aucs=dict()\n",
    "for target in target_label:\n",
    "    tpr=dict();fpr=dict()\n",
    "    for K in range(1,4):\n",
    "        tpr[K]=list();fpr[K]=list()    \n",
    "        for i in np.arange(0,1.1,.05):\n",
    "            tpr[K].append(tp_sum[f\"K_{K}_out_type_{out_type}_target_{target}_cutoff_{i:.02f}\"]/(\n",
    "                tp_sum[f\"K_{K}_out_type_{out_type}_target_{target}_cutoff_{i:.02f}\"]+\\\n",
    "                fn_sum[f\"K_{K}_out_type_{out_type}_target_{target}_cutoff_{i:.02f}\"]))\n",
    "            fpr[K].append(fp_sum[f\"K_{K}_out_type_{out_type}_target_{target}_cutoff_{i:.02f}\"]/(\n",
    "                fp_sum[f\"K_{K}_out_type_{out_type}_target_{target}_cutoff_{i:.02f}\"]+\\\n",
    "                tn_sum[f\"K_{K}_out_type_{out_type}_target_{target}_cutoff_{i:.02f}\"]))\n",
    "        tpr[K]=np.array(tpr[K]);fpr[K]=np.array(fpr[K])\n",
    "\n",
    "    for K,color in zip(range(1,4),colors):\n",
    "        roc_auc=metrics.auc(fpr[K],tpr[K])\n",
    "        roc_aucs[f\"{target}_{K}\"]=roc_auc"
   ]
  },
  {
   "cell_type": "code",
   "execution_count": 9,
   "id": "f447394a-0f13-48c8-982d-c466442e25d2",
   "metadata": {
    "execution": {
     "iopub.execute_input": "2022-11-25T10:41:42.338655Z",
     "iopub.status.busy": "2022-11-25T10:41:42.338494Z",
     "iopub.status.idle": "2022-11-25T10:41:42.343075Z",
     "shell.execute_reply": "2022-11-25T10:41:42.342620Z",
     "shell.execute_reply.started": "2022-11-25T10:41:42.338642Z"
    },
    "tags": []
   },
   "outputs": [
    {
     "data": {
      "text/plain": [
       "{'left_1': 0.4647086251241751,\n",
       " 'left_2': 0.49433533569739074,\n",
       " 'left_3': 0.5017608657526956,\n",
       " 'mid_1': 0.5675107489326134,\n",
       " 'mid_2': 0.5242032857345742,\n",
       " 'mid_3': 0.4729541277035377,\n",
       " 'right_1': 0.47792212346451074,\n",
       " 'right_2': 0.5285638616452424,\n",
       " 'right_3': 0.5055087008270056}"
      ]
     },
     "execution_count": 9,
     "metadata": {},
     "output_type": "execute_result"
    }
   ],
   "source": [
    "roc_aucs"
   ]
  },
  {
   "cell_type": "code",
   "execution_count": 10,
   "id": "49341666-6a97-4192-a0f4-c1309a2ea574",
   "metadata": {
    "execution": {
     "iopub.execute_input": "2022-11-25T10:41:42.343712Z",
     "iopub.status.busy": "2022-11-25T10:41:42.343586Z",
     "iopub.status.idle": "2022-11-25T10:41:42.347345Z",
     "shell.execute_reply": "2022-11-25T10:41:42.346773Z",
     "shell.execute_reply.started": "2022-11-25T10:41:42.343699Z"
    },
    "tags": []
   },
   "outputs": [
    {
     "data": {
      "text/plain": [
       "0.5041630749868607"
      ]
     },
     "execution_count": 10,
     "metadata": {},
     "output_type": "execute_result"
    }
   ],
   "source": [
    "np.mean(list(roc_aucs.values()))"
   ]
  },
  {
   "cell_type": "code",
   "execution_count": 11,
   "id": "36bb1068-2c14-47d9-bcbf-d5f551350c2d",
   "metadata": {
    "execution": {
     "iopub.execute_input": "2022-11-25T10:41:42.348265Z",
     "iopub.status.busy": "2022-11-25T10:41:42.348107Z",
     "iopub.status.idle": "2022-11-25T10:41:42.350695Z",
     "shell.execute_reply": "2022-11-25T10:41:42.350172Z",
     "shell.execute_reply.started": "2022-11-25T10:41:42.348247Z"
    },
    "tags": []
   },
   "outputs": [],
   "source": [
    "# with open(\"수평수직지표.json\", 'w') as outfile:\n",
    "#     json.dump(roc_aucs, outfile)"
   ]
  },
  {
   "cell_type": "code",
   "execution_count": 12,
   "id": "b6aaf62b-210c-4daa-b561-870b4d7c19f7",
   "metadata": {
    "execution": {
     "iopub.execute_input": "2022-11-25T10:41:42.351550Z",
     "iopub.status.busy": "2022-11-25T10:41:42.351336Z",
     "iopub.status.idle": "2022-11-25T10:41:42.454423Z",
     "shell.execute_reply": "2022-11-25T10:41:42.454064Z",
     "shell.execute_reply.started": "2022-11-25T10:41:42.351533Z"
    },
    "tags": []
   },
   "outputs": [
    {
     "data": {
      "image/png": "[encoded data removed]",
      "text/plain": [
       "<Figure size 432x288 with 1 Axes>"
      ]
     },
     "metadata": {
      "needs_background": "light"
     },
     "output_type": "display_data"
    },
    {
     "name": "stdout",
     "output_type": "stream",
     "text": [
      "2022-11-25 10:41:42.452693\n"
     ]
    }
   ],
   "source": [
    "target=\"mid\";out_type=0\n",
    "tpr=dict();fpr=dict()\n",
    "for K in range(1,4):\n",
    "    tpr[K]=list();fpr[K]=list()    \n",
    "    for i in np.arange(0,1.1,.05):\n",
    "        tpr[K].append(tp_sum[f\"K_{K}_out_type_{out_type}_target_{target}_cutoff_{i:.02f}\"]/(\n",
    "            tp_sum[f\"K_{K}_out_type_{out_type}_target_{target}_cutoff_{i:.02f}\"]+\\\n",
    "            fn_sum[f\"K_{K}_out_type_{out_type}_target_{target}_cutoff_{i:.02f}\"]))\n",
    "        fpr[K].append(fp_sum[f\"K_{K}_out_type_{out_type}_target_{target}_cutoff_{i:.02f}\"]/(\n",
    "            fp_sum[f\"K_{K}_out_type_{out_type}_target_{target}_cutoff_{i:.02f}\"]+\\\n",
    "            tn_sum[f\"K_{K}_out_type_{out_type}_target_{target}_cutoff_{i:.02f}\"]))\n",
    "    tpr[K]=np.array(tpr[K]);fpr[K]=np.array(fpr[K])\n",
    "    \n",
    "plt.figure()\n",
    "plt.rcParams['figure.figsize'] = [10,5]\n",
    "plt.rcParams.update({'font.size': 12})\n",
    "colors = cycle([\"aqua\", \"darkorange\", \"cornflowerblue\"])\n",
    "lw=2\n",
    "for K,color in zip(range(1,4),colors):\n",
    "    roc_auc=metrics.auc(fpr[K],tpr[K])\n",
    "    plt.plot(\n",
    "        fpr[K],\n",
    "        tpr[K],\n",
    "        label=f\"{K}-fold ROC curve (AUC = {roc_auc:0.5f})\",\n",
    "        color=color,\n",
    "        lw=lw\n",
    "    )\n",
    "plt.plot([0, 1], [0, 1], \"k--\", lw=lw)\n",
    "plt.xlim([0.0, 1.0])\n",
    "plt.ylim([0.0, 1.05])\n",
    "plt.xlabel(\"False Positive Rate\")\n",
    "plt.ylabel(\"True Positive Rate\")\n",
    "plt.title(\"ROC Curve(K-fold Cross Validation)\")\n",
    "plt.legend(loc=\"lower right\")\n",
    "plt.show()\n",
    "print(datetime.datetime.today())"
   ]
  },
  {
   "cell_type": "code",
   "execution_count": null,
   "id": "a70ad788-98cc-4927-9888-c06f1e6fcf57",
   "metadata": {},
   "outputs": [],
   "source": []
  }
 ],
 "metadata": {
  "kernelspec": {
   "display_name": "Python 3 (ipykernel)",
   "language": "python",
   "name": "python3"
  },
  "language_info": {
   "codemirror_mode": {
    "name": "ipython",
    "version": 3
   },
   "file_extension": ".py",
   "mimetype": "text/x-python",
   "name": "python",
   "nbconvert_exporter": "python",
   "pygments_lexer": "ipython3",
   "version": "3.8.10"
  }
 },
 "nbformat": 4,
 "nbformat_minor": 5
}
