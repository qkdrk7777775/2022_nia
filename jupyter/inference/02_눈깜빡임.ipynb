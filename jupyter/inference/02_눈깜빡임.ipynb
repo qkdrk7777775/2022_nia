{
 "cells": [
  {
   "cell_type": "code",
   "execution_count": 1,
   "id": "bd84e370-4af5-4c30-884f-1fcc6272709a",
   "metadata": {
    "execution": {
     "iopub.execute_input": "2022-11-24T01:16:02.578544Z",
     "iopub.status.busy": "2022-11-24T01:16:02.578436Z",
     "iopub.status.idle": "2022-11-24T01:16:02.584739Z",
     "shell.execute_reply": "2022-11-24T01:16:02.583544Z",
     "shell.execute_reply.started": "2022-11-24T01:16:02.578526Z"
    }
   },
   "outputs": [],
   "source": [
    "#!pip install opencv-python"
   ]
  },
  {
   "cell_type": "code",
   "execution_count": 2,
   "id": "f42fff1d-407a-44c7-9e15-88737db212d0",
   "metadata": {
    "execution": {
     "iopub.execute_input": "2022-11-24T01:16:02.586165Z",
     "iopub.status.busy": "2022-11-24T01:16:02.586041Z",
     "iopub.status.idle": "2022-11-24T01:16:04.039586Z",
     "shell.execute_reply": "2022-11-24T01:16:04.039183Z",
     "shell.execute_reply.started": "2022-11-24T01:16:02.586147Z"
    },
    "tags": []
   },
   "outputs": [
    {
     "name": "stdout",
     "output_type": "stream",
     "text": [
      "Python implementation: CPython\n",
      "Python version       : 3.8.10\n",
      "IPython version      : 7.34.0\n",
      "\n",
      "os        : unknown\n",
      "glob      : unknown\n",
      "cv2       : 4.6.0\n",
      "shutil    : unknown\n",
      "joblib    : 1.1.0\n",
      "gc        : unknown\n",
      "random    : unknown\n",
      "re        : 2.2.1\n",
      "tensorflow: 2.8.0\n",
      "numpy     : 1.22.3\n",
      "tqdm      : 4.63.1\n",
      "matplotlib: 3.5.1\n",
      "pandas    : 1.4.1\n",
      "sklearn   : 1.0.2\n",
      "datetime  : unknown\n",
      "warning   : not installed\n",
      "\n"
     ]
    }
   ],
   "source": [
    "%reload_ext watermark\n",
    "%watermark -v -p os,glob,cv2,shutil,joblib,gc,random,re,tensorflow,numpy,tqdm,matplotlib,pandas,sklearn,datetime,random,warning"
   ]
  },
  {
   "cell_type": "code",
   "execution_count": 3,
   "id": "7ec98636-1317-4da5-8ae7-611ca8e97f0a",
   "metadata": {
    "execution": {
     "iopub.execute_input": "2022-11-24T01:16:04.040569Z",
     "iopub.status.busy": "2022-11-24T01:16:04.040297Z",
     "iopub.status.idle": "2022-11-24T01:16:04.415645Z",
     "shell.execute_reply": "2022-11-24T01:16:04.415219Z",
     "shell.execute_reply.started": "2022-11-24T01:16:04.040552Z"
    },
    "tags": []
   },
   "outputs": [
    {
     "name": "stdout",
     "output_type": "stream",
     "text": [
      "2022-11-24 01:16:04.413868\n"
     ]
    }
   ],
   "source": [
    "import os, glob, cv2, shutil, joblib,gc, random, re\n",
    "import tensorflow as tf\n",
    "import numpy as np\n",
    "from tqdm import tqdm\n",
    "import matplotlib.pyplot as plt\n",
    "import pandas as pd\n",
    "from datetime import datetime\n",
    "from sklearn.model_selection import train_test_split, KFold\n",
    "from sklearn import metrics\n",
    "import random\n",
    "import warnings\n",
    "warnings.filterwarnings(action='ignore')\n",
    "import datetime\n",
    "print(datetime.datetime.today())"
   ]
  },
  {
   "cell_type": "code",
   "execution_count": 4,
   "id": "6100af08-57b3-4df1-bcfb-485cf21111c4",
   "metadata": {
    "execution": {
     "iopub.execute_input": "2022-11-24T01:16:04.416383Z",
     "iopub.status.busy": "2022-11-24T01:16:04.416250Z",
     "iopub.status.idle": "2022-11-24T01:16:04.423783Z",
     "shell.execute_reply": "2022-11-24T01:16:04.423348Z",
     "shell.execute_reply.started": "2022-11-24T01:16:04.416368Z"
    },
    "tags": []
   },
   "outputs": [],
   "source": [
    "def video_gray2rgb(df):\n",
    "    out=np.zeros(df.shape[:3]+(3,),dtype='u1')\n",
    "    for i in range(df.shape[0]):\n",
    "        img=cv2.cvtColor(df[i,:,:,0],cv2.COLOR_GRAY2RGB)\n",
    "        out[i,:,:,:]=img   \n",
    "        del img\n",
    "    return out\n",
    "def batch_avi(data,idx,BATCH_SIZE=1024,font=cv2.FONT_HERSHEY_SIMPLEX):\n",
    "    def label_vis(data,i,font):\n",
    "        input_img=cv2.cvtColor(data[i,:,:,0],cv2.COLOR_GRAY2RGB\n",
    "                            ).astype('u1')\n",
    "        \n",
    "        pred_img=cv2.cvtColor(data[i,:,:,1]*255,cv2.COLOR_GRAY2RGB\n",
    "                            ).astype('u1')\n",
    "        pred_img[:,:,(0,2)]=0\n",
    "        \n",
    "        label_img=cv2.addWeighted(input_img,1,pred_img,.2,0)\n",
    "        text=f\"Index : {i}\"\n",
    "        cv2.putText(label_img,text, (80,30),font,1,(255,0,0),2)\n",
    "        \n",
    "        return np.expand_dims(label_img,axis=0)\n",
    "    return np.concatenate([label_vis(data,i, font) \n",
    "                    for i in range((BATCH_SIZE*idx),\n",
    "                                   (np.min([data.shape[0],(idx+1)*BATCH_SIZE])))])\n",
    "\n",
    "def write_avi(data,file_name,fps=30):\n",
    "    fourcc = cv2.VideoWriter_fourcc(*\"DIVX\")\n",
    "    (width, height)=data.shape[1:3]\n",
    "    out = cv2.VideoWriter(file_name, fourcc, fps, (height, width),isColor=True)\n",
    "    for i in range(len(data)):\n",
    "        out.write(data[i])\n",
    "    out.release()\n",
    "    \n",
    "def my_confusion_matrix(y_true,y_pred,cutoff=.5):\n",
    "    label_true=y_true>=.5\n",
    "    pred_true=y_pred>=cutoff\n",
    "    label_false= ~ label_true\n",
    "    pred_false = ~ pred_true\n",
    "    tp=np.sum(label_true&pred_true)\n",
    "    fn=np.sum(label_true)-tp\n",
    "    fp=np.sum(label_false&pred_true)\n",
    "    tn=np.sum(label_false)-fp\n",
    "    return tp,fn,fp,tn"
   ]
  },
  {
   "cell_type": "markdown",
   "id": "40692e80-c1c9-4944-a78a-0e8595c11ba6",
   "metadata": {
    "tags": []
   },
   "source": [
    "# 자료 상태 확인"
   ]
  },
  {
   "cell_type": "code",
   "execution_count": 5,
   "id": "97a2e8dc-3f8c-4413-908a-b46257b3d7b3",
   "metadata": {
    "execution": {
     "iopub.execute_input": "2022-11-24T01:16:04.424596Z",
     "iopub.status.busy": "2022-11-24T01:16:04.424476Z",
     "iopub.status.idle": "2022-11-24T01:16:05.308975Z",
     "shell.execute_reply": "2022-11-24T01:16:05.308367Z",
     "shell.execute_reply.started": "2022-11-24T01:16:04.424580Z"
    },
    "tags": []
   },
   "outputs": [],
   "source": [
    "files=glob.glob(\"/home/data/**/**/seg/*.png\")"
   ]
  },
  {
   "cell_type": "code",
   "execution_count": 6,
   "id": "c9894e7e-20ec-4eb3-949a-c393135ce65c",
   "metadata": {
    "execution": {
     "iopub.execute_input": "2022-11-24T01:16:05.309956Z",
     "iopub.status.busy": "2022-11-24T01:16:05.309799Z",
     "iopub.status.idle": "2022-11-24T01:16:05.333326Z",
     "shell.execute_reply": "2022-11-24T01:16:05.332837Z",
     "shell.execute_reply.started": "2022-11-24T01:16:05.309932Z"
    }
   },
   "outputs": [
    {
     "name": "stdout",
     "output_type": "stream",
     "text": [
      "{'total': 4291, 'open': 1599, 'closing': 1906, 'closed': 786}\n"
     ]
    },
    {
     "data": {
      "text/plain": [
       "'open : 37.26% closing : 44.42% closed : 18.32%'"
      ]
     },
     "execution_count": 6,
     "metadata": {},
     "output_type": "execute_result"
    }
   ],
   "source": [
    "\"비율 확인\"\n",
    "print({\"total\":4291,\"open\":1599,\"closing\":1906,\"closed\":786})\n",
    "len([j for j in [i for i in files if re.compile('raw').findall(i)] if re.compile('closed').findall(j)])\n",
    "len([j for j in [i for i in files if re.compile('mask').findall(i)] if re.compile('closed').findall(j)])\n",
    "f\"open : {1599/4291*100:.02f}% closing : {1906/4291*100:.02f}% closed : {786/4291*100:.02f}%\""
   ]
  },
  {
   "cell_type": "markdown",
   "id": "81dac628-978d-49d8-9750-383328e11884",
   "metadata": {},
   "source": [
    "# 모델링"
   ]
  },
  {
   "cell_type": "code",
   "execution_count": 7,
   "id": "554f1e27-1f64-4ced-8cf9-15e3f0643aba",
   "metadata": {
    "execution": {
     "iopub.execute_input": "2022-11-24T01:16:05.337189Z",
     "iopub.status.busy": "2022-11-24T01:16:05.336715Z",
     "iopub.status.idle": "2022-11-24T01:16:06.687751Z",
     "shell.execute_reply": "2022-11-24T01:16:06.687316Z",
     "shell.execute_reply.started": "2022-11-24T01:16:05.337159Z"
    },
    "tags": []
   },
   "outputs": [],
   "source": [
    "files=glob.glob(\"/home/data/**/**/seg/*.png\")\n",
    "model_files=np.array(sorted([i for i in files if re.compile('raw').findall(i)]))\n",
    "model_files=np.array([i for i in model_files if os.path.exists(os.path.realpath(i))])"
   ]
  },
  {
   "cell_type": "code",
   "execution_count": 8,
   "id": "17fcb119-6550-4d52-a0b9-57f90f8cd3f3",
   "metadata": {
    "execution": {
     "iopub.execute_input": "2022-11-24T01:16:06.688449Z",
     "iopub.status.busy": "2022-11-24T01:16:06.688343Z",
     "iopub.status.idle": "2022-11-24T01:16:06.698155Z",
     "shell.execute_reply": "2022-11-24T01:16:06.697725Z",
     "shell.execute_reply.started": "2022-11-24T01:16:06.688433Z"
    },
    "tags": []
   },
   "outputs": [],
   "source": [
    "def my_generator(files,shape=(240,320)):\n",
    "    def img_load(file):\n",
    "        try:\n",
    "            img = cv2.imread(\n",
    "                os.path.realpath(file), cv2.IMREAD_COLOR)# 심볼릭 링크\n",
    "            img = cv2.resize(img,shape[::-1])\n",
    "        except:\n",
    "            img = cv2.imread(file, cv2.IMREAD_COLOR)\n",
    "            img = cv2.resize(img,shape[::-1])\n",
    "        return img\n",
    "    \n",
    "    def generator():\n",
    "        for file in files:\n",
    "            split_img=img_load(file)#[np.newaxis]\n",
    "            y=np.zeros((3))\n",
    "            if file.split('_')[-1].split('.')[0]==\"open\":\n",
    "                y[0]=1\n",
    "            elif file.split('_')[-1].split('.')[0]==\"closing\":\n",
    "                y[1]=1\n",
    "            else:\n",
    "                y[2]=1\n",
    "            yield split_img,y\n",
    "    return generator\n",
    "\n",
    "def my_cnn_model():\n",
    "    tf.keras.backend.clear_session()\n",
    "    tf.random.set_seed(42)\n",
    "\n",
    "    cnn_model = tf.keras.Sequential()\n",
    "    cnn_model.add(tf.keras.layers.Input((240,320,3)))\n",
    "    cnn_model.add(tf.keras.layers.Rescaling(1./255))\n",
    "    cnn_model.add(tf.keras.layers.Resizing(256,320,name='resize'))\n",
    "\n",
    "    cnn_model.add(tf.keras.layers.Conv2D(32, (3, 3), activation='relu'))\n",
    "    cnn_model.add(tf.keras.layers.BatchNormalization())\n",
    "    cnn_model.add(tf.keras.layers.MaxPooling2D(pool_size=(2, 2)))\n",
    "    cnn_model.add(tf.keras.layers.Dropout(0.25))\n",
    "\n",
    "    cnn_model.add(tf.keras.layers.Conv2D(64, (3, 3), activation='relu'))\n",
    "    cnn_model.add(tf.keras.layers.BatchNormalization())\n",
    "    cnn_model.add(tf.keras.layers.MaxPooling2D(pool_size=(2, 2)))\n",
    "    cnn_model.add(tf.keras.layers.Dropout(0.25))\n",
    "\n",
    "    cnn_model.add(tf.keras.layers.Conv2D(128, (3, 3), activation='relu'))\n",
    "    cnn_model.add(tf.keras.layers.BatchNormalization())\n",
    "    cnn_model.add(tf.keras.layers.MaxPooling2D(pool_size=(2, 2)))\n",
    "    cnn_model.add(tf.keras.layers.Dropout(0.25))\n",
    "\n",
    "    cnn_model.add(tf.keras.layers.Flatten())\n",
    "    cnn_model.add(tf.keras.layers.Dense(256, activation='relu'))\n",
    "    cnn_model.add(tf.keras.layers.BatchNormalization())\n",
    "    cnn_model.add(tf.keras.layers.Dropout(0.2))\n",
    "    cnn_model.add(tf.keras.layers.Dense(3, activation='softmax'))\n",
    "    return cnn_model"
   ]
  },
  {
   "cell_type": "markdown",
   "id": "11d80968-9ecf-4f5c-a9bd-9dd61d8e1fa0",
   "metadata": {
    "tags": []
   },
   "source": [
    "## 자료 확인"
   ]
  },
  {
   "cell_type": "code",
   "execution_count": 9,
   "id": "750ad384-6fbe-4b1e-8d3e-7687ec00cd06",
   "metadata": {
    "execution": {
     "iopub.execute_input": "2022-11-24T01:16:06.698947Z",
     "iopub.status.busy": "2022-11-24T01:16:06.698790Z",
     "iopub.status.idle": "2022-11-24T01:16:06.701366Z",
     "shell.execute_reply": "2022-11-24T01:16:06.700887Z",
     "shell.execute_reply.started": "2022-11-24T01:16:06.698933Z"
    }
   },
   "outputs": [],
   "source": [
    "gen=my_generator(model_files)"
   ]
  },
  {
   "cell_type": "code",
   "execution_count": 10,
   "id": "a1f6de05-f5ff-4f17-8ba0-08453854a090",
   "metadata": {
    "execution": {
     "iopub.execute_input": "2022-11-24T01:16:06.702021Z",
     "iopub.status.busy": "2022-11-24T01:16:06.701898Z",
     "iopub.status.idle": "2022-11-24T01:16:06.704908Z",
     "shell.execute_reply": "2022-11-24T01:16:06.704476Z",
     "shell.execute_reply.started": "2022-11-24T01:16:06.702008Z"
    },
    "tags": []
   },
   "outputs": [],
   "source": [
    "x,y=next(iter(gen()))\n",
    "# pred=model(x[np.newaxis]/255)"
   ]
  },
  {
   "cell_type": "code",
   "execution_count": 11,
   "id": "243381af-ef0c-40ee-989f-e79b90218833",
   "metadata": {
    "execution": {
     "iopub.execute_input": "2022-11-24T01:16:06.705515Z",
     "iopub.status.busy": "2022-11-24T01:16:06.705424Z",
     "iopub.status.idle": "2022-11-24T01:16:06.787123Z",
     "shell.execute_reply": "2022-11-24T01:16:06.786750Z",
     "shell.execute_reply.started": "2022-11-24T01:16:06.705502Z"
    },
    "tags": []
   },
   "outputs": [
    {
     "data": {
      "text/plain": [
       "(<matplotlib.image.AxesImage at 0x7fb2c58362b0>, array([0., 1., 0.]))"
      ]
     },
     "execution_count": 11,
     "metadata": {},
     "output_type": "execute_result"
    },
    {
     "data": {
      "image/png": "[encoded data removed]",
      "text/plain": [
       "<Figure size 432x288 with 1 Axes>"
      ]
     },
     "metadata": {
      "needs_background": "light"
     },
     "output_type": "display_data"
    }
   ],
   "source": [
    "plt.imshow(x),y"
   ]
  },
  {
   "cell_type": "markdown",
   "id": "e4f78a7c-8600-4919-9df1-f51dc3d7303e",
   "metadata": {},
   "source": [
    "## 모델링 수행"
   ]
  },
  {
   "cell_type": "code",
   "execution_count": 12,
   "id": "932aa59c-c790-47b1-94a5-7126ebab87e5",
   "metadata": {
    "execution": {
     "iopub.execute_input": "2022-11-24T01:16:06.788276Z",
     "iopub.status.busy": "2022-11-24T01:16:06.788115Z",
     "iopub.status.idle": "2022-11-24T01:22:15.976147Z",
     "shell.execute_reply": "2022-11-24T01:22:15.975781Z",
     "shell.execute_reply.started": "2022-11-24T01:16:06.788259Z"
    },
    "tags": []
   },
   "outputs": [
    {
     "name": "stdout",
     "output_type": "stream",
     "text": [
      "test 600 683 249\n",
      "K = 1, test_length : 1532\n"
     ]
    },
    {
     "name": "stderr",
     "output_type": "stream",
     "text": [
      "2022-11-24 01:16:06.843924: I tensorflow/stream_executor/cuda/cuda_gpu_executor.cc:936] successful NUMA node read from SysFS had negative value (-1), but there must be at least one NUMA node, so returning NUMA node zero\n",
      "2022-11-24 01:16:06.848729: I tensorflow/stream_executor/cuda/cuda_gpu_executor.cc:936] successful NUMA node read from SysFS had negative value (-1), but there must be at least one NUMA node, so returning NUMA node zero\n",
      "2022-11-24 01:16:06.849052: I tensorflow/stream_executor/cuda/cuda_gpu_executor.cc:936] successful NUMA node read from SysFS had negative value (-1), but there must be at least one NUMA node, so returning NUMA node zero\n",
      "2022-11-24 01:16:06.849963: I tensorflow/core/platform/cpu_feature_guard.cc:151] This TensorFlow binary is optimized with oneAPI Deep Neural Network Library (oneDNN) to use the following CPU instructions in performance-critical operations:  AVX2 FMA\n",
      "To enable them in other operations, rebuild TensorFlow with the appropriate compiler flags.\n",
      "2022-11-24 01:16:06.850435: I tensorflow/stream_executor/cuda/cuda_gpu_executor.cc:936] successful NUMA node read from SysFS had negative value (-1), but there must be at least one NUMA node, so returning NUMA node zero\n",
      "2022-11-24 01:16:06.850749: I tensorflow/stream_executor/cuda/cuda_gpu_executor.cc:936] successful NUMA node read from SysFS had negative value (-1), but there must be at least one NUMA node, so returning NUMA node zero\n",
      "2022-11-24 01:16:06.851046: I tensorflow/stream_executor/cuda/cuda_gpu_executor.cc:936] successful NUMA node read from SysFS had negative value (-1), but there must be at least one NUMA node, so returning NUMA node zero\n",
      "2022-11-24 01:16:07.204288: I tensorflow/stream_executor/cuda/cuda_gpu_executor.cc:936] successful NUMA node read from SysFS had negative value (-1), but there must be at least one NUMA node, so returning NUMA node zero\n",
      "2022-11-24 01:16:07.204586: I tensorflow/stream_executor/cuda/cuda_gpu_executor.cc:936] successful NUMA node read from SysFS had negative value (-1), but there must be at least one NUMA node, so returning NUMA node zero\n",
      "2022-11-24 01:16:07.204851: I tensorflow/stream_executor/cuda/cuda_gpu_executor.cc:936] successful NUMA node read from SysFS had negative value (-1), but there must be at least one NUMA node, so returning NUMA node zero\n",
      "2022-11-24 01:16:07.205085: I tensorflow/core/common_runtime/gpu/gpu_device.cc:1525] Created device /job:localhost/replica:0/task:0/device:GPU:0 with 4421 MB memory:  -> device: 0, name: NVIDIA GeForce RTX 2060, pci bus id: 0000:05:00.0, compute capability: 7.5\n",
      "0it [00:00, ?it/s]2022-11-24 01:16:08.313545: I tensorflow/stream_executor/cuda/cuda_dnn.cc:368] Loaded cuDNN version 8200\n",
      "1532it [02:03, 12.36it/s]\n"
     ]
    },
    {
     "name": "stdout",
     "output_type": "stream",
     "text": [
      "test 575 680 277\n",
      "K = 2, test_length : 1532\n"
     ]
    },
    {
     "name": "stderr",
     "output_type": "stream",
     "text": [
      "1532it [02:01, 12.58it/s]\n"
     ]
    },
    {
     "name": "stdout",
     "output_type": "stream",
     "text": [
      "test 594 644 293\n",
      "K = 3, test_length : 1531\n"
     ]
    },
    {
     "name": "stderr",
     "output_type": "stream",
     "text": [
      "1531it [02:01, 12.57it/s]\n"
     ]
    }
   ],
   "source": [
    "kf = KFold(n_splits = 3, shuffle = False)\n",
    "output_type='float32';output_shape=(240,320,3)\n",
    "target_label=np.array(['open','closing','closed'])\n",
    "\n",
    "tp_sum=dict();fn_sum=dict();fp_sum=dict();tn_sum=dict()\n",
    "for K, (train_idx,test_idx) in enumerate(kf.split(model_files),1):    \n",
    "    for cutoff in np.arange(0,1.1,0.05):\n",
    "        for target in target_label:\n",
    "            cond=f\"K_{K}_target_{target}_cutoff_{cutoff:.2f}\"\n",
    "            tp_sum[cond]=0;fn_sum[cond]=0;fp_sum[cond]=0;tn_sum[cond]=0\n",
    "    test_files=model_files[test_idx]\n",
    "    test_files =sorted(test_files)\n",
    "    print(\"test\",len([i for i in test_files if re.compile('open').findall(i)]),\\\n",
    "    len([i for i in test_files if re.compile('closing').findall(i)]),\\\n",
    "    len([i for i in test_files if re.compile('closed').findall(i)]))\n",
    "    \n",
    "    print(f\"K = {K}, test_length : {len(test_files)}\")\n",
    "    \n",
    "    random.seed(42)\n",
    "    te_dataset=tf.data.Dataset.from_generator(\n",
    "        my_generator(test_files),\n",
    "        output_shapes=(output_shape, 3),\n",
    "        output_types=(output_type, output_type))\n",
    "    te_gen =te_dataset.batch(1).prefetch(1)\n",
    "\n",
    "    tf.keras.backend.clear_session()\n",
    "    tf.random.set_seed(42)\n",
    "    model=tf.keras.models.load_model(f'cnn_model_{K}_fold.h5',compile=False)\n",
    "    ###################\n",
    "    \"\"\"\n",
    "    모델 검증\n",
    "    \"\"\"\n",
    "    for i,(x,y) in tqdm(enumerate(te_gen)):\n",
    "        for target in range(3):\n",
    "            y_true=y[:,target].numpy()\n",
    "            y_pred=model.predict(x)[:,target].astype('float64')            \n",
    "            for cutoff in np.arange(0,1.1,0.05):\n",
    "                cond=f\"K_{K}_target_{target_label[target]}_cutoff_{cutoff:.02f}\"\n",
    "                tp,fn,fp,tn=my_confusion_matrix(y_true,y_pred,cutoff)\n",
    "                # tn,fn,fp,tp=confusion_matrix(y_true,y_pred,cutoff=cutoff)\n",
    "                tp_sum[cond]+=tp;fn_sum[cond]+=fn;fp_sum[cond]+=fp;tn_sum[cond]+=tn"
   ]
  },
  {
   "cell_type": "code",
   "execution_count": 13,
   "id": "062cd67f-7c27-4e08-8872-bac88b558832",
   "metadata": {
    "execution": {
     "iopub.execute_input": "2022-11-24T01:22:15.976901Z",
     "iopub.status.busy": "2022-11-24T01:22:15.976762Z",
     "iopub.status.idle": "2022-11-24T01:22:15.981675Z",
     "shell.execute_reply": "2022-11-24T01:22:15.981327Z",
     "shell.execute_reply.started": "2022-11-24T01:22:15.976886Z"
    },
    "tags": []
   },
   "outputs": [],
   "source": [
    "tpr=dict();fpr=dict()\n",
    "for K in range(1,4):\n",
    "    tpr[K]=list();fpr[K]=list()    \n",
    "    for i in np.arange(0,1.1,.05):\n",
    "        tp=0;fn=0;fp=0\n",
    "        for target in target_label:\n",
    "            tp+=tp_sum[f\"K_{K}_target_{target}_cutoff_{i:.02f}\"]\n",
    "            fn+=fn_sum[f\"K_{K}_target_{target}_cutoff_{i:.02f}\"]\n",
    "            fp+=fp_sum[f\"K_{K}_target_{target}_cutoff_{i:.02f}\"]\n",
    "            tn+=tn_sum[f\"K_{K}_target_{target}_cutoff_{i:.02f}\"]\n",
    "        tpr[K].append(tp/(tp+fn))\n",
    "        fpr[K].append(fp/(fp+tn))\n",
    "        \n",
    "    tpr[K]=np.array(tpr[K]);fpr[K]=np.array(fpr[K])"
   ]
  },
  {
   "cell_type": "code",
   "execution_count": 14,
   "id": "50d459f6-5fd0-48da-a1de-715b3cf1bf5a",
   "metadata": {
    "execution": {
     "iopub.execute_input": "2022-11-24T01:22:15.982354Z",
     "iopub.status.busy": "2022-11-24T01:22:15.982209Z",
     "iopub.status.idle": "2022-11-24T01:22:15.998021Z",
     "shell.execute_reply": "2022-11-24T01:22:15.997694Z",
     "shell.execute_reply.started": "2022-11-24T01:22:15.982340Z"
    }
   },
   "outputs": [],
   "source": [
    "joblib.dump([tp_sum,fn_sum,fp_sum,tn_sum],'눈깜빡임지표.pkl')\n",
    "from itertools import cycle\n",
    "import matplotlib.pyplot as plt \n",
    "import numpy as np\n",
    "import joblib\n",
    "from sklearn import metrics\n",
    "# tp_sum,fn_sum,fp_sum,tn_sum=joblib.load('눈깜빡임지표.pkl')"
   ]
  },
  {
   "cell_type": "code",
   "execution_count": 15,
   "id": "9b50c103-580c-4bcf-8da2-bc747aabd90e",
   "metadata": {
    "execution": {
     "iopub.execute_input": "2022-11-24T01:22:15.998652Z",
     "iopub.status.busy": "2022-11-24T01:22:15.998526Z",
     "iopub.status.idle": "2022-11-24T01:22:16.005762Z",
     "shell.execute_reply": "2022-11-24T01:22:16.005286Z",
     "shell.execute_reply.started": "2022-11-24T01:22:15.998639Z"
    }
   },
   "outputs": [],
   "source": [
    "colors = cycle([\"aqua\", \"darkorange\", \"cornflowerblue\"])\n",
    "roc_aucs=dict()\n",
    "for target in target_label:\n",
    "    tpr=dict();fpr=dict()\n",
    "    for K in range(1,4):\n",
    "        tpr[K]=list();fpr[K]=list()    \n",
    "        for i in np.arange(0,1.1,.05):\n",
    "            tpr[K].append(tp_sum[f\"K_{K}_target_{target}_cutoff_{i:.02f}\"]/(\n",
    "                tp_sum[f\"K_{K}_target_{target}_cutoff_{i:.02f}\"]+\\\n",
    "                fn_sum[f\"K_{K}_target_{target}_cutoff_{i:.02f}\"]))\n",
    "            fpr[K].append(fp_sum[f\"K_{K}_target_{target}_cutoff_{i:.02f}\"]/(\n",
    "                fp_sum[f\"K_{K}_target_{target}_cutoff_{i:.02f}\"]+\\\n",
    "                tn_sum[f\"K_{K}_target_{target}_cutoff_{i:.02f}\"]))\n",
    "        tpr[K]=np.array(tpr[K]);fpr[K]=np.array(fpr[K])\n",
    "\n",
    "    for K,color in zip(range(1,4),colors):\n",
    "        roc_auc=metrics.auc(fpr[K],tpr[K])\n",
    "        roc_aucs[f\"{target}_{K}\"]=roc_auc"
   ]
  },
  {
   "cell_type": "code",
   "execution_count": 16,
   "id": "7bf256ba-9fef-4733-b438-4ae3ec00dd0e",
   "metadata": {
    "execution": {
     "iopub.execute_input": "2022-11-24T01:22:16.006498Z",
     "iopub.status.busy": "2022-11-24T01:22:16.006398Z",
     "iopub.status.idle": "2022-11-24T01:22:16.009178Z",
     "shell.execute_reply": "2022-11-24T01:22:16.008688Z",
     "shell.execute_reply.started": "2022-11-24T01:22:16.006484Z"
    }
   },
   "outputs": [],
   "source": [
    "with open(\"눈깜빡임지표.json\", 'w') as outfile:\n",
    "    json.dump(roc_aucs, outfile)"
   ]
  },
  {
   "cell_type": "code",
   "execution_count": 17,
   "id": "4547c8fb-7257-481f-b5af-c0be6f979b9c",
   "metadata": {
    "execution": {
     "iopub.execute_input": "2022-11-24T01:22:16.009778Z",
     "iopub.status.busy": "2022-11-24T01:22:16.009678Z",
     "iopub.status.idle": "2022-11-24T01:22:16.013241Z",
     "shell.execute_reply": "2022-11-24T01:22:16.012743Z",
     "shell.execute_reply.started": "2022-11-24T01:22:16.009763Z"
    }
   },
   "outputs": [
    {
     "data": {
      "text/plain": [
       "0.8529291976171821"
      ]
     },
     "execution_count": 17,
     "metadata": {},
     "output_type": "execute_result"
    }
   ],
   "source": [
    "np.mean(list(roc_aucs.values()))"
   ]
  },
  {
   "cell_type": "code",
   "execution_count": 18,
   "id": "b6aaf62b-210c-4daa-b561-870b4d7c19f7",
   "metadata": {
    "execution": {
     "iopub.execute_input": "2022-11-24T01:22:16.013852Z",
     "iopub.status.busy": "2022-11-24T01:22:16.013763Z",
     "iopub.status.idle": "2022-11-24T01:22:16.112425Z",
     "shell.execute_reply": "2022-11-24T01:22:16.112059Z",
     "shell.execute_reply.started": "2022-11-24T01:22:16.013839Z"
    }
   },
   "outputs": [
    {
     "data": {
      "image/png": "[encoded data removed]",
      "text/plain": [
       "<Figure size 432x288 with 1 Axes>"
      ]
     },
     "metadata": {
      "needs_background": "light"
     },
     "output_type": "display_data"
    }
   ],
   "source": [
    "target=\"open\"\n",
    "tpr=dict();fpr=dict()\n",
    "for K in range(1,4):\n",
    "    tpr[K]=list();fpr[K]=list()    \n",
    "    for i in np.arange(0,1.1,.05):\n",
    "        tpr[K].append(tp_sum[f\"K_{K}_target_{target}_cutoff_{i:.02f}\"]/(\n",
    "            tp_sum[f\"K_{K}_target_{target}_cutoff_{i:.02f}\"]+fn_sum[f\"K_{K}_target_{target}_cutoff_{i:.02f}\"]))\n",
    "        fpr[K].append(fp_sum[f\"K_{K}_target_{target}_cutoff_{i:.02f}\"]/(\n",
    "            fp_sum[f\"K_{K}_target_{target}_cutoff_{i:.02f}\"]+tn_sum[f\"K_{K}_target_{target}_cutoff_{i:.02f}\"]))\n",
    "    tpr[K]=np.array(tpr[K]);fpr[K]=np.array(fpr[K])\n",
    "    \n",
    "plt.figure()\n",
    "plt.rcParams['figure.figsize'] = [10,10]\n",
    "plt.rcParams.update({'font.size': 23})\n",
    "plt.figaspect(2)\n",
    "\n",
    "colors = cycle([\"aqua\", \"darkorange\", \"cornflowerblue\"])\n",
    "lw=2\n",
    "for K,color in zip(range(1,4),colors):\n",
    "    roc_auc=metrics.auc(fpr[K],tpr[K])\n",
    "    plt.plot(\n",
    "        fpr[K],\n",
    "        tpr[K],\n",
    "        label=f\"{K}-fold ROC curve (AUC = {roc_auc:0.5f})\",\n",
    "        color=color,\n",
    "        lw=lw\n",
    "    )\n",
    "plt.plot([0, 1], [0, 1], \"k--\", lw=lw)\n",
    "plt.xlim([0.0, 1.0])\n",
    "plt.ylim([0.0, 1.05])\n",
    "plt.xlabel(\"False Positive Rate\")\n",
    "plt.ylabel(\"True Positive Rate\")\n",
    "plt.title(\"ROC Curve(K-fold Cross Validation)\")\n",
    "plt.legend(loc=\"lower right\")\n",
    "plt.show()"
   ]
  },
  {
   "cell_type": "code",
   "execution_count": null,
   "id": "bf88a465-e1fd-4992-83e8-f9f18b0a7963",
   "metadata": {},
   "outputs": [],
   "source": []
  }
 ],
 "metadata": {
  "kernelspec": {
   "display_name": "Python 3 (ipykernel)",
   "language": "python",
   "name": "python3"
  },
  "language_info": {
   "codemirror_mode": {
    "name": "ipython",
    "version": 3
   },
   "file_extension": ".py",
   "mimetype": "text/x-python",
   "name": "python",
   "nbconvert_exporter": "python",
   "pygments_lexer": "ipython3",
   "version": "3.8.10"
  }
 },
 "nbformat": 4,
 "nbformat_minor": 5
}
