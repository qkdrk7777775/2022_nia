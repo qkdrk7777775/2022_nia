{
 "cells": [
  {
   "cell_type": "code",
   "execution_count": 1,
   "id": "d7c3c509-19dd-48e5-9460-9a63add685d3",
   "metadata": {
    "execution": {
     "iopub.execute_input": "2022-11-29T17:51:31.250784Z",
     "iopub.status.busy": "2022-11-29T17:51:31.250679Z",
     "iopub.status.idle": "2022-11-29T17:51:32.725343Z",
     "shell.execute_reply": "2022-11-29T17:51:32.724966Z",
     "shell.execute_reply.started": "2022-11-29T17:51:31.250771Z"
    },
    "tags": []
   },
   "outputs": [
    {
     "name": "stdout",
     "output_type": "stream",
     "text": [
      "Python implementation: CPython\n",
      "Python version       : 3.8.10\n",
      "IPython version      : 7.34.0\n",
      "\n",
      "os        : unknown\n",
      "glob      : unknown\n",
      "cv2       : 4.6.0\n",
      "shutil    : unknown\n",
      "joblib    : 1.1.0\n",
      "gc        : unknown\n",
      "random    : unknown\n",
      "re        : 2.2.1\n",
      "tensorflow: 2.8.0\n",
      "numpy     : 1.22.3\n",
      "tqdm      : 4.63.1\n",
      "matplotlib: 3.5.1\n",
      "pandas    : 1.4.1\n",
      "sklearn   : 1.0.2\n",
      "datetime  : unknown\n",
      "warning   : not installed\n",
      "\n"
     ]
    }
   ],
   "source": [
    "%reload_ext watermark\n",
    "%watermark -v -p os,glob,cv2,shutil,joblib,gc,random,re,tensorflow,numpy,tqdm,matplotlib,pandas,sklearn,datetime,random,warning"
   ]
  },
  {
   "cell_type": "code",
   "execution_count": 2,
   "id": "7ec98636-1317-4da5-8ae7-611ca8e97f0a",
   "metadata": {
    "execution": {
     "iopub.execute_input": "2022-11-29T17:51:32.726069Z",
     "iopub.status.busy": "2022-11-29T17:51:32.725966Z",
     "iopub.status.idle": "2022-11-29T17:51:33.103086Z",
     "shell.execute_reply": "2022-11-29T17:51:33.102658Z",
     "shell.execute_reply.started": "2022-11-29T17:51:32.726055Z"
    },
    "tags": []
   },
   "outputs": [
    {
     "name": "stdout",
     "output_type": "stream",
     "text": [
      "2022-11-29 17:51:33.101266\n"
     ]
    }
   ],
   "source": [
    "import os, glob, cv2, shutil, joblib,gc, random, re\n",
    "import tensorflow as tf\n",
    "import numpy as np\n",
    "from tqdm import tqdm\n",
    "import matplotlib.pyplot as plt\n",
    "import pandas as pd\n",
    "from datetime import datetime\n",
    "from sklearn.model_selection import train_test_split, KFold\n",
    "from sklearn import metrics\n",
    "import sklearn\n",
    "import random\n",
    "import warnings\n",
    "warnings.filterwarnings(action='ignore')\n",
    "import datetime\n",
    "print(datetime.datetime.today())"
   ]
  },
  {
   "cell_type": "code",
   "execution_count": 3,
   "id": "067300e9-b030-4dc4-adac-6b613265388c",
   "metadata": {
    "execution": {
     "iopub.execute_input": "2022-11-29T17:51:33.103898Z",
     "iopub.status.busy": "2022-11-29T17:51:33.103770Z",
     "iopub.status.idle": "2022-11-29T17:51:33.113682Z",
     "shell.execute_reply": "2022-11-29T17:51:33.113219Z",
     "shell.execute_reply.started": "2022-11-29T17:51:33.103880Z"
    },
    "tags": []
   },
   "outputs": [
    {
     "name": "stdout",
     "output_type": "stream",
     "text": [
      "2022-11-29 17:51:33.111738\n"
     ]
    }
   ],
   "source": [
    "def video_gray2rgb(df):\n",
    "    out=np.zeros(df.shape[:3]+(3,),dtype='u1')\n",
    "    for i in range(df.shape[0]):\n",
    "        img=cv2.cvtColor(df[i,:,:,0],cv2.COLOR_GRAY2RGB)\n",
    "        out[i,:,:,:]=img   \n",
    "        del img\n",
    "    return out\n",
    "def batch_avi(data,idx,BATCH_SIZE=1024,font=cv2.FONT_HERSHEY_SIMPLEX):\n",
    "    def label_vis(data,i,font):\n",
    "        input_img=cv2.cvtColor(data[i,:,:,0],cv2.COLOR_GRAY2RGB\n",
    "                            ).astype('u1')\n",
    "        \n",
    "        pred_img=cv2.cvtColor(data[i,:,:,1]*255,cv2.COLOR_GRAY2RGB\n",
    "                            ).astype('u1')\n",
    "        pred_img[:,:,(0,2)]=0\n",
    "        \n",
    "        label_img=cv2.addWeighted(input_img,1,pred_img,.2,0)\n",
    "        text=f\"Index : {i}\"\n",
    "        cv2.putText(label_img,text, (80,30),font,1,(255,0,0),2)\n",
    "        \n",
    "        return np.expand_dims(label_img,axis=0)\n",
    "    return np.concatenate([label_vis(data,i, font) \n",
    "                    for i in range((BATCH_SIZE*idx),\n",
    "                                   (np.min([data.shape[0],(idx+1)*BATCH_SIZE])))])\n",
    "\n",
    "def write_avi(data,file_name,fps=30):\n",
    "    fourcc = cv2.VideoWriter_fourcc(*\"DIVX\")\n",
    "    (width, height)=data.shape[1:3]\n",
    "    out = cv2.VideoWriter(file_name, fourcc, fps, (height, width),isColor=True)\n",
    "    for i in range(len(data)):\n",
    "        out.write(data[i])\n",
    "    out.release()\n",
    "    \n",
    "def my_confusion_matrix(y_true,y_pred,cutoff=.5):\n",
    "    label_true=y_true>=.5\n",
    "    pred_true=y_pred>=cutoff\n",
    "    label_false= ~ label_true\n",
    "    pred_false = ~ pred_true\n",
    "    tp=np.sum(label_true&pred_true)\n",
    "    fn=np.sum(label_true)-tp\n",
    "    fp=np.sum(label_false&pred_true)\n",
    "    tn=np.sum(label_false)-fp\n",
    "    return tp,fn,fp,tn\n",
    "\n",
    "def my_generator(files,shape=(240,320)):\n",
    "    def img_load(file):\n",
    "        img = cv2.imread(file, cv2.IMREAD_COLOR)\n",
    "        img = cv2.resize(img,shape[::-1])\n",
    "        return img\n",
    "    \n",
    "    def generator():\n",
    "        for file in files:\n",
    "            split_img=img_load(file)#[np.newaxis]\n",
    "            # split_img=cv2.cvtColor(split_img,cv2.COLOR_GRAY2RGB)\n",
    "            split_target_img=img_load(file.replace('raw','mask'))#[np.newaxis]\n",
    "            split_target_img=cv2.cvtColor(split_target_img,cv2.COLOR_BGR2GRAY)\n",
    "            yield split_img/255,split_target_img/255\n",
    "    return generator\n",
    "\n",
    "print(datetime.datetime.today())"
   ]
  },
  {
   "cell_type": "markdown",
   "id": "81dac628-978d-49d8-9750-383328e11884",
   "metadata": {},
   "source": [
    "# 모델링"
   ]
  },
  {
   "cell_type": "code",
   "execution_count": 4,
   "id": "554f1e27-1f64-4ced-8cf9-15e3f0643aba",
   "metadata": {
    "execution": {
     "iopub.execute_input": "2022-11-29T17:51:33.114674Z",
     "iopub.status.busy": "2022-11-29T17:51:33.114333Z",
     "iopub.status.idle": "2022-11-29T17:51:35.835850Z",
     "shell.execute_reply": "2022-11-29T17:51:35.835450Z",
     "shell.execute_reply.started": "2022-11-29T17:51:33.114656Z"
    },
    "tags": []
   },
   "outputs": [
    {
     "name": "stdout",
     "output_type": "stream",
     "text": [
      "2022-11-29 17:51:35.834058\n"
     ]
    }
   ],
   "source": [
    "files=glob.glob(\"/home/data/**/**/seg/*.png\")\n",
    "files=[i for i in files if (os.path.exists(os.path.realpath(i))|os.path.exists(i))]\n",
    "model_files=np.array(sorted([i for i in files if re.compile('raw').findall(i)]))\n",
    "print(datetime.datetime.today())"
   ]
  },
  {
   "cell_type": "markdown",
   "id": "e4f78a7c-8600-4919-9df1-f51dc3d7303e",
   "metadata": {
    "tags": []
   },
   "source": [
    "## 모델링 수행"
   ]
  },
  {
   "cell_type": "code",
   "execution_count": 5,
   "id": "6187f2b1-72a4-4270-99a8-19f85b5ded09",
   "metadata": {
    "execution": {
     "iopub.execute_input": "2022-11-29T17:51:35.836706Z",
     "iopub.status.busy": "2022-11-29T17:51:35.836544Z",
     "iopub.status.idle": "2022-11-29T18:02:26.949445Z",
     "shell.execute_reply": "2022-11-29T18:02:26.948844Z",
     "shell.execute_reply.started": "2022-11-29T17:51:35.836689Z"
    },
    "tags": []
   },
   "outputs": [
    {
     "name": "stdout",
     "output_type": "stream",
     "text": [
      "2022-11-29 17:51:35.845337\n"
     ]
    },
    {
     "name": "stderr",
     "output_type": "stream",
     "text": [
      "2022-11-29 17:51:35.912294: I tensorflow/stream_executor/cuda/cuda_gpu_executor.cc:936] successful NUMA node read from SysFS had negative value (-1), but there must be at least one NUMA node, so returning NUMA node zero\n",
      "2022-11-29 17:51:35.917019: I tensorflow/stream_executor/cuda/cuda_gpu_executor.cc:936] successful NUMA node read from SysFS had negative value (-1), but there must be at least one NUMA node, so returning NUMA node zero\n",
      "2022-11-29 17:51:35.917339: I tensorflow/stream_executor/cuda/cuda_gpu_executor.cc:936] successful NUMA node read from SysFS had negative value (-1), but there must be at least one NUMA node, so returning NUMA node zero\n",
      "2022-11-29 17:51:35.917865: I tensorflow/core/platform/cpu_feature_guard.cc:151] This TensorFlow binary is optimized with oneAPI Deep Neural Network Library (oneDNN) to use the following CPU instructions in performance-critical operations:  AVX2 FMA\n",
      "To enable them in other operations, rebuild TensorFlow with the appropriate compiler flags.\n",
      "2022-11-29 17:51:35.918293: I tensorflow/stream_executor/cuda/cuda_gpu_executor.cc:936] successful NUMA node read from SysFS had negative value (-1), but there must be at least one NUMA node, so returning NUMA node zero\n",
      "2022-11-29 17:51:35.918631: I tensorflow/stream_executor/cuda/cuda_gpu_executor.cc:936] successful NUMA node read from SysFS had negative value (-1), but there must be at least one NUMA node, so returning NUMA node zero\n",
      "2022-11-29 17:51:35.918951: I tensorflow/stream_executor/cuda/cuda_gpu_executor.cc:936] successful NUMA node read from SysFS had negative value (-1), but there must be at least one NUMA node, so returning NUMA node zero\n",
      "2022-11-29 17:51:36.278084: I tensorflow/stream_executor/cuda/cuda_gpu_executor.cc:936] successful NUMA node read from SysFS had negative value (-1), but there must be at least one NUMA node, so returning NUMA node zero\n",
      "2022-11-29 17:51:36.278382: I tensorflow/stream_executor/cuda/cuda_gpu_executor.cc:936] successful NUMA node read from SysFS had negative value (-1), but there must be at least one NUMA node, so returning NUMA node zero\n",
      "2022-11-29 17:51:36.278639: I tensorflow/stream_executor/cuda/cuda_gpu_executor.cc:936] successful NUMA node read from SysFS had negative value (-1), but there must be at least one NUMA node, so returning NUMA node zero\n",
      "2022-11-29 17:51:36.278873: I tensorflow/core/common_runtime/gpu/gpu_device.cc:1525] Created device /job:localhost/replica:0/task:0/device:GPU:0 with 4404 MB memory:  -> device: 0, name: NVIDIA GeForce RTX 2060, pci bus id: 0000:05:00.0, compute capability: 7.5\n"
     ]
    },
    {
     "name": "stdout",
     "output_type": "stream",
     "text": [
      "K = 1, test_length : 1723\n"
     ]
    },
    {
     "name": "stderr",
     "output_type": "stream",
     "text": [
      "0it [00:00, ?it/s]2022-11-29 17:51:37.426189: I tensorflow/stream_executor/cuda/cuda_dnn.cc:368] Loaded cuDNN version 8200\n",
      "1723it [03:36,  7.96it/s]\n"
     ]
    },
    {
     "name": "stdout",
     "output_type": "stream",
     "text": [
      "K = 2, test_length : 1723\n"
     ]
    },
    {
     "name": "stderr",
     "output_type": "stream",
     "text": [
      "1723it [03:37,  7.92it/s]\n"
     ]
    },
    {
     "name": "stdout",
     "output_type": "stream",
     "text": [
      "K = 3, test_length : 1722\n"
     ]
    },
    {
     "name": "stderr",
     "output_type": "stream",
     "text": [
      "1722it [03:35,  7.97it/s]"
     ]
    },
    {
     "name": "stdout",
     "output_type": "stream",
     "text": [
      "2022-11-29 18:02:26.947190\n"
     ]
    },
    {
     "name": "stderr",
     "output_type": "stream",
     "text": [
      "\n"
     ]
    }
   ],
   "source": [
    "print(datetime.datetime.today())\n",
    "dfs=list();scores=list();confutions=list()\n",
    "if '세그멘테이션지표.pkl' not in os.listdir():\n",
    "    kf = KFold(n_splits = 3, shuffle = False)\n",
    "    output_type='float32';output_shape=((240,320,3),(240,320))\n",
    "    with tf.device('/device:GPU:0'):\n",
    "        tf.keras.backend.clear_session()\n",
    "        tf.random.set_seed(42)\n",
    "        \n",
    "        model=tf.keras.models.load_model(\n",
    "            './DeepVOG.h5',compile=False)\n",
    "        model=tf.keras.Model(model.input,tf.unstack(model.output,axis=-1)[1])\n",
    "        model.compile(\n",
    "          optimizer='sgd',\n",
    "          loss='mse',\n",
    "          metrics=[tf.keras.metrics.MeanIoU(num_classes=1)])\n",
    "\n",
    "    tp_sum=dict();fn_sum=dict();fp_sum=dict();tn_sum=dict()\n",
    "    for K, (train_idx,test_idx) in enumerate(kf.split(model_files),1):    \n",
    "        for cutoff in np.arange(0,1.1,0.05):\n",
    "            cond=f\"K_{K}_cutoff_{cutoff:.2f}\"\n",
    "            tp_sum[cond]=0;fn_sum[cond]=0;fp_sum[cond]=0;tn_sum[cond]=0\n",
    "        test_files=model_files[test_idx]\n",
    "        test_files = sorted(test_files)\n",
    "\n",
    "        random.seed(42)\n",
    "        te_dataset=tf.data.Dataset.from_generator(\n",
    "            my_generator(test_files),\n",
    "            output_shapes=output_shape,\n",
    "            output_types=(output_type, output_type))\n",
    "        te_gen =te_dataset.batch(1).prefetch(1)\n",
    "        print(f\"K = {K}, test_length : {len(test_files)}\")\n",
    "        \"\"\"\n",
    "        모델 검증\n",
    "        \"\"\"\n",
    "        score=list();score2=list()\n",
    "        for i,(x,y) in tqdm(enumerate(te_gen)):\n",
    "            pred=model.predict(x)[0]\n",
    "            cv2.imwrite(f\"seg_pred/{test_files[i].split('/')[-1].replace('raw','pred')}\",(np.round(pred)*255).astype('u1'))\n",
    "            try:\n",
    "                tn, fp, fn, tp = sklearn.metrics.confusion_matrix(\n",
    "                    y.numpy().flatten().astype('u1'),\n",
    "                    np.round(model(x).numpy().flatten()).astype('u1')).ravel()\n",
    "                iou=tp/(tp+fp+fn)\n",
    "                score.append(iou)\n",
    "            except:\n",
    "                score.append(1)\n",
    "        confutions.append(score)\n",
    "        scores.append(np.mean(score))\n",
    "print(datetime.datetime.today())"
   ]
  },
  {
   "cell_type": "code",
   "execution_count": 6,
   "id": "aac62ccd-7536-4668-adf7-09201c48373d",
   "metadata": {
    "execution": {
     "iopub.execute_input": "2022-11-29T18:02:26.950864Z",
     "iopub.status.busy": "2022-11-29T18:02:26.950450Z",
     "iopub.status.idle": "2022-11-29T18:02:26.976340Z",
     "shell.execute_reply": "2022-11-29T18:02:26.975960Z",
     "shell.execute_reply.started": "2022-11-29T18:02:26.950834Z"
    },
    "tags": []
   },
   "outputs": [
    {
     "data": {
      "text/plain": [
       "['세그멘테이션지표.pkl']"
      ]
     },
     "execution_count": 6,
     "metadata": {},
     "output_type": "execute_result"
    }
   ],
   "source": [
    "joblib.dump(score,\"세그멘테이션지표.pkl\")"
   ]
  },
  {
   "cell_type": "code",
   "execution_count": 7,
   "id": "2c1210ca-0129-401f-8ce8-5498c96fda7d",
   "metadata": {
    "execution": {
     "iopub.execute_input": "2022-11-29T18:02:26.978366Z",
     "iopub.status.busy": "2022-11-29T18:02:26.978196Z",
     "iopub.status.idle": "2022-11-29T18:02:26.980900Z",
     "shell.execute_reply": "2022-11-29T18:02:26.980525Z",
     "shell.execute_reply.started": "2022-11-29T18:02:26.978350Z"
    },
    "tags": []
   },
   "outputs": [],
   "source": [
    "with open(\"세그멘테이션지표.json\", 'w') as outfile:\n",
    "    json.dump(scores, outfile)"
   ]
  },
  {
   "cell_type": "code",
   "execution_count": 10,
   "id": "f8aa7173-eb0f-4ca0-bfa2-93abf019f29e",
   "metadata": {
    "execution": {
     "iopub.execute_input": "2022-11-29T18:02:57.567894Z",
     "iopub.status.busy": "2022-11-29T18:02:57.567510Z",
     "iopub.status.idle": "2022-11-29T18:02:57.570774Z",
     "shell.execute_reply": "2022-11-29T18:02:57.570298Z",
     "shell.execute_reply.started": "2022-11-29T18:02:57.567876Z"
    },
    "tags": []
   },
   "outputs": [
    {
     "name": "stdout",
     "output_type": "stream",
     "text": [
      "[0.8427257999059942, 0.8418996592571334, 0.8449585498361211]\n",
      "2022-11-29 18:02:57.568781\n"
     ]
    }
   ],
   "source": [
    "print(scores)\n",
    "print(datetime.datetime.today())"
   ]
  },
  {
   "cell_type": "code",
   "execution_count": null,
   "id": "0ed6a87b-3881-481e-83d6-77fefde9dcb5",
   "metadata": {},
   "outputs": [],
   "source": []
  }
 ],
 "metadata": {
  "kernelspec": {
   "display_name": "Python 3 (ipykernel)",
   "language": "python",
   "name": "python3"
  },
  "language_info": {
   "codemirror_mode": {
    "name": "ipython",
    "version": 3
   },
   "file_extension": ".py",
   "mimetype": "text/x-python",
   "name": "python",
   "nbconvert_exporter": "python",
   "pygments_lexer": "ipython3",
   "version": "3.8.10"
  }
 },
 "nbformat": 4,
 "nbformat_minor": 5
}
