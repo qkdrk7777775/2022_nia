{
 "cells": [
  {
   "cell_type": "code",
   "execution_count": 1,
   "id": "7ec98636-1317-4da5-8ae7-611ca8e97f0a",
   "metadata": {
    "execution": {
     "iopub.execute_input": "2022-11-30T05:10:13.266239Z",
     "iopub.status.busy": "2022-11-30T05:10:13.266047Z",
     "iopub.status.idle": "2022-11-30T05:10:15.129044Z",
     "shell.execute_reply": "2022-11-30T05:10:15.128602Z",
     "shell.execute_reply.started": "2022-11-30T05:10:13.266222Z"
    },
    "tags": []
   },
   "outputs": [
    {
     "name": "stdout",
     "output_type": "stream",
     "text": [
      "2022-11-30 05:10:15.127078\n"
     ]
    }
   ],
   "source": [
    "import os, glob, cv2, shutil, joblib,gc, random, re\n",
    "import tensorflow as tf\n",
    "import numpy as np\n",
    "import tqdm\n",
    "from tqdm import tqdm\n",
    "import matplotlib.pyplot as plt\n",
    "import pandas as pd\n",
    "from datetime import datetime\n",
    "from sklearn.model_selection import train_test_split, KFold\n",
    "from sklearn import metrics\n",
    "import skimage\n",
    "import random\n",
    "import warnings\n",
    "warnings.filterwarnings(action='ignore')\n",
    "import datetime\n",
    "print(datetime.datetime.today())"
   ]
  },
  {
   "cell_type": "code",
   "execution_count": 2,
   "id": "d07f455e-0310-4978-92da-258babe5fcd3",
   "metadata": {
    "execution": {
     "iopub.execute_input": "2022-11-30T05:10:15.133839Z",
     "iopub.status.busy": "2022-11-30T05:10:15.133748Z",
     "iopub.status.idle": "2022-11-30T05:10:15.144415Z",
     "shell.execute_reply": "2022-11-30T05:10:15.144067Z",
     "shell.execute_reply.started": "2022-11-30T05:10:15.133828Z"
    },
    "tags": []
   },
   "outputs": [
    {
     "name": "stdout",
     "output_type": "stream",
     "text": [
      "2022-11-30 05:10:15.142461\n"
     ]
    }
   ],
   "source": [
    "def video_gray2rgb(df):\n",
    "    out=np.zeros(df.shape[:3]+(3,),dtype='u1')\n",
    "    for i in range(df.shape[0]):\n",
    "        img=cv2.cvtColor(df[i,:,:,0],cv2.COLOR_GRAY2RGB)\n",
    "        out[i,:,:,:]=img   \n",
    "        del img\n",
    "    return out\n",
    "def batch_avi(data,idx,BATCH_SIZE=1024,\n",
    "              font=cv2.FONT_HERSHEY_SIMPLEX):\n",
    "    \n",
    "    def label_vis(data,i,font):\n",
    "        input_img=cv2.cvtColor(\n",
    "            data[i,:,:,0],cv2.COLOR_GRAY2RGB).astype('u1')\n",
    "        pred_img=cv2.cvtColor(\n",
    "            data[i,:,:,1]*255,cv2.COLOR_GRAY2RGB).astype('u1')\n",
    "        pred_img[:,:,(0,2)]=0\n",
    "        \n",
    "        label_img=cv2.addWeighted(input_img,1,pred_img,.2,0)\n",
    "        text=f\"Index : {i}\"\n",
    "        cv2.putText(label_img,text, (80,30),font,1,(255,0,0),2)\n",
    "        \n",
    "        return np.expand_dims(label_img,axis=0)\n",
    "    return np.concatenate(\n",
    "        [label_vis(data,i, font) \n",
    "         for i in range(\n",
    "             (BATCH_SIZE*idx),(np.min([data.shape[0],(idx+1)*BATCH_SIZE])))])\n",
    "\n",
    "def write_avi(data,file_name,fps=30):\n",
    "    fourcc = cv2.VideoWriter_fourcc(*\"DIVX\")\n",
    "    (width, height)=data.shape[1:3]\n",
    "    out = cv2.VideoWriter(file_name, fourcc, fps, (height, width),isColor=True)\n",
    "    for i in range(len(data)):\n",
    "        out.write(data[i])\n",
    "    out.release()\n",
    "    \n",
    "def my_confusion_matrix(y_true,y_pred,cutoff=.5):\n",
    "    label_true=y_true>=.5\n",
    "    pred_true=y_pred>=cutoff\n",
    "    label_false= ~ label_true\n",
    "    pred_false = ~ pred_true\n",
    "    tp=np.sum(label_true&pred_true)\n",
    "    fn=np.sum(label_true)-tp\n",
    "    fp=np.sum(label_false&pred_true)\n",
    "    tn=np.sum(label_false)-fp\n",
    "    return tp,fn,fp,tn\n",
    "\n",
    "\n",
    "def read_avi(file):\n",
    "    data=list()\n",
    "    cap = cv2.VideoCapture(file)\n",
    "    batch=20\n",
    "    cnt=0\n",
    "    while(cap.isOpened()):\n",
    "        ret, frame = cap.read()\n",
    "        if ret:\n",
    "            frame=cv2.resize(frame,(320,240))\n",
    "            frame=cv2.cvtColor(frame,cv2.COLOR_RGB2GRAY)\n",
    "            frame=np.expand_dims(frame/255, axis=0)\n",
    "            data.append(frame>.5)\n",
    "            cnt+=1\n",
    "            cv2.waitKey(1)\n",
    "        else:\n",
    "            break\n",
    "        if cnt==batch:\n",
    "            break\n",
    "    cap.release()\n",
    "    cv2.destroyAllWindows()\n",
    "    out=np.concatenate(data).astype('float')\n",
    "    if out.shape[0]!=batch:\n",
    "        out=np.concatenate([out,np.zeros((batch-out.shape[0],240,320),dtype=np.float)],axis=0).astype('float')\n",
    "    out=np.diff(out,axis=0)[:].sum(axis=0)\n",
    "    out=(((out-out.min())/(out.max()-out.min()))*255).astype('u1')\n",
    "    return out.copy()\n",
    "print(datetime.datetime.today())"
   ]
  },
  {
   "cell_type": "code",
   "execution_count": 3,
   "id": "c756f9aa-a966-41e6-8744-a550753fa273",
   "metadata": {
    "execution": {
     "iopub.execute_input": "2022-11-30T05:10:16.267077Z",
     "iopub.status.busy": "2022-11-30T05:10:16.266829Z",
     "iopub.status.idle": "2022-11-30T05:10:16.532646Z",
     "shell.execute_reply": "2022-11-30T05:10:16.532208Z",
     "shell.execute_reply.started": "2022-11-30T05:10:16.267045Z"
    },
    "tags": []
   },
   "outputs": [
    {
     "name": "stdout",
     "output_type": "stream",
     "text": [
      "2022-11-30 05:10:16.530754\n"
     ]
    }
   ],
   "source": [
    "if not \"label_df.csv\" in os.listdir():\n",
    "    files=glob.glob(\n",
    "    \"/home/data/**/**/SN/*.tsv\")+\\\n",
    "    glob.glob(\n",
    "        \"/home/data/**/**/video/**/*.tsv\")\n",
    "    files=[i for i in files if not re.compile(\"verified.tsv\").findall(i) \\\n",
    "           if re.compile(\"anonymized\").findall(i)]\n",
    "    avis=list();label1=list();label2=list()\n",
    "    for file in tqdm(files):\n",
    "        if os.path.exists(os.path.realpath(file)):\n",
    "            df = pd.read_csv(os.path.realpath(file), sep ='\\t')\n",
    "            video_list = (df[df.blink=='O'][\n",
    "                ['frame_number','horizontal']].values)\n",
    "            for frame, h in video_list:\n",
    "                file_dir=file.split('-')[-1].split('.')[0]\n",
    "                avi_files=glob.glob(f\"{os.path.dirname(file)}/horizontal_vertical/{file.split('--')[0].split('/')[-1]}*frame_{frame}-{file_dir}.avi\")\n",
    "                \n",
    "                if len(avi_files)!=1:\n",
    "                    pass\n",
    "                else:\n",
    "                    avi_file=avi_files[0]\n",
    "                    if type(h)!=str:\n",
    "                        h='mid'\n",
    "                    avis.append(avi_file)\n",
    "                    label1.append(h)\n",
    "    label_zip=zip(avis,label1)\n",
    "    label_df=pd.DataFrame({\"avi\":avis,\"y1\":label1})\n",
    "    label_df[\"idx\"]=label_df.index\n",
    "\n",
    "    label_df.to_csv(\"label_df.csv\",index=False)\n",
    "label_df=pd.read_csv(\"label_df.csv\")\n",
    "print(datetime.datetime.today())"
   ]
  },
  {
   "cell_type": "code",
   "execution_count": 4,
   "id": "ecbe645b-6dcb-4b08-8293-7f12b8940472",
   "metadata": {
    "execution": {
     "iopub.execute_input": "2022-11-30T05:10:21.174780Z",
     "iopub.status.busy": "2022-11-30T05:10:21.174527Z",
     "iopub.status.idle": "2022-11-30T05:10:21.180831Z",
     "shell.execute_reply": "2022-11-30T05:10:21.180413Z",
     "shell.execute_reply.started": "2022-11-30T05:10:21.174749Z"
    },
    "tags": []
   },
   "outputs": [
    {
     "name": "stdout",
     "output_type": "stream",
     "text": [
      "2022-11-30 05:10:21.178771\n"
     ]
    }
   ],
   "source": [
    "def my_generator(label_df):\n",
    "    def generator():\n",
    "        label=np.array([\n",
    "            [6,7,8],[3,4,5],[0,1,2]])\n",
    "        for (file,y1,idx) in label_df.values:\n",
    "            x=read_avi(os.path.realpath(file))\n",
    "            # y=label[np.where([y2==i for i in ['down','mid','up']])[0],\n",
    "            #         np.where([y1==i for i in ['right','mid','left']])[0]]\n",
    "            # yield x, y\n",
    "            out2=np.zeros(3);out3=np.zeros(3)\n",
    "            \n",
    "            if y1=='left':\n",
    "                out2[0]=1\n",
    "            elif y1=='mid':\n",
    "                out2[1]=1\n",
    "            elif y1=='right':\n",
    "                out2[2]=1\n",
    "            \n",
    "            # if y2=='up':\n",
    "            #     out3[0]=1\n",
    "            # elif y2=='mid':\n",
    "            #     out3[1]=1\n",
    "            # elif y2=='down':\n",
    "            #     out3[2]=1\n",
    "\n",
    "            yield x, out2\n",
    "    return generator\n",
    "print(datetime.datetime.today())"
   ]
  },
  {
   "cell_type": "code",
   "execution_count": 5,
   "id": "5df6ad1b-5185-4b9d-9f6b-a622467fbe70",
   "metadata": {
    "execution": {
     "iopub.execute_input": "2022-11-30T05:10:21.398702Z",
     "iopub.status.busy": "2022-11-30T05:10:21.398184Z",
     "iopub.status.idle": "2022-11-30T05:10:22.774238Z",
     "shell.execute_reply": "2022-11-30T05:10:22.773864Z",
     "shell.execute_reply.started": "2022-11-30T05:10:21.398673Z"
    },
    "tags": []
   },
   "outputs": [
    {
     "name": "stderr",
     "output_type": "stream",
     "text": [
      "2022-11-30 05:10:21.497177: I tensorflow/stream_executor/cuda/cuda_gpu_executor.cc:936] successful NUMA node read from SysFS had negative value (-1), but there must be at least one NUMA node, so returning NUMA node zero\n",
      "2022-11-30 05:10:21.501309: I tensorflow/stream_executor/cuda/cuda_gpu_executor.cc:936] successful NUMA node read from SysFS had negative value (-1), but there must be at least one NUMA node, so returning NUMA node zero\n",
      "2022-11-30 05:10:21.501625: I tensorflow/stream_executor/cuda/cuda_gpu_executor.cc:936] successful NUMA node read from SysFS had negative value (-1), but there must be at least one NUMA node, so returning NUMA node zero\n",
      "2022-11-30 05:10:21.502163: I tensorflow/core/platform/cpu_feature_guard.cc:151] This TensorFlow binary is optimized with oneAPI Deep Neural Network Library (oneDNN) to use the following CPU instructions in performance-critical operations:  AVX2 FMA\n",
      "To enable them in other operations, rebuild TensorFlow with the appropriate compiler flags.\n",
      "2022-11-30 05:10:21.502574: I tensorflow/stream_executor/cuda/cuda_gpu_executor.cc:936] successful NUMA node read from SysFS had negative value (-1), but there must be at least one NUMA node, so returning NUMA node zero\n",
      "2022-11-30 05:10:21.502881: I tensorflow/stream_executor/cuda/cuda_gpu_executor.cc:936] successful NUMA node read from SysFS had negative value (-1), but there must be at least one NUMA node, so returning NUMA node zero\n",
      "2022-11-30 05:10:21.503170: I tensorflow/stream_executor/cuda/cuda_gpu_executor.cc:936] successful NUMA node read from SysFS had negative value (-1), but there must be at least one NUMA node, so returning NUMA node zero\n",
      "2022-11-30 05:10:21.880868: I tensorflow/stream_executor/cuda/cuda_gpu_executor.cc:936] successful NUMA node read from SysFS had negative value (-1), but there must be at least one NUMA node, so returning NUMA node zero\n",
      "2022-11-30 05:10:21.881184: I tensorflow/stream_executor/cuda/cuda_gpu_executor.cc:936] successful NUMA node read from SysFS had negative value (-1), but there must be at least one NUMA node, so returning NUMA node zero\n",
      "2022-11-30 05:10:21.881440: I tensorflow/stream_executor/cuda/cuda_gpu_executor.cc:936] successful NUMA node read from SysFS had negative value (-1), but there must be at least one NUMA node, so returning NUMA node zero\n",
      "2022-11-30 05:10:21.881673: I tensorflow/core/common_runtime/gpu/gpu_device.cc:1525] Created device /job:localhost/replica:0/task:0/device:GPU:0 with 4387 MB memory:  -> device: 0, name: NVIDIA GeForce RTX 2060, pci bus id: 0000:05:00.0, compute capability: 7.5\n"
     ]
    },
    {
     "name": "stdout",
     "output_type": "stream",
     "text": [
      "2022-11-30 05:10:22.772483\n"
     ]
    }
   ],
   "source": [
    "model=tf.keras.models.load_model('수평수직모델.h5',compile=False)\n",
    "model=tf.keras.Model(model.input,model.output[0])\n",
    "print(datetime.datetime.today())"
   ]
  },
  {
   "cell_type": "markdown",
   "id": "81dac628-978d-49d8-9750-383328e11884",
   "metadata": {},
   "source": [
    "# 모델링"
   ]
  },
  {
   "cell_type": "markdown",
   "id": "12192e8a-9f8b-4760-b061-03106f92b630",
   "metadata": {},
   "source": [
    "## 모델 확인"
   ]
  },
  {
   "cell_type": "code",
   "execution_count": 6,
   "id": "79a6b170-da50-4200-b162-54e70327b770",
   "metadata": {
    "execution": {
     "iopub.execute_input": "2022-11-30T05:10:27.997302Z",
     "iopub.status.busy": "2022-11-30T05:10:27.996937Z",
     "iopub.status.idle": "2022-11-30T05:10:28.005674Z",
     "shell.execute_reply": "2022-11-30T05:10:28.005347Z",
     "shell.execute_reply.started": "2022-11-30T05:10:27.997267Z"
    }
   },
   "outputs": [
    {
     "data": {
      "text/html": [
       "<div>\n",
       "<style scoped>\n",
       "    .dataframe tbody tr th:only-of-type {\n",
       "        vertical-align: middle;\n",
       "    }\n",
       "\n",
       "    .dataframe tbody tr th {\n",
       "        vertical-align: top;\n",
       "    }\n",
       "\n",
       "    .dataframe thead th {\n",
       "        text-align: right;\n",
       "    }\n",
       "</style>\n",
       "<table border=\"1\" class=\"dataframe\">\n",
       "  <thead>\n",
       "    <tr style=\"text-align: right;\">\n",
       "      <th></th>\n",
       "      <th>avi</th>\n",
       "      <th>y1</th>\n",
       "      <th>idx</th>\n",
       "    </tr>\n",
       "  </thead>\n",
       "  <tbody>\n",
       "    <tr>\n",
       "      <th>0</th>\n",
       "      <td>/home/data/Central/NE_C_02326/SN/horizontal_ve...</td>\n",
       "      <td>right</td>\n",
       "      <td>0</td>\n",
       "    </tr>\n",
       "    <tr>\n",
       "      <th>1</th>\n",
       "      <td>/home/data/Central/NE_C_02326/SN/horizontal_ve...</td>\n",
       "      <td>right</td>\n",
       "      <td>1</td>\n",
       "    </tr>\n",
       "    <tr>\n",
       "      <th>2</th>\n",
       "      <td>/home/data/Central/NE_C_02326/SN/horizontal_ve...</td>\n",
       "      <td>right</td>\n",
       "      <td>2</td>\n",
       "    </tr>\n",
       "    <tr>\n",
       "      <th>3</th>\n",
       "      <td>/home/data/Central/NE_C_02326/SN/horizontal_ve...</td>\n",
       "      <td>right</td>\n",
       "      <td>3</td>\n",
       "    </tr>\n",
       "    <tr>\n",
       "      <th>4</th>\n",
       "      <td>/home/data/Central/NE_C_02326/SN/horizontal_ve...</td>\n",
       "      <td>right</td>\n",
       "      <td>4</td>\n",
       "    </tr>\n",
       "    <tr>\n",
       "      <th>...</th>\n",
       "      <td>...</td>\n",
       "      <td>...</td>\n",
       "      <td>...</td>\n",
       "    </tr>\n",
       "    <tr>\n",
       "      <th>265111</th>\n",
       "      <td>/home/data/Normal/NE_N_06405/SN/horizontal_ver...</td>\n",
       "      <td>right</td>\n",
       "      <td>265111</td>\n",
       "    </tr>\n",
       "    <tr>\n",
       "      <th>265112</th>\n",
       "      <td>/home/data/Normal/NE_N_06405/SN/horizontal_ver...</td>\n",
       "      <td>mid</td>\n",
       "      <td>265112</td>\n",
       "    </tr>\n",
       "    <tr>\n",
       "      <th>265113</th>\n",
       "      <td>/home/data/Normal/NE_N_06405/SN/horizontal_ver...</td>\n",
       "      <td>right</td>\n",
       "      <td>265113</td>\n",
       "    </tr>\n",
       "    <tr>\n",
       "      <th>265114</th>\n",
       "      <td>/home/data/Normal/NE_N_06405/SN/horizontal_ver...</td>\n",
       "      <td>left</td>\n",
       "      <td>265114</td>\n",
       "    </tr>\n",
       "    <tr>\n",
       "      <th>265115</th>\n",
       "      <td>/home/data/Normal/NE_N_06405/SN/horizontal_ver...</td>\n",
       "      <td>left</td>\n",
       "      <td>265115</td>\n",
       "    </tr>\n",
       "  </tbody>\n",
       "</table>\n",
       "<p>265116 rows × 3 columns</p>\n",
       "</div>"
      ],
      "text/plain": [
       "                                                      avi     y1     idx\n",
       "0       /home/data/Central/NE_C_02326/SN/horizontal_ve...  right       0\n",
       "1       /home/data/Central/NE_C_02326/SN/horizontal_ve...  right       1\n",
       "2       /home/data/Central/NE_C_02326/SN/horizontal_ve...  right       2\n",
       "3       /home/data/Central/NE_C_02326/SN/horizontal_ve...  right       3\n",
       "4       /home/data/Central/NE_C_02326/SN/horizontal_ve...  right       4\n",
       "...                                                   ...    ...     ...\n",
       "265111  /home/data/Normal/NE_N_06405/SN/horizontal_ver...  right  265111\n",
       "265112  /home/data/Normal/NE_N_06405/SN/horizontal_ver...    mid  265112\n",
       "265113  /home/data/Normal/NE_N_06405/SN/horizontal_ver...  right  265113\n",
       "265114  /home/data/Normal/NE_N_06405/SN/horizontal_ver...   left  265114\n",
       "265115  /home/data/Normal/NE_N_06405/SN/horizontal_ver...   left  265115\n",
       "\n",
       "[265116 rows x 3 columns]"
      ]
     },
     "execution_count": 6,
     "metadata": {},
     "output_type": "execute_result"
    }
   ],
   "source": [
    "label_df"
   ]
  },
  {
   "cell_type": "code",
   "execution_count": null,
   "id": "5db65c7e-8a1d-4d32-aa32-24a1e08433a6",
   "metadata": {
    "execution": {
     "iopub.execute_input": "2022-11-30T05:12:17.881420Z",
     "iopub.status.busy": "2022-11-30T05:12:17.881218Z"
    },
    "tags": []
   },
   "outputs": [
    {
     "name": "stdout",
     "output_type": "stream",
     "text": [
      "2022-11-30 05:12:17.889269\n",
      "K = 1, test_length : 2210\n"
     ]
    },
    {
     "name": "stderr",
     "output_type": "stream",
     "text": [
      "2210it [01:23, 26.52it/s]\n"
     ]
    },
    {
     "name": "stdout",
     "output_type": "stream",
     "text": [
      "K = 2, test_length : 2209\n"
     ]
    },
    {
     "name": "stderr",
     "output_type": "stream",
     "text": [
      "2209it [01:22, 26.70it/s]\n"
     ]
    },
    {
     "name": "stdout",
     "output_type": "stream",
     "text": [
      "K = 3, test_length : 2209\n"
     ]
    },
    {
     "name": "stderr",
     "output_type": "stream",
     "text": [
      "448it [00:16, 30.58it/s]"
     ]
    }
   ],
   "source": [
    "kf = KFold(n_splits = 3, shuffle = False)\n",
    "output_type='float32';output_shape=(240,320);\n",
    "y_shape=(3);y_type=(output_type)\n",
    "dfs=list()\n",
    "target_label1=np.array(['left','mid','right'])\n",
    "# target_label2=np.array(['up','mid','down'])\n",
    "\n",
    "print(datetime.datetime.today())\n",
    "tp_sum=dict();fn_sum=dict();fp_sum=dict();tn_sum=dict()\n",
    "for K, (train_idx,test_idx) in enumerate(kf.split(label_df[::40]),1):\n",
    "    \n",
    "    for cutoff in np.arange(0,1.1,0.05):\n",
    "        for out_type in [0]:\n",
    "            if out_type==0:\n",
    "                target_label=target_label1\n",
    "            # else:\n",
    "                # target_label=target_label2\n",
    "            for target in target_label:\n",
    "                cond=f\"K_{K}_out_type_{out_type}_target_{target}_cutoff_{cutoff:.02f}\"\n",
    "                tp_sum[cond]=0;fn_sum[cond]=0;fp_sum[cond]=0;tn_sum[cond]=0\n",
    "    \n",
    "    test_files=label_df.loc[test_idx]\n",
    "    test_files=test_files.reset_index(drop=True)\n",
    "    print(f\"K = {K}, test_length : {len(test_files)}\")\n",
    "    \n",
    "    with tf.device(\"/cpu:0\"):\n",
    "        random.seed(42)\n",
    "        te_dataset=tf.data.Dataset.from_generator(\n",
    "            my_generator(test_files),\n",
    "            output_shapes=(output_shape, y_shape),\n",
    "            output_types=(output_type, y_type))\n",
    "        te_gen =te_dataset.batch(1).prefetch(1)\n",
    "        \n",
    "    with tf.device(\"/gpu:0\"):\n",
    "    #     ###################\n",
    "    #     \"\"\"\n",
    "    #     모델 검증\n",
    "    #     \"\"\"\n",
    "        for i,(x,y) in tqdm(enumerate(te_gen)):\n",
    "            pred=model.predict(x)\n",
    "            y1_pred=[np.argmax(i) for i in pred]\n",
    "            test_files.loc[i,'y1_pred']=target_label1[y1_pred]\n",
    "            # test_files.loc[i,'y2_pred']=target_label2[y2_pred]\n",
    "            for target in range(3):\n",
    "                for out_type in [0]:\n",
    "                    if out_type==0:\n",
    "                        target_label=target_label1\n",
    "                    y_true=y[out_type][target].numpy()\n",
    "                    y_pred=pred[out_type][target].astype('float64')\n",
    "\n",
    "                    for cutoff in np.arange(0,1.1,0.05):\n",
    "                        cond=f\"K_{K}_out_type_{out_type}_target_{target_label[target]}_cutoff_{cutoff:.02f}\"\n",
    "                        tp,fn,fp,tn=my_confusion_matrix(y_true,y_pred,cutoff)\n",
    "                        # tn,fn,fp,tp=confusion_matrix(y_true,y_pred,cutoff=cutoff)\n",
    "                        tp_sum[cond]+=tp;fn_sum[cond]+=fn;fp_sum[cond]+=fp;tn_sum[cond]+=tn\n",
    "        dfs.append(test_files)\n",
    "pd.concat(dfs).to_csv('안진방향판별_output.csv',index=False)\n",
    "print(datetime.datetime.today())"
   ]
  },
  {
   "cell_type": "code",
   "execution_count": 7,
   "id": "529c9b2a-1e7c-4bab-a5d5-be0d9bf1c2a6",
   "metadata": {
    "execution": {
     "iopub.execute_input": "2022-11-25T03:06:08.452597Z",
     "iopub.status.busy": "2022-11-25T03:06:08.452494Z",
     "iopub.status.idle": "2022-11-25T03:06:08.486477Z",
     "shell.execute_reply": "2022-11-25T03:06:08.486056Z",
     "shell.execute_reply.started": "2022-11-25T03:06:08.452584Z"
    },
    "tags": []
   },
   "outputs": [],
   "source": [
    "joblib.dump([tp_sum,fn_sum,fp_sum,tn_sum],'수평수직지표.pkl')\n",
    "from itertools import cycle\n",
    "import matplotlib.pyplot as plt \n",
    "import numpy as np\n",
    "import joblib\n",
    "from sklearn import metrics\n",
    "# tp_sum,fn_sum,fp_sum,tn_sum=joblib.load('수평수직지표.pkl')"
   ]
  },
  {
   "cell_type": "code",
   "execution_count": 8,
   "id": "991d7c8c-da9c-4afb-bc60-dd8c52f9683a",
   "metadata": {
    "execution": {
     "iopub.execute_input": "2022-11-25T03:06:08.487219Z",
     "iopub.status.busy": "2022-11-25T03:06:08.487083Z",
     "iopub.status.idle": "2022-11-25T03:06:08.493382Z",
     "shell.execute_reply": "2022-11-25T03:06:08.493055Z",
     "shell.execute_reply.started": "2022-11-25T03:06:08.487204Z"
    },
    "tags": []
   },
   "outputs": [],
   "source": [
    "colors = cycle([\"aqua\", \"darkorange\", \"cornflowerblue\"])\n",
    "out_type=0\n",
    "target_label=target_label1\n",
    "# out_type=1\n",
    "# target_label=target_label2\n",
    "roc_aucs=dict()\n",
    "for target in target_label:\n",
    "    tpr=dict();fpr=dict()\n",
    "    for K in range(1,4):\n",
    "        tpr[K]=list();fpr[K]=list()    \n",
    "        for i in np.arange(0,1.1,.05):\n",
    "            tpr[K].append(tp_sum[f\"K_{K}_out_type_{out_type}_target_{target}_cutoff_{i:.02f}\"]/(\n",
    "                tp_sum[f\"K_{K}_out_type_{out_type}_target_{target}_cutoff_{i:.02f}\"]+\\\n",
    "                fn_sum[f\"K_{K}_out_type_{out_type}_target_{target}_cutoff_{i:.02f}\"]))\n",
    "            fpr[K].append(fp_sum[f\"K_{K}_out_type_{out_type}_target_{target}_cutoff_{i:.02f}\"]/(\n",
    "                fp_sum[f\"K_{K}_out_type_{out_type}_target_{target}_cutoff_{i:.02f}\"]+\\\n",
    "                tn_sum[f\"K_{K}_out_type_{out_type}_target_{target}_cutoff_{i:.02f}\"]))\n",
    "        tpr[K]=np.array(tpr[K]);fpr[K]=np.array(fpr[K])\n",
    "\n",
    "    for K,color in zip(range(1,4),colors):\n",
    "        roc_auc=metrics.auc(fpr[K],tpr[K])\n",
    "        roc_aucs[f\"{target}_{K}\"]=roc_auc"
   ]
  },
  {
   "cell_type": "code",
   "execution_count": 9,
   "id": "f447394a-0f13-48c8-982d-c466442e25d2",
   "metadata": {
    "execution": {
     "iopub.execute_input": "2022-11-25T03:06:08.493951Z",
     "iopub.status.busy": "2022-11-25T03:06:08.493832Z",
     "iopub.status.idle": "2022-11-25T03:06:08.498210Z",
     "shell.execute_reply": "2022-11-25T03:06:08.497788Z",
     "shell.execute_reply.started": "2022-11-25T03:06:08.493938Z"
    },
    "tags": []
   },
   "outputs": [
    {
     "data": {
      "text/plain": [
       "{'left_1': 0.4924766902672517,\n",
       " 'left_2': 0.49485056404228855,\n",
       " 'left_3': 0.49478397733926544,\n",
       " 'mid_1': 0.5719588620761389,\n",
       " 'mid_2': 0.5339510962335675,\n",
       " 'mid_3': 0.5177119016249451,\n",
       " 'right_1': 0.49283040218540014,\n",
       " 'right_2': 0.5151126268956322,\n",
       " 'right_3': 0.5042933230220403}"
      ]
     },
     "execution_count": 9,
     "metadata": {},
     "output_type": "execute_result"
    }
   ],
   "source": [
    "roc_aucs"
   ]
  },
  {
   "cell_type": "code",
   "execution_count": 10,
   "id": "49341666-6a97-4192-a0f4-c1309a2ea574",
   "metadata": {
    "execution": {
     "iopub.execute_input": "2022-11-25T03:06:08.499054Z",
     "iopub.status.busy": "2022-11-25T03:06:08.498778Z",
     "iopub.status.idle": "2022-11-25T03:06:08.502240Z",
     "shell.execute_reply": "2022-11-25T03:06:08.501864Z",
     "shell.execute_reply.started": "2022-11-25T03:06:08.499038Z"
    },
    "tags": []
   },
   "outputs": [
    {
     "data": {
      "text/plain": [
       "0.51310771596517"
      ]
     },
     "execution_count": 10,
     "metadata": {},
     "output_type": "execute_result"
    }
   ],
   "source": [
    "np.mean(list(roc_aucs.values()))"
   ]
  },
  {
   "cell_type": "code",
   "execution_count": 11,
   "id": "36bb1068-2c14-47d9-bcbf-d5f551350c2d",
   "metadata": {
    "execution": {
     "iopub.execute_input": "2022-11-25T03:06:08.502898Z",
     "iopub.status.busy": "2022-11-25T03:06:08.502750Z",
     "iopub.status.idle": "2022-11-25T03:06:08.505170Z",
     "shell.execute_reply": "2022-11-25T03:06:08.504829Z",
     "shell.execute_reply.started": "2022-11-25T03:06:08.502883Z"
    },
    "tags": []
   },
   "outputs": [],
   "source": [
    "with open(\"수평수직지표.json\", 'w') as outfile:\n",
    "    json.dump(roc_aucs, outfile)"
   ]
  },
  {
   "cell_type": "code",
   "execution_count": 12,
   "id": "b6aaf62b-210c-4daa-b561-870b4d7c19f7",
   "metadata": {
    "execution": {
     "iopub.execute_input": "2022-11-25T03:06:08.505950Z",
     "iopub.status.busy": "2022-11-25T03:06:08.505757Z",
     "iopub.status.idle": "2022-11-25T03:06:08.597455Z",
     "shell.execute_reply": "2022-11-25T03:06:08.597058Z",
     "shell.execute_reply.started": "2022-11-25T03:06:08.505933Z"
    },
    "tags": []
   },
   "outputs": [
    {
     "data": {
      "image/png": "[encoded data removed]",
      "text/plain": [
       "<Figure size 432x288 with 1 Axes>"
      ]
     },
     "metadata": {
      "needs_background": "light"
     },
     "output_type": "display_data"
    },
    {
     "name": "stdout",
     "output_type": "stream",
     "text": [
      "2022-11-25 03:06:08.595724\n"
     ]
    }
   ],
   "source": [
    "target=\"mid\";out_type=0\n",
    "tpr=dict();fpr=dict()\n",
    "for K in range(1,4):\n",
    "    tpr[K]=list();fpr[K]=list()    \n",
    "    for i in np.arange(0,1.1,.05):\n",
    "        tpr[K].append(tp_sum[f\"K_{K}_out_type_{out_type}_target_{target}_cutoff_{i:.02f}\"]/(\n",
    "            tp_sum[f\"K_{K}_out_type_{out_type}_target_{target}_cutoff_{i:.02f}\"]+\\\n",
    "            fn_sum[f\"K_{K}_out_type_{out_type}_target_{target}_cutoff_{i:.02f}\"]))\n",
    "        fpr[K].append(fp_sum[f\"K_{K}_out_type_{out_type}_target_{target}_cutoff_{i:.02f}\"]/(\n",
    "            fp_sum[f\"K_{K}_out_type_{out_type}_target_{target}_cutoff_{i:.02f}\"]+\\\n",
    "            tn_sum[f\"K_{K}_out_type_{out_type}_target_{target}_cutoff_{i:.02f}\"]))\n",
    "    tpr[K]=np.array(tpr[K]);fpr[K]=np.array(fpr[K])\n",
    "    \n",
    "plt.figure()\n",
    "plt.rcParams['figure.figsize'] = [10,5]\n",
    "plt.rcParams.update({'font.size': 12})\n",
    "colors = cycle([\"aqua\", \"darkorange\", \"cornflowerblue\"])\n",
    "lw=2\n",
    "for K,color in zip(range(1,4),colors):\n",
    "    roc_auc=metrics.auc(fpr[K],tpr[K])\n",
    "    plt.plot(\n",
    "        fpr[K],\n",
    "        tpr[K],\n",
    "        label=f\"{K}-fold ROC curve (AUC = {roc_auc:0.5f})\",\n",
    "        color=color,\n",
    "        lw=lw\n",
    "    )\n",
    "plt.plot([0, 1], [0, 1], \"k--\", lw=lw)\n",
    "plt.xlim([0.0, 1.0])\n",
    "plt.ylim([0.0, 1.05])\n",
    "plt.xlabel(\"False Positive Rate\")\n",
    "plt.ylabel(\"True Positive Rate\")\n",
    "plt.title(\"ROC Curve(K-fold Cross Validation)\")\n",
    "plt.legend(loc=\"lower right\")\n",
    "plt.show()\n",
    "print(datetime.datetime.today())"
   ]
  },
  {
   "cell_type": "code",
   "execution_count": null,
   "id": "a70ad788-98cc-4927-9888-c06f1e6fcf57",
   "metadata": {},
   "outputs": [],
   "source": []
  }
 ],
 "metadata": {
  "kernelspec": {
   "display_name": "Python 3 (ipykernel)",
   "language": "python",
   "name": "python3"
  },
  "language_info": {
   "codemirror_mode": {
    "name": "ipython",
    "version": 3
   },
   "file_extension": ".py",
   "mimetype": "text/x-python",
   "name": "python",
   "nbconvert_exporter": "python",
   "pygments_lexer": "ipython3",
   "version": "3.8.10"
  }
 },
 "nbformat": 4,
 "nbformat_minor": 5
}
