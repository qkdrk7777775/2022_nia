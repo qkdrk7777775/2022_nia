{
 "cells": [
  {
   "cell_type": "code",
   "execution_count": 4,
   "id": "bd84e370-4af5-4c30-884f-1fcc6272709a",
   "metadata": {},
   "outputs": [],
   "source": [
    "#!pip install opencv-python"
   ]
  },
  {
   "cell_type": "code",
   "execution_count": 1,
   "id": "7ec98636-1317-4da5-8ae7-611ca8e97f0a",
   "metadata": {},
   "outputs": [
    {
     "name": "stdout",
     "output_type": "stream",
     "text": [
      "2022-11-07 10:49:01.313126\n"
     ]
    }
   ],
   "source": [
    "import os, glob, cv2, shutil, joblib,gc, random, re\n",
    "import tensorflow as tf\n",
    "import numpy as np\n",
    "from tqdm import tqdm\n",
    "import matplotlib.pyplot as plt\n",
    "import pandas as pd\n",
    "from datetime import datetime\n",
    "from sklearn.model_selection import train_test_split, KFold\n",
    "from sklearn import metrics\n",
    "import random\n",
    "import warnings\n",
    "warnings.filterwarnings(action='ignore')\n",
    "import datetime\n",
    "print(datetime.datetime.today())"
   ]
  },
  {
   "cell_type": "code",
   "execution_count": 2,
   "id": "2c2c1a44-63e1-40fe-af58-59d0a55c743e",
   "metadata": {},
   "outputs": [],
   "source": [
    "def video_gray2rgb(df):\n",
    "    out=np.zeros(df.shape[:3]+(3,),dtype='u1')\n",
    "    for i in range(df.shape[0]):\n",
    "        img=cv2.cvtColor(df[i,:,:,0],cv2.COLOR_GRAY2RGB)\n",
    "        out[i,:,:,:]=img   \n",
    "        del img\n",
    "    return out\n",
    "def batch_avi(data,idx,BATCH_SIZE=1024,font=cv2.FONT_HERSHEY_SIMPLEX):\n",
    "    def label_vis(data,i,font):\n",
    "        input_img=cv2.cvtColor(data[i,:,:,0],cv2.COLOR_GRAY2RGB\n",
    "                            ).astype('u1')\n",
    "        \n",
    "        pred_img=cv2.cvtColor(data[i,:,:,1]*255,cv2.COLOR_GRAY2RGB\n",
    "                            ).astype('u1')\n",
    "        pred_img[:,:,(0,2)]=0\n",
    "        \n",
    "        label_img=cv2.addWeighted(input_img,1,pred_img,.2,0)\n",
    "        text=f\"Index : {i}\"\n",
    "        cv2.putText(label_img,text, (80,30),font,1,(255,0,0),2)\n",
    "        \n",
    "        return np.expand_dims(label_img,axis=0)\n",
    "    return np.concatenate([label_vis(data,i, font) \n",
    "                    for i in range((BATCH_SIZE*idx),\n",
    "                                   (np.min([data.shape[0],(idx+1)*BATCH_SIZE])))])\n",
    "\n",
    "def write_avi(data,file_name,fps=30):\n",
    "    fourcc = cv2.VideoWriter_fourcc(*\"DIVX\")\n",
    "    (width, height)=data.shape[1:3]\n",
    "    out = cv2.VideoWriter(file_name, fourcc, fps, (height, width),isColor=True)\n",
    "    for i in range(len(data)):\n",
    "        out.write(data[i])\n",
    "    out.release()\n",
    "    \n",
    "def my_confusion_matrix(y_true,y_pred,cutoff=.5):\n",
    "    label_true=y_true>=.5\n",
    "    pred_true=y_pred>=cutoff\n",
    "    label_false= ~ label_true\n",
    "    pred_false = ~ pred_true\n",
    "    tp=np.sum(label_true&pred_true)\n",
    "    fn=np.sum(label_true)-tp\n",
    "    fp=np.sum(label_false&pred_true)\n",
    "    tn=np.sum(label_false)-fp\n",
    "    return tp,fn,fp,tn"
   ]
  },
  {
   "cell_type": "markdown",
   "id": "81dac628-978d-49d8-9750-383328e11884",
   "metadata": {},
   "source": [
    "# 모델링"
   ]
  },
  {
   "cell_type": "code",
   "execution_count": 3,
   "id": "4ba0aa5a-0aa8-4e6c-beb5-b7ff2be9b252",
   "metadata": {},
   "outputs": [],
   "source": [
    "def get_feature(file):\n",
    "    df=pd.read_csv(file,sep='\\t')\n",
    "    df['diagnosis_group']=file.split('/')[-1].split('.')[0]\n",
    "    ls=list()\n",
    "    for i in df.converted.values:\n",
    "        ls.append(glob.glob(\n",
    "            f\"/root/lustre/data/vHIT/s3/final/final_20221101_count/1.Dataset/**/{i}/\")[0])\n",
    "    df['input_path']=ls\n",
    "    output=df[['converted','age','sex','input_path','diagnosis_group']]\n",
    "    output.loc[:,['LA','LP','Left','RA','RP','Right']]=0\n",
    "    for i,(path,patent) in tqdm(enumerate(df[['input_path','converted']].values)):\n",
    "        try:\n",
    "            file=glob.glob(f\"{path}/*.tsv\")[0]\n",
    "            file=\"/root\"+os.path.realpath(file)\n",
    "            output.loc[i,'path']=file\n",
    "            feature_df=pd.read_csv(file,sep='\\t')\n",
    "            feature=feature_df[['Direction','Gain']].groupby(['Direction']).mean().T\n",
    "            output.loc[i,feature.columns]=feature.values[0,:]\n",
    "        except:\n",
    "            output.loc[i,'path']=''\n",
    "    output=output[['age','sex','diagnosis_group','LA','LP','Left','RA','RP','Right','path']]\n",
    "\n",
    "    return output"
   ]
  },
  {
   "cell_type": "code",
   "execution_count": 4,
   "id": "554f1e27-1f64-4ced-8cf9-15e3f0643aba",
   "metadata": {},
   "outputs": [
    {
     "data": {
      "text/plain": [
       "3"
      ]
     },
     "execution_count": 4,
     "metadata": {},
     "output_type": "execute_result"
    }
   ],
   "source": [
    "files=glob.glob(\"/root/lustre/data/vHIT/s3/final/final_20221101_count/1.Dataset/*.tsv\")\n",
    "#model_files=np.array(sorted([i for i in files if re.compile('raw').findall(i)]))\n",
    "len(files)"
   ]
  },
  {
   "cell_type": "code",
   "execution_count": 5,
   "id": "8a98d01b-f04c-483d-baed-c16d19da1bb6",
   "metadata": {},
   "outputs": [
    {
     "name": "stderr",
     "output_type": "stream",
     "text": [
      "2550it [01:14, 34.33it/s]\n",
      "6617it [03:08, 35.11it/s]\n",
      "5402it [02:26, 36.94it/s]\n"
     ]
    }
   ],
   "source": [
    "model_files=[get_feature(file) for file in files]\n",
    "model_files=pd.concat(model_files)\n",
    "model_files.loc[model_files.sex=='F ','sex']='F'\n",
    "model_files.loc[model_files.sex=='F ','sex']='F'\n",
    "model_files.loc[model_files.sex=='f','sex']='F'\n",
    "model_files.loc[model_files.sex=='m','sex']='M'\n",
    "model_files[[\"F\",\"M\"]]=pd.get_dummies(model_files['sex'])\n",
    "model_files=model_files.drop('sex',axis=1)\n",
    "model_files=model_files.dropna()\n",
    "model_files=model_files[model_files.path!=''].reset_index().drop('index',axis=1)"
   ]
  },
  {
   "cell_type": "code",
   "execution_count": 6,
   "id": "1d8943cb-52f4-4797-9836-ad73afbe2d31",
   "metadata": {},
   "outputs": [
    {
     "name": "stdout",
     "output_type": "stream",
     "text": [
      "Peripheral type    6502\n",
      "Normal             5247\n",
      "Central type       2513\n",
      "Name: diagnosis_group, dtype: int64\n",
      "Peripheral type    0.455897\n",
      "Normal             0.367901\n",
      "Central type       0.176202\n",
      "Name: diagnosis_group, dtype: float64\n"
     ]
    }
   ],
   "source": [
    "print(model_files.diagnosis_group.value_counts())\n",
    "print(model_files.diagnosis_group.value_counts()/model_files.diagnosis_group.value_counts().sum())"
   ]
  },
  {
   "cell_type": "markdown",
   "id": "e4f78a7c-8600-4919-9df1-f51dc3d7303e",
   "metadata": {},
   "source": [
    "## 모델링 수행"
   ]
  },
  {
   "cell_type": "code",
   "execution_count": null,
   "id": "8a7ba5e4-8e31-4183-9cfa-1a13dcc4954d",
   "metadata": {
    "tags": []
   },
   "outputs": [
    {
     "name": "stdout",
     "output_type": "stream",
     "text": [
      "Peripheral type    3480\n",
      "Normal             2808\n",
      "Central type       1318\n",
      "Name: diagnosis_group, dtype: int64\n",
      "Peripheral type    2158\n",
      "Normal             1752\n",
      "Central type        844\n",
      "Name: diagnosis_group, dtype: int64\n",
      "Fitting 3 folds for each of 540 candidates, totalling 1620 fits\n",
      "Peripheral type    3459\n",
      "Normal             2819\n",
      "Central type       1328\n",
      "Name: diagnosis_group, dtype: int64\n",
      "Peripheral type    2184\n",
      "Normal             1739\n",
      "Central type        831\n",
      "Name: diagnosis_group, dtype: int64\n",
      "Fitting 3 folds for each of 540 candidates, totalling 1620 fits\n"
     ]
    }
   ],
   "source": [
    "#!pip install lightgbm\n",
    "import lightgbm as lgb\n",
    "from sklearn.model_selection import GridSearchCV\n",
    "from sklearn.metrics import fbeta_score, make_scorer\n",
    "ftwo_scorer = make_scorer(fbeta_score, beta=2)\n",
    "from sklearn.metrics import accuracy_score\n",
    "import sklearn\n",
    "from sklearn.ensemble import RandomForestClassifier\n",
    "kf = KFold(n_splits = 3, shuffle = True)\n",
    "target_label=np.array(['Peripheral type','Normal','Central type'])\n",
    "params={\"num_leaves\":[20,40,60,80,100],\n",
    "        \"min_child_samples\":[5,10,15],\n",
    "        \"max_depth\":[-1,5,10,2],\n",
    "        \"learning_rate\":[0.05,0.1,0.2],\n",
    "        \"reg_alpha\":[0,0.01,0.03],\n",
    "       }\n",
    "\n",
    "tp_sum=dict();fn_sum=dict();fp_sum=dict();tn_sum=dict()\n",
    "for K, (train_idx,test_idx) in enumerate(kf.split(model_files),1):    \n",
    "    for cutoff in np.arange(0,1.1,0.05):\n",
    "        for target in target_label:\n",
    "            cond=f\"K_{K}_target_{target}_cutoff_{cutoff:.2f}\"\n",
    "            tp_sum[cond]=0;fn_sum[cond]=0;fp_sum[cond]=0;tn_sum[cond]=0\n",
    "    \n",
    "    train_files=model_files.loc[train_idx,:]\n",
    "    test_files=model_files.loc[test_idx,:]\n",
    "    tr_x=train_files.drop(['path','diagnosis_group'],axis=1)\n",
    "    tr_y=train_files.diagnosis_group\n",
    "    \n",
    "    train_files, valid_files=train_test_split(\n",
    "        train_files, test_size=.2, random_state=42)\n",
    "    train_files=train_files.sort_index()\n",
    "    valid_files=valid_files.sort_index()\n",
    "    test_files=test_files.sort_index()\n",
    "    tr_x_=train_files.drop(['path','diagnosis_group'],axis=1)\n",
    "    tr_y_=train_files.diagnosis_group\n",
    "    val_x_=valid_files.drop(['path','diagnosis_group'],axis=1)\n",
    "    val_y_=valid_files.diagnosis_group\n",
    "    te_x=test_files.drop(['path','diagnosis_group'],axis=1)\n",
    "    te_y=test_files.diagnosis_group\n",
    "    \n",
    "    print(train_files.diagnosis_group.value_counts())\n",
    "    print(test_files.diagnosis_group.value_counts())\n",
    "    ###################\n",
    "    \"\"\"\n",
    "    모델 생성\n",
    "    \"\"\"\n",
    "    class_weight={\n",
    "        \"Peripheral type\":.15,\n",
    "        \"Normal\":.25,\n",
    "        \"Central type\":.6}\n",
    "    \n",
    "    # rf=RandomForestClassifier(\n",
    "    #     random_state=42,n_estimators=500,\n",
    "    #     class_weight={\"Peripheral type\":.1,\"Normal\":.35,\"Central type\":.55})\n",
    "    # rf.fit(X=tr_x,y=tr_y)\n",
    "    # joblib.dump(rf,f'rf_{K}_fold.pkl')\n",
    "    # y_trues=np.concatenate([(i==target_label).astype('int')[np.newaxis] for i in te_y])\n",
    "    # y_preds=rf.predict_proba(te_x)\n",
    "    \n",
    "    lgbm=lgb.LGBMClassifier(\n",
    "        metric=\"multi_logloss\",num_class=3,objective=\"multiclass\",\n",
    "        n_estimators=400,random_state=10042,class_weight=class_weight)\n",
    "    clf=GridSearchCV(lgbm,params,scoring=\"accuracy\",verbose=1,n_jobs=-1,cv=3)\n",
    "    clf.fit(X=tr_x,y=tr_y)\n",
    "    lgbm.set_params(**clf.best_params_)\n",
    "    lgbm.fit(tr_x_, tr_y_, early_stopping_rounds=300,verbose=0,eval_set=[(val_x_,val_y_)])\n",
    "    joblib.dump(lgbm,f'lgbm_{K}_fold.pkl')\n",
    "    y_trues=np.concatenate([(i==target_label).astype('int')[np.newaxis] for i in te_y])\n",
    "    y_preds=lgbm.predict_proba(te_x)\n",
    "    ###################\n",
    "    \"\"\"\n",
    "    모델 검증\n",
    "    \"\"\"\n",
    "    for target in range(3):\n",
    "        y_true=y_trues[:,target]\n",
    "        y_pred=y_preds[:,target]\n",
    "        for cutoff in np.arange(0,1.1,0.05):\n",
    "            cond=f\"K_{K}_target_{target_label[target]}_cutoff_{cutoff:.2f}\"\n",
    "            tp,fn,fp,tn=my_confusion_matrix(y_true,y_pred,cutoff)\n",
    "            tp_sum[cond]+=tp;fn_sum[cond]+=fn;fp_sum[cond]+=fp;tn_sum[cond]+=tn"
   ]
  },
  {
   "cell_type": "code",
   "execution_count": 66,
   "id": "50d459f6-5fd0-48da-a1de-715b3cf1bf5a",
   "metadata": {},
   "outputs": [],
   "source": [
    "# joblib.dump([tp_sum,fn_sum,fp_sum,tn_sum],'진단모델지표.pkl')\n",
    "from itertools import cycle\n",
    "import matplotlib.pyplot as plt \n",
    "import numpy as np\n",
    "import joblib\n",
    "from sklearn import metrics\n",
    "# tp_sum,fn_sum,fp_sum,tn_sum=joblib.load('진단모델지표.pkl')"
   ]
  },
  {
   "cell_type": "code",
   "execution_count": 28,
   "id": "345a487b-a071-43d0-8b47-5192da9202e6",
   "metadata": {},
   "outputs": [
    {
     "data": {
      "text/plain": [
       "array(['Peripheral type', 'Normal', 'Central type'], dtype='<U15')"
      ]
     },
     "execution_count": 28,
     "metadata": {},
     "output_type": "execute_result"
    }
   ],
   "source": [
    "target_label"
   ]
  },
  {
   "cell_type": "code",
   "execution_count": 68,
   "id": "ddc4cde7-75c7-4310-b2f5-c760c1718cc5",
   "metadata": {},
   "outputs": [],
   "source": [
    "target=\"Central type\"\n",
    "colors = cycle([\"aqua\", \"darkorange\", \"cornflowerblue\"])\n",
    "roc_aucs=dict()\n",
    "for target in target_label:\n",
    "    tpr=dict();fpr=dict()\n",
    "    for K in range(1,4):\n",
    "        tpr[K]=list();fpr[K]=list()    \n",
    "        for i in np.arange(0,1.1,.05):\n",
    "            tpr[K].append(tp_sum[f\"K_{K}_target_{target}_cutoff_{i:.02f}\"]/(\n",
    "                tp_sum[f\"K_{K}_target_{target}_cutoff_{i:.02f}\"]+fn_sum[f\"K_{K}_target_{target}_cutoff_{i:.02f}\"]))\n",
    "            fpr[K].append(fp_sum[f\"K_{K}_target_{target}_cutoff_{i:.02f}\"]/(\n",
    "                fp_sum[f\"K_{K}_target_{target}_cutoff_{i:.02f}\"]+tn_sum[f\"K_{K}_target_{target}_cutoff_{i:.02f}\"]))\n",
    "        tpr[K]=np.array(tpr[K]);fpr[K]=np.array(fpr[K])\n",
    "\n",
    "    for K,color in zip(range(1,4),colors):\n",
    "        roc_auc=metrics.auc(fpr[K],tpr[K])\n",
    "        roc_aucs[f\"{target}_{K}\"]=roc_auc"
   ]
  },
  {
   "cell_type": "code",
   "execution_count": 69,
   "id": "c018fe20-d5cb-41b2-aa47-a2871258e754",
   "metadata": {},
   "outputs": [
    {
     "data": {
      "text/plain": [
       "{'Peripheral type_1': 0.48138729238972744,\n",
       " 'Peripheral type_2': 0.4612695180449505,\n",
       " 'Peripheral type_3': 0.453188267830105,\n",
       " 'Normal_1': 0.641934505772581,\n",
       " 'Normal_2': 0.6498887803120639,\n",
       " 'Normal_3': 0.6513079940617974,\n",
       " 'Central type_1': 0.44776458163492183,\n",
       " 'Central type_2': 0.4562354003941894,\n",
       " 'Central type_3': 0.4535107206037381}"
      ]
     },
     "execution_count": 69,
     "metadata": {},
     "output_type": "execute_result"
    }
   ],
   "source": [
    "roc_aucs"
   ]
  },
  {
   "cell_type": "code",
   "execution_count": 70,
   "id": "8671f2ac-aa77-4e25-84fd-fa6afb174b5a",
   "metadata": {},
   "outputs": [
    {
     "data": {
      "text/plain": [
       "0.5218318956715637"
      ]
     },
     "execution_count": 70,
     "metadata": {},
     "output_type": "execute_result"
    }
   ],
   "source": [
    "np.mean(list(roc_aucs.values()))"
   ]
  },
  {
   "cell_type": "code",
   "execution_count": 71,
   "id": "b6aaf62b-210c-4daa-b561-870b4d7c19f7",
   "metadata": {},
   "outputs": [
    {
     "data": {
      "image/png": "[encoded data removed]",
      "text/plain": [
       "<Figure size 432x288 with 1 Axes>"
      ]
     },
     "metadata": {
      "needs_background": "light"
     },
     "output_type": "display_data"
    }
   ],
   "source": [
    "target=\"Central type\"\n",
    "tpr=dict();fpr=dict();roc_aucs=dict()\n",
    "for K in range(1,4):\n",
    "    tpr[K]=list();fpr[K]=list()    \n",
    "    for i in np.arange(0,1.1,.05):\n",
    "        tpr[K].append(tp_sum[f\"K_{K}_target_{target}_cutoff_{i:.02f}\"]/(\n",
    "            tp_sum[f\"K_{K}_target_{target}_cutoff_{i:.02f}\"]+fn_sum[f\"K_{K}_target_{target}_cutoff_{i:.02f}\"]))\n",
    "        fpr[K].append(fp_sum[f\"K_{K}_target_{target}_cutoff_{i:.02f}\"]/(\n",
    "            fp_sum[f\"K_{K}_target_{target}_cutoff_{i:.02f}\"]+tn_sum[f\"K_{K}_target_{target}_cutoff_{i:.02f}\"]))\n",
    "    tpr[K]=np.array(tpr[K]);fpr[K]=np.array(fpr[K])\n",
    "    \n",
    "plt.figure()\n",
    "plt.rcParams['figure.figsize'] = [10,5]\n",
    "plt.rcParams.update({'font.size': 12})\n",
    "colors = cycle([\"aqua\", \"darkorange\", \"cornflowerblue\"])\n",
    "lw=2\n",
    "for K,color in zip(range(1,4),colors):\n",
    "    roc_auc=metrics.auc(fpr[K],tpr[K])\n",
    "    roc_aucs[K]=roc_auc\n",
    "    plt.plot(\n",
    "        fpr[K],\n",
    "        tpr[K],\n",
    "        label=f\"{K}-fold ROC curve (AUC = {roc_auc:0.5f})\",\n",
    "        color=color,\n",
    "        lw=lw\n",
    "    )\n",
    "plt.plot([0, 1], [0, 1], \"k--\", lw=lw)\n",
    "plt.xlim([0.0, 1.0])\n",
    "plt.ylim([0.0, 1.05])\n",
    "plt.xlabel(\"False Positive Rate\")\n",
    "plt.ylabel(\"True Positive Rate\")\n",
    "plt.title(\"ROC Curve(K-fold Cross Validation)\")\n",
    "plt.legend(loc=\"lower right\")\n",
    "plt.show()"
   ]
  }
 ],
 "metadata": {
  "kernelspec": {
   "display_name": "Python 3 (ipykernel)",
   "language": "python",
   "name": "python3"
  },
  "language_info": {
   "codemirror_mode": {
    "name": "ipython",
    "version": 3
   },
   "file_extension": ".py",
   "mimetype": "text/x-python",
   "name": "python",
   "nbconvert_exporter": "python",
   "pygments_lexer": "ipython3",
   "version": "3.8.10"
  }
 },
 "nbformat": 4,
 "nbformat_minor": 5
}
