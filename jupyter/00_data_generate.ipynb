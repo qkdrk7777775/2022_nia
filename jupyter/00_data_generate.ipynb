{
 "cells": [
  {
   "cell_type": "code",
   "execution_count": 1,
   "id": "fef0834e-1606-4e14-adcd-69b1f7c2bfc7",
   "metadata": {
    "execution": {
     "iopub.execute_input": "2022-12-16T03:35:58.788622Z",
     "iopub.status.busy": "2022-12-16T03:35:58.788465Z",
     "iopub.status.idle": "2022-12-16T03:36:00.916943Z",
     "shell.execute_reply": "2022-12-16T03:36:00.915883Z",
     "shell.execute_reply.started": "2022-12-16T03:35:58.788603Z"
    },
    "tags": []
   },
   "outputs": [
    {
     "name": "stdout",
     "output_type": "stream",
     "text": [
      "Python implementation: CPython\n",
      "Python version       : 3.8.10\n",
      "IPython version      : 7.34.0\n",
      "\n",
      "tqdm      : 4.63.1\n",
      "re        : 2.2.1\n",
      "joblib    : 1.1.0\n",
      "shutil    : unknown\n",
      "pandas    : 1.4.1\n",
      "numpy     : 1.22.3\n",
      "cv2       : 4.6.0\n",
      "tensorflow: 2.8.0\n",
      "matplotlib: 3.5.1\n",
      "sklearn   : 1.0.2\n",
      "\n"
     ]
    }
   ],
   "source": [
    "%reload_ext watermark\n",
    "%watermark -v -p tqdm,re,joblib,shutil,pandas,numpy,cv2,tensorflow,numpy,matplotlib,sklearn"
   ]
  },
  {
   "cell_type": "code",
   "execution_count": 2,
   "id": "e821a508-9bfe-4699-9f79-578bece1f722",
   "metadata": {
    "execution": {
     "iopub.execute_input": "2022-12-16T03:36:00.917937Z",
     "iopub.status.busy": "2022-12-16T03:36:00.917802Z",
     "iopub.status.idle": "2022-12-16T03:36:00.922358Z",
     "shell.execute_reply": "2022-12-16T03:36:00.921492Z",
     "shell.execute_reply.started": "2022-12-16T03:36:00.917920Z"
    },
    "tags": []
   },
   "outputs": [],
   "source": [
    "import glob,tqdm,re,os,datetime,joblib,time,shutil\n",
    "import pandas as pd\n",
    "import numpy as np"
   ]
  },
  {
   "cell_type": "code",
   "execution_count": 3,
   "id": "d97423e4-b635-457a-a0c6-5c68b4364638",
   "metadata": {
    "execution": {
     "iopub.execute_input": "2022-12-16T03:36:00.923444Z",
     "iopub.status.busy": "2022-12-16T03:36:00.923245Z",
     "iopub.status.idle": "2022-12-16T03:36:00.934082Z",
     "shell.execute_reply": "2022-12-16T03:36:00.932953Z",
     "shell.execute_reply.started": "2022-12-16T03:36:00.923429Z"
    },
    "tags": []
   },
   "outputs": [],
   "source": [
    "def merge_df(tsv_files):\n",
    "    dfs=list()\n",
    "    for tsv_file in tsv_files:\n",
    "        df=pd.read_csv(tsv_file ,sep='\\t')\n",
    "        tsv_path=os.path.dirname(tsv_file)\n",
    "        if len(re.compile(\"SN\").findall(tsv_path))==1:\n",
    "                bases=tsv_file.replace(\"anonymized\",\"\").replace('-','/').replace('_', '/').replace('.','/').split('/')\n",
    "                base=[i for i in bases if re.compile('right|left|all').findall(i)]\n",
    "        elif len(re.compile(\"vhit\").findall(tsv_path))==1:\n",
    "            bases=tsv_file.replace(\"all\",\"\").replace('-','/').replace('_', '/').replace('.','/').split('/')\n",
    "            base=[i for i in bases if re.compile('Lateral|LARP|RALP|RPLA|Spon|Thrust|Straight').findall(i)]\n",
    "            if len(base)!=1:\n",
    "                base=[i for i in base if re.compile(\"Head Thrust 1\").findall(i)]\n",
    "                if len(base)==0:\n",
    "                    base=[i for i in bases if re.compile('Lateral|LARP|RALP|RPLA|Spon|Thrust|Straight').findall(i)]\n",
    "                    base=[i for i in base if re.compile(\"Head Thrust 0\").findall(i)]\n",
    "        \n",
    "        if len(base)!=1:\n",
    "            # raise\n",
    "            base=['']\n",
    "        df['data_type']=base[0]\n",
    "        file_name=tsv_file.split('/')[-1].split('.')[0].split('-')\n",
    "        df['file_name']='-'.join(tsv_file.split('/')[-1].split('.')[0].split('-')[:-1])\n",
    "\n",
    "        if (len([i for i in file_name if re.compile('Nystagmus').findall(i)])!=0)&(df.shape[0]!=0):\n",
    "            df['file_name']=df['file_name']+'-'+[i for i in file_name if re.compile('left|right|all').findall(i)][0]\n",
    "        dfs.append(df)\n",
    "        \n",
    "    df=None\n",
    "    if len(dfs)==0:\n",
    "        raise\n",
    "    df=pd.concat(dfs,axis=0,ignore_index=True)\n",
    "    return df"
   ]
  },
  {
   "cell_type": "code",
   "execution_count": 4,
   "id": "526ef1e4-db9c-41cc-982d-cbe3e2b0d8f8",
   "metadata": {
    "execution": {
     "iopub.execute_input": "2022-12-16T03:36:00.935498Z",
     "iopub.status.busy": "2022-12-16T03:36:00.935202Z",
     "iopub.status.idle": "2022-12-16T03:36:00.944116Z",
     "shell.execute_reply": "2022-12-16T03:36:00.943117Z",
     "shell.execute_reply.started": "2022-12-16T03:36:00.935482Z"
    },
    "tags": []
   },
   "outputs": [],
   "source": [
    "def check_img(img_df,test_path,model_type):\n",
    "    matchs=list()\n",
    "    if img_df.shape[0]!=0:\n",
    "        idx=list()\n",
    "        for frame, data_type, file_name in img_df[[\"frame_number\",\"data_type\",\"file_name\"]].values:\n",
    "            file_name=file_name.replace(\"--right\",'');file_name=file_name.replace(\"--left\",'')\n",
    "            file_name=file_name.replace(\"--all\",'')\n",
    "            test_img_path=test_path.replace(\"2.라벨링\",\"1.원천\")\n",
    "            \n",
    "            match=glob.glob(f\"{test_img_path}/blink/*{data_type}*frame_{frame}-*.png\")\n",
    "            if len(match)==0:\n",
    "                match=glob.glob(f\"{test_img_path}/blink/*frame_{frame}-*{data_type}.png\")\n",
    "            if len(match)>1:\n",
    "                match=glob.glob(f\"{test_img_path}/blink/{file_name}-frame_{frame}-*.png\")\n",
    "                if len(match)==0:\n",
    "                    match=glob.glob(f\"{test_img_path}/blink/{file_name}-frame_{frame}-*{data_type}.png\")\n",
    "            if len(match)!=1:\n",
    "                # do not find png\n",
    "                new_dir=test_path.replace(f\"/home/data/{model_type}/2.라벨링데이터\",'/lustre/data/vHIT/s3/upload/20221129_update/20221207/merge')\n",
    "                match=glob.glob(f\"{new_dir}/blink/*{data_type}*frame_{frame}-*.png\")\n",
    "                if len(match)==0:\n",
    "                    match=glob.glob(f\"{new_dir}/blink/*frame_{frame}-*{data_type}.png\")\n",
    "                if len(match)>1:\n",
    "                    match=glob.glob(f\"{new_dir}/blink/{file_name}-frame_{frame}-*.png\")+\\\n",
    "                        glob.glob(f\"{new_dir}/blink/{file_name}--frame_{frame}-*.png\")\n",
    "                    if len(match)==0:\n",
    "                        match=glob.glob(f\"{new_dir}/blink/{file_name}-frame_{frame}-*{data_type}.png\")\n",
    "                elif len(match)==0:\n",
    "                    match=glob.glob(f\"{new_dir}/blink/{file_name}-frame_{frame}-*.png\")+\\\n",
    "                        glob.glob(f\"{new_dir}/blink/{file_name}--frame_{frame}-*.png\")\n",
    "                if len(match)!=1:\n",
    "                    raise\n",
    "            matchs.append(match[0])\n",
    "    return matchs"
   ]
  },
  {
   "cell_type": "code",
   "execution_count": 5,
   "id": "cbc5d857-a251-4f6a-8331-90e0d1ec6916",
   "metadata": {
    "execution": {
     "iopub.execute_input": "2022-12-16T03:36:00.945341Z",
     "iopub.status.busy": "2022-12-16T03:36:00.945214Z",
     "iopub.status.idle": "2022-12-16T03:36:00.954359Z",
     "shell.execute_reply": "2022-12-16T03:36:00.953354Z",
     "shell.execute_reply.started": "2022-12-16T03:36:00.945327Z"
    },
    "tags": []
   },
   "outputs": [],
   "source": [
    "def check_video(video_df, test_path,model_type):\n",
    "    matchs=list()\n",
    "    if video_df.shape[0]!=0:\n",
    "        idx=list()\n",
    "        for frame,data_type,file_name in video_df[[\"frame_number\",\"data_type\",'file_name']].values:\n",
    "            file_name=file_name.replace(\"--right\",'');file_name=file_name.replace(\"--left\",'')\n",
    "            file_name=file_name.replace(\"--all\",'')\n",
    "            test_img_path=test_path.replace(\"2.라벨링\",\"1.원천\")\n",
    "            \n",
    "            \n",
    "            match=glob.glob(f\"{test_img_path}/horizontal_vertical/*{data_type}*frame_{frame}-*.avi\")\n",
    "            if len(match)==0:\n",
    "                match=glob.glob(f\"{test_img_path}/horizontal_vertical/*frame_{frame}-*{data_type}.avi\")\n",
    "            if len(match)>1:\n",
    "                match=glob.glob(f\"{test_img_path}/horizontal_vertical/{file_name}-frame_{frame}-*.avi\")\n",
    "                if len(match)==0:\n",
    "                    match=glob.glob(f\"{test_img_path}/horizontal_vertical/{file_name}-frame_{frame}-*{data_type}.avi\")\n",
    "            if len(match)!=1:\n",
    "                # raise\n",
    "                new_dir=test_path.replace(f\"/home/data/{model_type}/2.라벨링데이터\",'/lustre/data/vHIT/s3/upload/20221129_update/20221207/merge')\n",
    "                match=glob.glob(f\"{new_dir}/horizontal_vertical/*{data_type}*frame_{frame}-*.avi\")\n",
    "                if len(match)==0:\n",
    "                    match=glob.glob(f\"{new_dir}/horizontal_vertical/*frame_{frame}-*{data_type}.avi\")\n",
    "                if len(match)>1:\n",
    "                    match=glob.glob(f\"{new_dir}/horizontal_vertical/{file_name}-frame_{frame}-*.avi\")+\\\n",
    "                        glob.glob(f\"{new_dir}/horizontal_vertical/{file_name}--frame_{frame}-*.avi\")\n",
    "                    if len(match)==0:\n",
    "                        match=glob.glob(f\"{new_dir}/horizontal_vertical/{file_name}-frame_{frame}-*{data_type}.avi\")\n",
    "                elif len(match)==0:\n",
    "                    match=glob.glob(f\"{new_dir}/horizontal_vertical/{file_name}-frame_{frame}-*.avi\")+\\\n",
    "                        glob.glob(f\"{new_dir}/horizontal_vertical/{file_name}--frame_{frame}-*.avi\")\n",
    "                if len(match)!=1:\n",
    "                    raise\n",
    "            matchs.append(match[0])\n",
    "    return matchs"
   ]
  },
  {
   "cell_type": "code",
   "execution_count": 6,
   "id": "fabde763-b901-42d9-a89e-30288e150518",
   "metadata": {
    "execution": {
     "iopub.execute_input": "2022-12-16T03:36:00.955213Z",
     "iopub.status.busy": "2022-12-16T03:36:00.955090Z",
     "iopub.status.idle": "2022-12-16T03:36:00.960784Z",
     "shell.execute_reply": "2022-12-16T03:36:00.959830Z",
     "shell.execute_reply.started": "2022-12-16T03:36:00.955199Z"
    },
    "tags": []
   },
   "outputs": [],
   "source": [
    "def f_img(test_path,model_type):\n",
    "    tsv_files=glob.glob(f\"{test_path}/*tsv\")\n",
    "    df=merge_df(tsv_files)    \n",
    "    img_df=df.loc[df.blink=='C'].copy()\n",
    "    img_df.reset_index(drop=True)\n",
    "    img_df.loc[:,'file_path']=check_img(img_df,test_path,model_type)\n",
    "    img_df=img_df.loc[:,['blink_tagging','file_path']]\n",
    "    return img_df"
   ]
  },
  {
   "cell_type": "code",
   "execution_count": 7,
   "id": "c179940b-7b7b-489c-9796-0cdf0b96b33f",
   "metadata": {
    "execution": {
     "iopub.execute_input": "2022-12-16T03:36:00.963529Z",
     "iopub.status.busy": "2022-12-16T03:36:00.963233Z",
     "iopub.status.idle": "2022-12-16T03:36:00.968641Z",
     "shell.execute_reply": "2022-12-16T03:36:00.967641Z",
     "shell.execute_reply.started": "2022-12-16T03:36:00.963513Z"
    },
    "tags": []
   },
   "outputs": [],
   "source": [
    "def f_video(test_path,model_type):\n",
    "    tsv_files=glob.glob(f\"{test_path}/*tsv\")\n",
    "    df=merge_df(tsv_files)\n",
    "    video_df=df[df.blink=='O'].copy()\n",
    "    video_df.reset_index(drop=True)\n",
    "    video_df.loc[:,'file_path']=check_video(video_df,test_path,model_type)\n",
    "    video_df=video_df.loc[:,['horizontal','file_path']]\n",
    "    return video_df"
   ]
  },
  {
   "cell_type": "code",
   "execution_count": 8,
   "id": "69fc6c87-26d2-4bbb-b40f-03d4a65bc19f",
   "metadata": {
    "execution": {
     "iopub.execute_input": "2022-12-16T03:36:00.980959Z",
     "iopub.status.busy": "2022-12-16T03:36:00.980836Z",
     "iopub.status.idle": "2022-12-16T03:36:24.217474Z",
     "shell.execute_reply": "2022-12-16T03:36:24.215350Z",
     "shell.execute_reply.started": "2022-12-16T03:36:00.980945Z"
    }
   },
   "outputs": [
    {
     "name": "stdout",
     "output_type": "stream",
     "text": [
      "2022-12-16 03:36:24.211984\n"
     ]
    }
   ],
   "source": [
    "\"\"\"\n",
    "/home/data/train/2.라벨링데이터/Central/NE_C_00000/vhit\n",
    "\"\"\"\n",
    "test_paths=sorted(glob.glob(\"/home/data/train/2.라벨링데이터/**/**/**\"))\n",
    "print(datetime.datetime.today())"
   ]
  },
  {
   "cell_type": "code",
   "execution_count": 9,
   "id": "d1c0fd28-84d7-4b9e-b72a-00bfcb996ae3",
   "metadata": {
    "execution": {
     "iopub.execute_input": "2022-12-16T03:36:24.248378Z",
     "iopub.status.busy": "2022-12-16T03:36:24.248049Z",
     "iopub.status.idle": "2022-12-16T03:37:17.637216Z",
     "shell.execute_reply": "2022-12-16T03:37:17.635940Z",
     "shell.execute_reply.started": "2022-12-16T03:36:24.248360Z"
    },
    "tags": []
   },
   "outputs": [
    {
     "name": "stderr",
     "output_type": "stream",
     "text": [
      "100%|██████████| 14705/14705 [00:47<00:00, 310.67it/s]\n"
     ]
    }
   ],
   "source": [
    "if not os.path.exists(\"눈깜빡임분류_train.tsv\"):\n",
    "    with joblib.Parallel(n_jobs=-3) as parallel:\n",
    "        results = parallel(joblib.delayed(f_img)(i,\"train\") for i in tqdm.tqdm(test_paths[:]))\n",
    "    pd.concat(results).to_csv(\"눈깜빡임분류_train.tsv\",index=False,sep='\\t')"
   ]
  },
  {
   "cell_type": "code",
   "execution_count": 10,
   "id": "7cfe14e7-17b2-4995-94d2-7f92e237e8c8",
   "metadata": {
    "execution": {
     "iopub.execute_input": "2022-12-16T03:38:06.926116Z",
     "iopub.status.busy": "2022-12-16T03:38:06.925714Z",
     "iopub.status.idle": "2022-12-16T03:38:35.419185Z",
     "shell.execute_reply": "2022-12-16T03:38:35.417743Z",
     "shell.execute_reply.started": "2022-12-16T03:38:06.926098Z"
    },
    "tags": []
   },
   "outputs": [
    {
     "name": "stderr",
     "output_type": "stream",
     "text": [
      "100%|██████████| 14705/14705 [00:24<00:00, 606.11it/s]\n"
     ]
    }
   ],
   "source": [
    "if not os.path.exists(\"안진방향판별_train.tsv\"):\n",
    "    with joblib.Parallel(n_jobs=-3) as parallel:\n",
    "        results = parallel(joblib.delayed(f_video)(i,\"train\") for i in tqdm.tqdm(test_paths[:]))\n",
    "    pd.concat(results).to_csv(\"안진방향판별_train.tsv\",index=False,sep='\\t')"
   ]
  },
  {
   "cell_type": "code",
   "execution_count": 11,
   "id": "2f39f4e7-f156-475c-a04f-2f0ef85e9cae",
   "metadata": {
    "execution": {
     "iopub.execute_input": "2022-12-16T03:39:25.575314Z",
     "iopub.status.busy": "2022-12-16T03:39:25.575169Z",
     "iopub.status.idle": "2022-12-16T03:39:30.566393Z",
     "shell.execute_reply": "2022-12-16T03:39:30.564729Z",
     "shell.execute_reply.started": "2022-12-16T03:39:25.575299Z"
    },
    "tags": []
   },
   "outputs": [
    {
     "name": "stdout",
     "output_type": "stream",
     "text": [
      "2022-12-16 03:39:30.561260\n"
     ]
    }
   ],
   "source": [
    "test_paths=sorted(glob.glob(\"/home/data/test/2.라벨링데이터/**/**/**\"))\n",
    "print(datetime.datetime.today())"
   ]
  },
  {
   "cell_type": "code",
   "execution_count": 12,
   "id": "88bf16d9-84f4-4783-bb2c-9680b34d9526",
   "metadata": {
    "execution": {
     "iopub.execute_input": "2022-12-16T03:39:30.568339Z",
     "iopub.status.busy": "2022-12-16T03:39:30.567933Z",
     "iopub.status.idle": "2022-12-16T03:39:42.046732Z",
     "shell.execute_reply": "2022-12-16T03:39:42.045092Z",
     "shell.execute_reply.started": "2022-12-16T03:39:30.568312Z"
    },
    "tags": []
   },
   "outputs": [
    {
     "name": "stderr",
     "output_type": "stream",
     "text": [
      "100%|██████████| 2954/2954 [00:05<00:00, 558.25it/s]\n"
     ]
    }
   ],
   "source": [
    "if not os.path.exists(\"눈깜빡임분류_test.tsv\"):\n",
    "    with joblib.Parallel(n_jobs=-3) as parallel:\n",
    "        results = parallel(joblib.delayed(f_img)(i,\"test\") for i in tqdm.tqdm(test_paths[:]))\n",
    "    pd.concat(results).to_csv(\"눈깜빡임분류_test.tsv\",index=False,sep='\\t')"
   ]
  },
  {
   "cell_type": "code",
   "execution_count": 13,
   "id": "be98e669-7b8f-46f6-805c-0e61a0158aa6",
   "metadata": {
    "execution": {
     "iopub.execute_input": "2022-12-16T03:39:42.048137Z",
     "iopub.status.busy": "2022-12-16T03:39:42.047820Z",
     "iopub.status.idle": "2022-12-16T03:39:48.043936Z",
     "shell.execute_reply": "2022-12-16T03:39:48.042326Z",
     "shell.execute_reply.started": "2022-12-16T03:39:42.048119Z"
    },
    "tags": []
   },
   "outputs": [
    {
     "name": "stderr",
     "output_type": "stream",
     "text": [
      "100%|██████████| 2954/2954 [00:04<00:00, 667.52it/s]\n"
     ]
    }
   ],
   "source": [
    "if not os.path.exists(\"안진방향판별_test.tsv\"):\n",
    "    with joblib.Parallel(n_jobs=-3) as parallel:\n",
    "        results = parallel(joblib.delayed(f_video)(i,\"test\") for i in tqdm.tqdm(test_paths[:]))\n",
    "    pd.concat(results).to_csv(\"안진방향판별_test.tsv\",index=False,sep='\\t')"
   ]
  },
  {
   "cell_type": "code",
   "execution_count": 14,
   "id": "af9770ee-2a77-439b-91c1-bfe3e01831c7",
   "metadata": {
    "execution": {
     "iopub.execute_input": "2022-12-16T03:39:48.045281Z",
     "iopub.status.busy": "2022-12-16T03:39:48.045067Z",
     "iopub.status.idle": "2022-12-16T03:39:53.072849Z",
     "shell.execute_reply": "2022-12-16T03:39:53.070967Z",
     "shell.execute_reply.started": "2022-12-16T03:39:48.045260Z"
    },
    "tags": []
   },
   "outputs": [
    {
     "name": "stdout",
     "output_type": "stream",
     "text": [
      "2022-12-16 03:39:53.067548\n"
     ]
    }
   ],
   "source": [
    "test_paths=sorted(glob.glob(\"/home/data/valid/2.라벨링데이터/**/**/**\"))\n",
    "print(datetime.datetime.today())"
   ]
  },
  {
   "cell_type": "code",
   "execution_count": 15,
   "id": "bf4941d8-960d-4f4b-8737-c203c6388945",
   "metadata": {
    "execution": {
     "iopub.execute_input": "2022-12-16T03:39:53.074926Z",
     "iopub.status.busy": "2022-12-16T03:39:53.074617Z",
     "iopub.status.idle": "2022-12-16T03:40:05.084777Z",
     "shell.execute_reply": "2022-12-16T03:40:05.083565Z",
     "shell.execute_reply.started": "2022-12-16T03:39:53.074889Z"
    },
    "tags": []
   },
   "outputs": [
    {
     "name": "stderr",
     "output_type": "stream",
     "text": [
      "100%|██████████| 2989/2989 [00:05<00:00, 498.90it/s]\n"
     ]
    }
   ],
   "source": [
    "if not os.path.exists(\"눈깜빡임분류_valid.tsv\"):\n",
    "    with joblib.Parallel(n_jobs=-3) as parallel:\n",
    "        results = parallel(joblib.delayed(f_img)(i,\"valid\") for i in tqdm.tqdm(test_paths[:]))\n",
    "    pd.concat(results).to_csv(\"눈깜빡임분류_valid.tsv\",index=False,sep='\\t')"
   ]
  },
  {
   "cell_type": "code",
   "execution_count": 16,
   "id": "3af69ab2-3543-4531-80d7-23983db76ec6",
   "metadata": {
    "execution": {
     "iopub.execute_input": "2022-12-16T03:40:05.086157Z",
     "iopub.status.busy": "2022-12-16T03:40:05.086010Z",
     "iopub.status.idle": "2022-12-16T03:40:10.628926Z",
     "shell.execute_reply": "2022-12-16T03:40:10.627121Z",
     "shell.execute_reply.started": "2022-12-16T03:40:05.086140Z"
    },
    "tags": []
   },
   "outputs": [
    {
     "name": "stderr",
     "output_type": "stream",
     "text": [
      "100%|██████████| 2989/2989 [00:04<00:00, 684.30it/s]\n"
     ]
    }
   ],
   "source": [
    "if not os.path.exists(\"안진방향판별_valid.tsv\"):\n",
    "    with joblib.Parallel(n_jobs=-3) as parallel:\n",
    "        results = parallel(joblib.delayed(f_video)(i,\"valid\") for i in tqdm.tqdm(test_paths[:]))\n",
    "    pd.concat(results).to_csv(\"안진방향판별_valid.tsv\",index=False,sep='\\t')"
   ]
  },
  {
   "cell_type": "code",
   "execution_count": 17,
   "id": "dcedee31-a7e1-4ada-b569-e01ca07ee673",
   "metadata": {
    "execution": {
     "iopub.execute_input": "2022-12-16T03:40:10.630517Z",
     "iopub.status.busy": "2022-12-16T03:40:10.630288Z",
     "iopub.status.idle": "2022-12-16T03:40:10.638013Z",
     "shell.execute_reply": "2022-12-16T03:40:10.636604Z",
     "shell.execute_reply.started": "2022-12-16T03:40:10.630490Z"
    },
    "tags": []
   },
   "outputs": [
    {
     "name": "stdout",
     "output_type": "stream",
     "text": [
      "2022-12-16 03:40:10.631850\n"
     ]
    }
   ],
   "source": [
    "print(datetime.datetime.today())"
   ]
  },
  {
   "cell_type": "code",
   "execution_count": null,
   "id": "852ca10a-ba09-4b99-a43c-72ba2c62ad64",
   "metadata": {},
   "outputs": [],
   "source": []
  }
 ],
 "metadata": {
  "kernelspec": {
   "display_name": "Python 3 (ipykernel)",
   "language": "python",
   "name": "python3"
  },
  "language_info": {
   "codemirror_mode": {
    "name": "ipython",
    "version": 3
   },
   "file_extension": ".py",
   "mimetype": "text/x-python",
   "name": "python",
   "nbconvert_exporter": "python",
   "pygments_lexer": "ipython3",
   "version": "3.8.10"
  }
 },
 "nbformat": 4,
 "nbformat_minor": 5
}
