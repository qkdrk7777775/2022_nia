{
 "cells": [
  {
   "cell_type": "markdown",
   "id": "9e0a981e-74bf-47ba-ab51-48b063eec9e0",
   "metadata": {},
   "source": [
    "## 모델 학습"
   ]
  },
  {
   "cell_type": "code",
   "execution_count": 1,
   "id": "9a588f5b-6aa7-4114-83ca-c091bfcdfb1c",
   "metadata": {
    "execution": {
     "iopub.execute_input": "2022-12-18T09:28:37.291646Z",
     "iopub.status.busy": "2022-12-18T09:28:37.291490Z",
     "iopub.status.idle": "2022-12-18T09:28:37.987574Z",
     "shell.execute_reply": "2022-12-18T09:28:37.986501Z",
     "shell.execute_reply.started": "2022-12-18T09:28:37.291626Z"
    },
    "tags": []
   },
   "outputs": [
    {
     "name": "stdout",
     "output_type": "stream",
     "text": [
      "Python implementation: CPython\n",
      "Python version       : 3.8.10\n",
      "IPython version      : 7.34.0\n",
      "\n",
      "pandas  : 1.4.1\n",
      "numpy   : 1.22.3\n",
      "sklearn : 1.0.2\n",
      "lightgbm: 3.3.2\n",
      "joblib  : 1.1.0\n",
      "tqdm    : 4.63.1\n",
      "\n"
     ]
    }
   ],
   "source": [
    "%reload_ext watermark\n",
    "%watermark -v -p pandas,numpy,sklearn,lightgbm,joblib,tqdm"
   ]
  },
  {
   "cell_type": "code",
   "execution_count": 2,
   "id": "87bdd1a2-a94e-4bc5-bcc7-f9b34a4a31e5",
   "metadata": {
    "execution": {
     "iopub.execute_input": "2022-12-18T09:28:37.988610Z",
     "iopub.status.busy": "2022-12-18T09:28:37.988469Z",
     "iopub.status.idle": "2022-12-18T09:28:37.995064Z",
     "shell.execute_reply": "2022-12-18T09:28:37.994279Z",
     "shell.execute_reply.started": "2022-12-18T09:28:37.988592Z"
    },
    "tags": []
   },
   "outputs": [
    {
     "name": "stdout",
     "output_type": "stream",
     "text": [
      "2022-12-18 09:28:37.989957\n"
     ]
    }
   ],
   "source": [
    "import pandas as pd\n",
    "import numpy as np\n",
    "from sklearn.metrics import roc_auc_score\n",
    "from sklearn.model_selection import GridSearchCV\n",
    "import lightgbm as lgb\n",
    "import glob,os,joblib,tqdm,datetime\n",
    "print(datetime.datetime.today())"
   ]
  },
  {
   "cell_type": "code",
   "execution_count": 3,
   "id": "7e7b2ba4-c105-42ae-9500-7d1cf6de671d",
   "metadata": {
    "execution": {
     "iopub.execute_input": "2022-12-18T09:28:37.996157Z",
     "iopub.status.busy": "2022-12-18T09:28:37.995913Z",
     "iopub.status.idle": "2022-12-18T09:28:38.007139Z",
     "shell.execute_reply": "2022-12-18T09:28:38.006207Z",
     "shell.execute_reply.started": "2022-12-18T09:28:37.996138Z"
    },
    "tags": []
   },
   "outputs": [
    {
     "name": "stdout",
     "output_type": "stream",
     "text": [
      "2022-12-18 09:28:38.002965\n"
     ]
    }
   ],
   "source": [
    "def fun(path):\n",
    "    select_cols=['path','LA','LP','Left','RA','RP','Right']\n",
    "    file=glob.glob(f\"{path}/*.tsv\")\n",
    "    if len(file)!=0:\n",
    "        file=file[0]\n",
    "        try:\n",
    "            feature_df=pd.read_csv(file,sep='\\t')\n",
    "            feature=feature_df[['Direction','Gain']].groupby(\n",
    "                ['Direction']).mean().T\n",
    "            feature[list(set(select_cols[1:])-set(feature.columns))]=np.nan\n",
    "            feature['path']=file\n",
    "            return feature[select_cols]\n",
    "        except:\n",
    "            feature=pd.DataFrame([],columns=select_cols)\n",
    "            feature.loc[0,:]=np.nan\n",
    "            return feature\n",
    "    else:\n",
    "        feature=pd.DataFrame([],columns=select_cols)\n",
    "        feature.loc[0,:]=np.nan\n",
    "        return feature\n",
    "    \n",
    "def get_feature(file,model_type):\n",
    "    df=pd.read_csv(file,sep='\\t')\n",
    "    df['diagnosis_group']=file.split('/')[-1].split('.')[0]\n",
    "    df['patient_paths']=[\n",
    "        glob.glob(f\"/home/data/{model_type}/1.원천데이터/**/{i}/\")[0]\n",
    "        for i in df.patient_id.values]\n",
    "    \n",
    "    with joblib.Parallel(n_jobs=-2) as parallel:\n",
    "        df.loc[:,['path','LA','LP','Left','RA','RP','Right']]=\\\n",
    "            pd.concat(\n",
    "                parallel(joblib.delayed(fun)(i) \n",
    "                         for i in tqdm.tqdm(df.patient_paths)),\n",
    "                axis=0, ignore_index=True)\n",
    "    gender=pd.get_dummies(df.sex)\n",
    "    df[gender.columns]=gender\n",
    "    df=df.loc[:,['age','F',\"M\",'diagnosis_group','LA',\n",
    "                 'LP','Left','RA','RP','Right']]\n",
    "    # df[['LA','LP','Left','RA','RP','Right']]=\\\n",
    "    #     df[['LA','LP','Left','RA','RP','Right']].fillna(\n",
    "    #     df[['LA','LP','Left','RA','RP','Right']].mean())\n",
    "    return df\n",
    "print(datetime.datetime.today())"
   ]
  },
  {
   "cell_type": "code",
   "execution_count": 4,
   "id": "4a6c3361-03fb-4e7b-a614-515c5a0fc6b1",
   "metadata": {
    "execution": {
     "iopub.execute_input": "2022-12-18T09:28:38.008498Z",
     "iopub.status.busy": "2022-12-18T09:28:38.008215Z",
     "iopub.status.idle": "2022-12-18T09:29:12.749034Z",
     "shell.execute_reply": "2022-12-18T09:29:12.747993Z",
     "shell.execute_reply.started": "2022-12-18T09:28:38.008482Z"
    },
    "tags": []
   },
   "outputs": [
    {
     "name": "stdout",
     "output_type": "stream",
     "text": [
      "2022-12-18 09:28:38.010077\n"
     ]
    },
    {
     "name": "stderr",
     "output_type": "stream",
     "text": [
      "100%|██████████| 6275/6275 [00:16<00:00, 385.79it/s]\n",
      "100%|██████████| 2495/2495 [00:03<00:00, 804.81it/s]\n",
      "100%|██████████| 6202/6202 [00:08<00:00, 757.45it/s]\n",
      "100%|██████████| 1094/1094 [00:00<00:00, 1485.11it/s]\n",
      "100%|██████████| 451/451 [00:00<00:00, 1109.00it/s]\n",
      "100%|██████████| 1048/1048 [00:01<00:00, 814.55it/s]\n"
     ]
    },
    {
     "name": "stdout",
     "output_type": "stream",
     "text": [
      "2022-12-18 09:29:12.744791\n"
     ]
    }
   ],
   "source": [
    "print(datetime.datetime.today())\n",
    "train=pd.concat([get_feature(file,'train') \n",
    "    for file in glob.glob(\"/home/data/train/2.라벨링데이터/*tsv\")],\n",
    "    axis=0,ignore_index=True)\n",
    "\n",
    "valid=pd.concat([get_feature(file,'valid') \n",
    "    for file in glob.glob(\"/home/data/valid/2.라벨링데이터/*tsv\")],\n",
    "    axis=0,ignore_index=True)\n",
    "print(datetime.datetime.today())"
   ]
  },
  {
   "cell_type": "code",
   "execution_count": 5,
   "id": "7c8043fb-86cf-478d-bfbb-03a72e3fb050",
   "metadata": {
    "execution": {
     "iopub.execute_input": "2022-12-18T09:29:12.750490Z",
     "iopub.status.busy": "2022-12-18T09:29:12.750202Z",
     "iopub.status.idle": "2022-12-18T09:29:12.756438Z",
     "shell.execute_reply": "2022-12-18T09:29:12.755456Z",
     "shell.execute_reply.started": "2022-12-18T09:29:12.750471Z"
    },
    "tags": []
   },
   "outputs": [],
   "source": [
    "# train 자료 기준 평균값\n",
    "mean_df=pd.DataFrame({\"LA\":0.895173,\"LP\":0.842480,\n",
    "              \"Left\":0.885241,\"RA\":0.909961,\n",
    "              \"RP\":0.862435,\"Right\":[0.942012]}).loc[0]"
   ]
  },
  {
   "cell_type": "code",
   "execution_count": 6,
   "id": "d8fabd69-6382-4b63-8975-30e871c70b24",
   "metadata": {
    "execution": {
     "iopub.execute_input": "2022-12-18T09:29:12.757506Z",
     "iopub.status.busy": "2022-12-18T09:29:12.757379Z",
     "iopub.status.idle": "2022-12-18T09:29:12.788331Z",
     "shell.execute_reply": "2022-12-18T09:29:12.787110Z",
     "shell.execute_reply.started": "2022-12-18T09:29:12.757491Z"
    },
    "tags": []
   },
   "outputs": [],
   "source": [
    "train.loc[:,mean_df.index]=train.loc[:,mean_df.index].fillna(mean_df)\n",
    "valid.loc[:,mean_df.index]=valid.loc[:,mean_df.index].fillna(mean_df)"
   ]
  },
  {
   "cell_type": "code",
   "execution_count": 7,
   "id": "562a21cc-35b3-4f5a-a00c-6bd29e0a60d6",
   "metadata": {
    "execution": {
     "iopub.execute_input": "2022-12-18T09:29:12.791048Z",
     "iopub.status.busy": "2022-12-18T09:29:12.790766Z",
     "iopub.status.idle": "2022-12-18T09:29:12.799614Z",
     "shell.execute_reply": "2022-12-18T09:29:12.798587Z",
     "shell.execute_reply.started": "2022-12-18T09:29:12.791031Z"
    },
    "tags": []
   },
   "outputs": [],
   "source": [
    "tr_x=train.drop('diagnosis_group',axis=1)\n",
    "tr_y=(train.diagnosis_group=='Normal').astype('u1')\n",
    "val_x=valid.drop('diagnosis_group',axis=1)\n",
    "val_y=(valid.diagnosis_group=='Normal').astype('u1')"
   ]
  },
  {
   "cell_type": "code",
   "execution_count": 8,
   "id": "e57e51ff-d8a2-4971-bc6e-f331ba9f08f7",
   "metadata": {
    "execution": {
     "iopub.execute_input": "2022-12-18T09:29:12.800466Z",
     "iopub.status.busy": "2022-12-18T09:29:12.800341Z",
     "iopub.status.idle": "2022-12-18T09:29:59.383537Z",
     "shell.execute_reply": "2022-12-18T09:29:59.382960Z",
     "shell.execute_reply.started": "2022-12-18T09:29:12.800451Z"
    },
    "tags": []
   },
   "outputs": [
    {
     "name": "stdout",
     "output_type": "stream",
     "text": [
      "2022-12-18 09:29:12.803437\n",
      "Fitting 3 folds for each of 540 candidates, totalling 1620 fits\n"
     ]
    },
    {
     "name": "stderr",
     "output_type": "stream",
     "text": [
      "/usr/local/lib/python3.8/dist-packages/lightgbm/sklearn.py:726: UserWarning: 'early_stopping_rounds' argument is deprecated and will be removed in a future release of LightGBM. Pass 'early_stopping()' callback via 'callbacks' argument instead.\n",
      "  _log_warning(\"'early_stopping_rounds' argument is deprecated and will be removed in a future release of LightGBM. \"\n",
      "/usr/local/lib/python3.8/dist-packages/lightgbm/sklearn.py:736: UserWarning: 'verbose' argument is deprecated and will be removed in a future release of LightGBM. Pass 'log_evaluation()' callback via 'callbacks' argument instead.\n",
      "  _log_warning(\"'verbose' argument is deprecated and will be removed in a future release of LightGBM. \"\n"
     ]
    },
    {
     "name": "stdout",
     "output_type": "stream",
     "text": [
      "2022-12-18 09:29:59.380871\n"
     ]
    }
   ],
   "source": [
    "print(datetime.datetime.today())\n",
    "params={\"num_leaves\":[20,40,60,80,100],\n",
    "    \"min_child_samples\":[5,10,15],\n",
    "    \"max_depth\":[-1,5,10,2],\n",
    "    \"learning_rate\":[0.05,0.1,0.2],\n",
    "    \"reg_alpha\":[0,0.01,0.03],\n",
    "   }\n",
    "class_weight={0:.4,1:.6}\n",
    "\n",
    "lgbm=lgb.LGBMClassifier(\n",
    "    n_estimators=400,random_state=42,class_weight=class_weight)\n",
    "clf=GridSearchCV(lgbm,params,scoring=\"accuracy\",\n",
    "                 verbose=1,n_jobs=-1,cv=3)\n",
    "clf.fit(X=tr_x,y=tr_y)\n",
    "lgbm.set_params(**clf.best_params_)\n",
    "lgbm.fit(tr_x, tr_y, early_stopping_rounds=300,\n",
    "         verbose=0,eval_set=[(val_x,val_y)])\n",
    "joblib.dump(lgbm,'전정질환군분류.pkl')\n",
    "print(datetime.datetime.today())"
   ]
  },
  {
   "cell_type": "markdown",
   "id": "701fee26-89d9-431b-a013-121c83ed13e0",
   "metadata": {},
   "source": [
    "## 모델 검증"
   ]
  },
  {
   "cell_type": "code",
   "execution_count": 9,
   "id": "02218612-72ba-45de-8265-ec6e456749c7",
   "metadata": {
    "execution": {
     "iopub.execute_input": "2022-12-18T09:29:59.384823Z",
     "iopub.status.busy": "2022-12-18T09:29:59.384589Z",
     "iopub.status.idle": "2022-12-18T09:29:59.389046Z",
     "shell.execute_reply": "2022-12-18T09:29:59.388571Z",
     "shell.execute_reply.started": "2022-12-18T09:29:59.384799Z"
    },
    "tags": []
   },
   "outputs": [
    {
     "name": "stdout",
     "output_type": "stream",
     "text": [
      "2022-12-18 09:29:59.386613\n"
     ]
    }
   ],
   "source": [
    "import pandas as pd\n",
    "import numpy as np\n",
    "from sklearn.metrics import roc_auc_score\n",
    "from sklearn.model_selection import GridSearchCV\n",
    "import lightgbm as lgb\n",
    "import glob,os,joblib,tqdm,datetime\n",
    "print(datetime.datetime.today())"
   ]
  },
  {
   "cell_type": "code",
   "execution_count": 10,
   "id": "a8b44053-dcde-433f-a657-04036a5ad309",
   "metadata": {
    "execution": {
     "iopub.execute_input": "2022-12-18T09:29:59.390066Z",
     "iopub.status.busy": "2022-12-18T09:29:59.389785Z",
     "iopub.status.idle": "2022-12-18T09:29:59.399048Z",
     "shell.execute_reply": "2022-12-18T09:29:59.398557Z",
     "shell.execute_reply.started": "2022-12-18T09:29:59.390048Z"
    },
    "tags": []
   },
   "outputs": [
    {
     "name": "stdout",
     "output_type": "stream",
     "text": [
      "2022-12-18 09:29:59.396293\n",
      "2022-12-18 09:29:59.396873\n"
     ]
    }
   ],
   "source": [
    "print(datetime.datetime.today())\n",
    "def fun(path):\n",
    "    select_cols=['path','LA','LP','Left','RA','RP','Right']\n",
    "    file=glob.glob(f\"{path}/*.tsv\")\n",
    "    if len(file)!=0:\n",
    "        file=file[0]\n",
    "        try:\n",
    "            feature_df=pd.read_csv(file,sep='\\t')\n",
    "            feature=feature_df[['Direction','Gain']].groupby(\n",
    "                ['Direction']).mean().T\n",
    "            feature[list(set(select_cols[1:])-set(feature.columns))]=np.nan\n",
    "            feature['path']=file\n",
    "            return feature[select_cols]\n",
    "        except:\n",
    "            feature=pd.DataFrame([],columns=select_cols)\n",
    "            feature.loc[0,:]=np.nan\n",
    "            return feature\n",
    "    else:\n",
    "        feature=pd.DataFrame([],columns=select_cols)\n",
    "        feature.loc[0,:]=np.nan\n",
    "        return feature\n",
    "    \n",
    "def get_feature(file,model_type):\n",
    "    df=pd.read_csv(file,sep='\\t')\n",
    "    df['diagnosis_group']=file.split('/')[-1].split('.')[0]\n",
    "    df['patient_paths']=[\n",
    "        glob.glob(f\"/home/data/{model_type}/1.원천데이터/**/{i}/\")[0]\n",
    "        for i in df.patient_id.values]\n",
    "    \n",
    "    with joblib.Parallel(n_jobs=-2) as parallel:\n",
    "        df.loc[:,['path','LA','LP','Left','RA','RP','Right']]=\\\n",
    "            pd.concat(\n",
    "                parallel(joblib.delayed(fun)(i) \n",
    "                         for i in tqdm.tqdm(df.patient_paths)),\n",
    "                axis=0, ignore_index=True)\n",
    "    gender=pd.get_dummies(df.sex)\n",
    "    df[gender.columns]=gender\n",
    "    df=df.loc[:,['patient_id','age','F',\"M\",'diagnosis_group','LA',\n",
    "                 'LP','Left','RA','RP','Right']]\n",
    "    # df[['LA','LP','Left','RA','RP','Right']]=\\\n",
    "    #     df[['LA','LP','Left','RA','RP','Right']].fillna(\n",
    "    #     df[['LA','LP','Left','RA','RP','Right']].mean())\n",
    "    return df\n",
    "print(datetime.datetime.today())"
   ]
  },
  {
   "cell_type": "code",
   "execution_count": 11,
   "id": "7a540349-8b9a-4520-b8e5-63c31fc7e86a",
   "metadata": {
    "execution": {
     "iopub.execute_input": "2022-12-18T09:29:59.399954Z",
     "iopub.status.busy": "2022-12-18T09:29:59.399751Z",
     "iopub.status.idle": "2022-12-18T09:29:59.404040Z",
     "shell.execute_reply": "2022-12-18T09:29:59.403555Z",
     "shell.execute_reply.started": "2022-12-18T09:29:59.399937Z"
    },
    "tags": []
   },
   "outputs": [],
   "source": [
    "mean_df=pd.DataFrame({\"LA\":0.895173,\"LP\":0.842480,\n",
    "              \"Left\":0.885241,\"RA\":0.909961,\n",
    "              \"RP\":0.862435,\"Right\":[0.942012]}).loc[0]"
   ]
  },
  {
   "cell_type": "code",
   "execution_count": 12,
   "id": "160621b2-60b5-4fc5-8928-4f590cf3a8a9",
   "metadata": {
    "execution": {
     "iopub.execute_input": "2022-12-18T09:29:59.404898Z",
     "iopub.status.busy": "2022-12-18T09:29:59.404717Z",
     "iopub.status.idle": "2022-12-18T09:30:04.826706Z",
     "shell.execute_reply": "2022-12-18T09:30:04.825447Z",
     "shell.execute_reply.started": "2022-12-18T09:29:59.404881Z"
    },
    "tags": []
   },
   "outputs": [
    {
     "name": "stderr",
     "output_type": "stream",
     "text": [
      "100%|██████████| 1102/1102 [00:01<00:00, 765.36it/s]\n",
      "100%|██████████| 458/458 [00:00<00:00, 929.01it/s]\n",
      "100%|██████████| 1053/1053 [00:01<00:00, 688.62it/s]\n"
     ]
    }
   ],
   "source": [
    "test=pd.concat([get_feature(file,'test') \n",
    "    for file in glob.glob(\"/home/data/test/2.라벨링데이터/*tsv\")],\n",
    "    axis=0,ignore_index=True)\n",
    "test.loc[:,mean_df.index]=test.loc[:,mean_df.index].fillna(mean_df)\n",
    "te_x=test.drop(['patient_id','diagnosis_group'],axis=1)\n",
    "te_y=(test.diagnosis_group=='Normal').astype('u1')"
   ]
  },
  {
   "cell_type": "code",
   "execution_count": 13,
   "id": "117c8459-4c7c-4993-bb36-e7fde23a2643",
   "metadata": {
    "execution": {
     "iopub.execute_input": "2022-12-18T09:30:04.828220Z",
     "iopub.status.busy": "2022-12-18T09:30:04.827903Z",
     "iopub.status.idle": "2022-12-18T09:30:04.862019Z",
     "shell.execute_reply": "2022-12-18T09:30:04.861237Z",
     "shell.execute_reply.started": "2022-12-18T09:30:04.828201Z"
    },
    "tags": []
   },
   "outputs": [
    {
     "name": "stdout",
     "output_type": "stream",
     "text": [
      "0.6477889789855602\n",
      "2022-12-18 09:30:04.859414\n"
     ]
    }
   ],
   "source": [
    "lgbm=joblib.load('전정질환군분류.pkl')\n",
    "pred_values=lgbm.predict_proba(te_x)\n",
    "test['predict_values']=np.array(['abnormal','normal'])[\n",
    "    np.argmax(pred_values,axis=1)]\n",
    "print(roc_auc_score(te_y,pred_values[:,1]))\n",
    "print(datetime.datetime.today())"
   ]
  },
  {
   "cell_type": "code",
   "execution_count": 14,
   "id": "080ab94f-a218-4b88-8292-d8a973f149c7",
   "metadata": {
    "execution": {
     "iopub.execute_input": "2022-12-18T09:30:04.863424Z",
     "iopub.status.busy": "2022-12-18T09:30:04.863032Z",
     "iopub.status.idle": "2022-12-18T09:30:04.874904Z",
     "shell.execute_reply": "2022-12-18T09:30:04.873269Z",
     "shell.execute_reply.started": "2022-12-18T09:30:04.863403Z"
    },
    "tags": []
   },
   "outputs": [],
   "source": [
    "test[['patient_id','diagnosis_group','predict_values']].to_csv(\n",
    "    \"전정질환군분류_결과값.tsv\",index=False,sep='\\t')"
   ]
  },
  {
   "cell_type": "code",
   "execution_count": 15,
   "id": "ee48e014-7fd7-4957-847e-c89588018ed2",
   "metadata": {
    "execution": {
     "iopub.execute_input": "2022-12-18T09:30:04.876007Z",
     "iopub.status.busy": "2022-12-18T09:30:04.875877Z",
     "iopub.status.idle": "2022-12-18T09:30:04.893515Z",
     "shell.execute_reply": "2022-12-18T09:30:04.892402Z",
     "shell.execute_reply.started": "2022-12-18T09:30:04.875990Z"
    },
    "tags": []
   },
   "outputs": [],
   "source": [
    "test[[\"abnormal_prob\",\"normal_prob\"]]=pred_values\n",
    "test['label']=(test.diagnosis_group==\"Normal\").astype('u1')\n",
    "test[['patient_id','label','abnormal_prob','normal_prob']].to_csv(\n",
    "    \"전정질환군분류_성능평가계산사용값.tsv\",index=False,sep='\\t')"
   ]
  },
  {
   "cell_type": "code",
   "execution_count": 16,
   "id": "3bea2070-f6f5-4777-ba50-f52d6554b960",
   "metadata": {
    "execution": {
     "iopub.execute_input": "2022-12-18T09:30:04.894458Z",
     "iopub.status.busy": "2022-12-18T09:30:04.894320Z",
     "iopub.status.idle": "2022-12-18T09:30:04.902667Z",
     "shell.execute_reply": "2022-12-18T09:30:04.901548Z",
     "shell.execute_reply.started": "2022-12-18T09:30:04.894442Z"
    },
    "tags": []
   },
   "outputs": [],
   "source": [
    "pd.DataFrame({\"AUC\":[roc_auc_score(te_y,pred_values[:,1])]}).to_csv(\n",
    "    \"전정질환군분류_AUC.tsv\",index=False, sep='\\t')"
   ]
  },
  {
   "cell_type": "code",
   "execution_count": 17,
   "id": "a636f9c3-cd1d-4657-8f0d-1cb92c4c5615",
   "metadata": {
    "execution": {
     "iopub.execute_input": "2022-12-18T09:30:04.903938Z",
     "iopub.status.busy": "2022-12-18T09:30:04.903810Z",
     "iopub.status.idle": "2022-12-18T09:30:04.910217Z",
     "shell.execute_reply": "2022-12-18T09:30:04.909078Z",
     "shell.execute_reply.started": "2022-12-18T09:30:04.903922Z"
    },
    "tags": []
   },
   "outputs": [
    {
     "name": "stdout",
     "output_type": "stream",
     "text": [
      "2022-12-18 09:30:04.904818\n"
     ]
    }
   ],
   "source": [
    "print(datetime.datetime.today())"
   ]
  }
 ],
 "metadata": {
  "kernelspec": {
   "display_name": "Python 3 (ipykernel)",
   "language": "python",
   "name": "python3"
  },
  "language_info": {
   "codemirror_mode": {
    "name": "ipython",
    "version": 3
   },
   "file_extension": ".py",
   "mimetype": "text/x-python",
   "name": "python",
   "nbconvert_exporter": "python",
   "pygments_lexer": "ipython3",
   "version": "3.8.10"
  }
 },
 "nbformat": 4,
 "nbformat_minor": 5
}
