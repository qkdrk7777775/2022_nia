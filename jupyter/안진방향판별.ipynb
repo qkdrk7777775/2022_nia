{
 "cells": [
  {
   "cell_type": "code",
   "execution_count": 1,
   "id": "007d5716-4b12-40f4-9989-06f96bcd9f5d",
   "metadata": {
    "execution": {
     "iopub.execute_input": "2022-12-17T20:48:52.409020Z",
     "iopub.status.busy": "2022-12-17T20:48:52.408706Z",
     "iopub.status.idle": "2022-12-17T20:48:53.772102Z",
     "shell.execute_reply": "2022-12-17T20:48:53.771581Z",
     "shell.execute_reply.started": "2022-12-17T20:48:52.408990Z"
    }
   },
   "outputs": [
    {
     "name": "stdout",
     "output_type": "stream",
     "text": [
      "Python implementation: CPython\n",
      "Python version       : 3.8.10\n",
      "IPython version      : 7.34.0\n",
      "\n",
      "tqdm      : 4.63.1\n",
      "re        : 2.2.1\n",
      "joblib    : 1.1.0\n",
      "shutil    : unknown\n",
      "pandas    : 1.4.1\n",
      "numpy     : 1.22.3\n",
      "cv2       : 4.6.0\n",
      "tensorflow: 2.8.0\n",
      "matplotlib: 3.5.1\n",
      "sklearn   : 1.0.2\n",
      "\n"
     ]
    }
   ],
   "source": [
    "%reload_ext watermark\n",
    "%watermark -v -p tqdm,re,joblib,shutil,pandas,numpy,cv2,tensorflow,numpy,matplotlib,sklearn"
   ]
  },
  {
   "cell_type": "code",
   "execution_count": 2,
   "id": "5749da74-4d52-4469-954b-9e68b35e5914",
   "metadata": {
    "execution": {
     "iopub.execute_input": "2022-12-17T20:48:53.776732Z",
     "iopub.status.busy": "2022-12-17T20:48:53.776644Z",
     "iopub.status.idle": "2022-12-17T20:48:53.779004Z",
     "shell.execute_reply": "2022-12-17T20:48:53.778638Z",
     "shell.execute_reply.started": "2022-12-17T20:48:53.776721Z"
    },
    "tags": []
   },
   "outputs": [],
   "source": [
    "import pandas as pd\n",
    "import numpy as np\n",
    "import cv2,datetime\n",
    "import tensorflow as tf"
   ]
  },
  {
   "cell_type": "code",
   "execution_count": 3,
   "id": "34c1c9d8-0442-4d4b-b73c-d3b842c210b1",
   "metadata": {
    "execution": {
     "iopub.execute_input": "2022-12-17T20:48:54.926848Z",
     "iopub.status.busy": "2022-12-17T20:48:54.926531Z",
     "iopub.status.idle": "2022-12-17T20:48:56.135086Z",
     "shell.execute_reply": "2022-12-17T20:48:56.134634Z",
     "shell.execute_reply.started": "2022-12-17T20:48:54.926818Z"
    },
    "tags": []
   },
   "outputs": [],
   "source": [
    "train=pd.read_csv(\"안진방향판별_train.tsv\",sep='\\t')\n",
    "valid=pd.read_csv(\"안진방향판별_valid.tsv\",sep='\\t')"
   ]
  },
  {
   "cell_type": "code",
   "execution_count": 4,
   "id": "79017d62-d918-44ce-8dd2-3308f59e6e99",
   "metadata": {
    "execution": {
     "iopub.execute_input": "2022-12-17T20:48:56.142364Z",
     "iopub.status.busy": "2022-12-17T20:48:56.142270Z",
     "iopub.status.idle": "2022-12-17T20:48:56.152124Z",
     "shell.execute_reply": "2022-12-17T20:48:56.151566Z",
     "shell.execute_reply.started": "2022-12-17T20:48:56.142352Z"
    },
    "tags": []
   },
   "outputs": [],
   "source": [
    "def my_generator(df):\n",
    "    # 모두 같은 프레임은 제외하고 불러오게 설정\n",
    "    def avi_to_img(file, video_len=32):\n",
    "        data=list()\n",
    "        cap = cv2.VideoCapture(file)\n",
    "        cnt=0\n",
    "        while(cap.isOpened()):\n",
    "            ret, frame = cap.read()\n",
    "            if ret:\n",
    "                if (cnt!=0):\n",
    "                    before=data[-1][0]\n",
    "                else:\n",
    "                    before=np.zeros((240,320))\n",
    "\n",
    "                frame=cv2.resize(frame,(320,240))\n",
    "                frame=cv2.cvtColor(frame,cv2.COLOR_RGB2GRAY)\n",
    "                frame=np.expand_dims(frame/255, axis=0)\n",
    "                if (before!=frame).any():\n",
    "                    data.append(frame)\n",
    "                    cnt+=1\n",
    "                cv2.waitKey(1)\n",
    "            else:\n",
    "                break\n",
    "            if cnt==video_len:\n",
    "                break\n",
    "        cap.release()\n",
    "        cv2.destroyAllWindows()\n",
    "        if len(data)!=0:\n",
    "            out = np.concatenate(data).astype('float')\n",
    "            # # 이미지별 차이를 리턴\n",
    "            out=np.diff(out,axis=0)[:].sum(axis=0)\n",
    "            # # min max scaling \n",
    "            out=(((out-out.min())/(out.max()-out.min()))*255\n",
    "                ).astype('u1')\n",
    "            out=cv2.cvtColor(out,cv2.COLOR_GRAY2RGB)\n",
    "            return out.copy()\n",
    "        else:\n",
    "            return np.zeros((240,320,3))\n",
    "\n",
    "    def f():\n",
    "        for label,video_file in df.sample(frac=1,random_state=42).values:\n",
    "            video = avi_to_img(video_file)\n",
    "            y = np.zeros((3))\n",
    "            if label==\"left\":\n",
    "                y[0]=1\n",
    "            elif label==\"right\":\n",
    "                y[2]=1\n",
    "            else:\n",
    "                y[1]=1\n",
    "            yield video, y\n",
    "    return f"
   ]
  },
  {
   "cell_type": "code",
   "execution_count": 5,
   "id": "be6391fb-0905-46e6-a357-d0644fb0dec1",
   "metadata": {
    "execution": {
     "iopub.execute_input": "2022-12-17T20:48:56.661702Z",
     "iopub.status.busy": "2022-12-17T20:48:56.661424Z",
     "iopub.status.idle": "2022-12-17T20:48:57.544580Z",
     "shell.execute_reply": "2022-12-17T20:48:57.544240Z",
     "shell.execute_reply.started": "2022-12-17T20:48:56.661668Z"
    },
    "tags": []
   },
   "outputs": [
    {
     "name": "stderr",
     "output_type": "stream",
     "text": [
      "2022-12-17 20:48:56.719759: I tensorflow/stream_executor/cuda/cuda_gpu_executor.cc:936] successful NUMA node read from SysFS had negative value (-1), but there must be at least one NUMA node, so returning NUMA node zero\n",
      "2022-12-17 20:48:56.723266: I tensorflow/stream_executor/cuda/cuda_gpu_executor.cc:936] successful NUMA node read from SysFS had negative value (-1), but there must be at least one NUMA node, so returning NUMA node zero\n",
      "2022-12-17 20:48:56.723389: I tensorflow/stream_executor/cuda/cuda_gpu_executor.cc:936] successful NUMA node read from SysFS had negative value (-1), but there must be at least one NUMA node, so returning NUMA node zero\n",
      "2022-12-17 20:48:56.723930: I tensorflow/core/platform/cpu_feature_guard.cc:151] This TensorFlow binary is optimized with oneAPI Deep Neural Network Library (oneDNN) to use the following CPU instructions in performance-critical operations:  AVX2 FMA\n",
      "To enable them in other operations, rebuild TensorFlow with the appropriate compiler flags.\n",
      "2022-12-17 20:48:56.724583: I tensorflow/stream_executor/cuda/cuda_gpu_executor.cc:936] successful NUMA node read from SysFS had negative value (-1), but there must be at least one NUMA node, so returning NUMA node zero\n",
      "2022-12-17 20:48:56.724703: I tensorflow/stream_executor/cuda/cuda_gpu_executor.cc:936] successful NUMA node read from SysFS had negative value (-1), but there must be at least one NUMA node, so returning NUMA node zero\n",
      "2022-12-17 20:48:56.724806: I tensorflow/stream_executor/cuda/cuda_gpu_executor.cc:936] successful NUMA node read from SysFS had negative value (-1), but there must be at least one NUMA node, so returning NUMA node zero\n",
      "2022-12-17 20:48:57.162490: I tensorflow/stream_executor/cuda/cuda_gpu_executor.cc:936] successful NUMA node read from SysFS had negative value (-1), but there must be at least one NUMA node, so returning NUMA node zero\n",
      "2022-12-17 20:48:57.162641: I tensorflow/stream_executor/cuda/cuda_gpu_executor.cc:936] successful NUMA node read from SysFS had negative value (-1), but there must be at least one NUMA node, so returning NUMA node zero\n",
      "2022-12-17 20:48:57.162753: I tensorflow/stream_executor/cuda/cuda_gpu_executor.cc:936] successful NUMA node read from SysFS had negative value (-1), but there must be at least one NUMA node, so returning NUMA node zero\n",
      "2022-12-17 20:48:57.162845: I tensorflow/core/common_runtime/gpu/gpu_device.cc:1525] Created device /job:localhost/replica:0/task:0/device:GPU:0 with 46451 MB memory:  -> device: 0, name: NVIDIA RTX A6000, pci bus id: 0000:09:00.0, compute capability: 8.6\n"
     ]
    }
   ],
   "source": [
    "tr_dataset=tf.data.Dataset.from_generator(\n",
    "    my_generator(train[:].reset_index(drop=True)),\n",
    "    output_shapes=((240,320,3), 3),\n",
    "    output_types=('float32','float32'))\n",
    "tr_gen =tr_dataset.batch(640).prefetch(tf.data.experimental.AUTOTUNE)\n",
    "\n",
    "val_dataset=tf.data.Dataset.from_generator(\n",
    "    my_generator(valid),\n",
    "    output_shapes=((240,320,3), 3),\n",
    "    output_types=('float32','float32'))\n",
    "val_gen =val_dataset.batch(640).prefetch(tf.data.experimental.AUTOTUNE)"
   ]
  },
  {
   "cell_type": "code",
   "execution_count": 6,
   "id": "d8019e5f-3426-4693-8257-1231d5a0dfab",
   "metadata": {
    "execution": {
     "iopub.execute_input": "2022-12-17T20:48:57.550937Z",
     "iopub.status.busy": "2022-12-17T20:48:57.550787Z",
     "iopub.status.idle": "2022-12-17T20:48:57.556845Z",
     "shell.execute_reply": "2022-12-17T20:48:57.556520Z",
     "shell.execute_reply.started": "2022-12-17T20:48:57.550924Z"
    },
    "tags": []
   },
   "outputs": [],
   "source": [
    "def my_cnn_model():\n",
    "    tf.keras.backend.clear_session()\n",
    "    tf.random.set_seed(42)\n",
    "\n",
    "    cnn_model = tf.keras.Sequential()\n",
    "    cnn_model.add(tf.keras.layers.Input((240,320,3)))\n",
    "    cnn_model.add(tf.keras.layers.Rescaling(1./255))\n",
    "    # cnn_model.add(tf.keras.layers.Resizing(256,320,name='resize'))\n",
    "\n",
    "    cnn_model.add(tf.keras.layers.Conv2D(32, (3, 3), activation='relu'))\n",
    "    cnn_model.add(tf.keras.layers.BatchNormalization())\n",
    "    cnn_model.add(tf.keras.layers.MaxPooling2D(pool_size=(2, 2)))\n",
    "    cnn_model.add(tf.keras.layers.Dropout(0.25))\n",
    "\n",
    "    cnn_model.add(tf.keras.layers.Conv2D(64, (3, 3), activation='relu'))\n",
    "    cnn_model.add(tf.keras.layers.BatchNormalization())\n",
    "    cnn_model.add(tf.keras.layers.MaxPooling2D(pool_size=(2, 2)))\n",
    "    cnn_model.add(tf.keras.layers.Dropout(0.25))\n",
    "\n",
    "    cnn_model.add(tf.keras.layers.Conv2D(128, (3, 3), activation='relu'))\n",
    "    cnn_model.add(tf.keras.layers.BatchNormalization())\n",
    "    cnn_model.add(tf.keras.layers.MaxPooling2D(pool_size=(2, 2)))\n",
    "    cnn_model.add(tf.keras.layers.Dropout(0.25))\n",
    "\n",
    "    cnn_model.add(tf.keras.layers.Flatten())\n",
    "    cnn_model.add(tf.keras.layers.Dense(256, activation='relu'))\n",
    "    cnn_model.add(tf.keras.layers.BatchNormalization())\n",
    "    cnn_model.add(tf.keras.layers.Dropout(0.2))\n",
    "    cnn_model.add(tf.keras.layers.Dense(3, activation='softmax'))\n",
    "    return cnn_model"
   ]
  },
  {
   "cell_type": "code",
   "execution_count": 8,
   "id": "0bdcca51-b23d-46ab-98ad-68231e69e89f",
   "metadata": {
    "execution": {
     "iopub.execute_input": "2022-12-16T04:47:40.378914Z",
     "iopub.status.busy": "2022-12-16T04:47:40.378662Z",
     "iopub.status.idle": "2022-12-16T22:20:50.835052Z",
     "shell.execute_reply": "2022-12-16T22:20:50.834354Z",
     "shell.execute_reply.started": "2022-12-16T04:47:40.378882Z"
    }
   },
   "outputs": [
    {
     "name": "stdout",
     "output_type": "stream",
     "text": [
      "2022-12-16 04:47:40.381865\n",
      "Epoch 1/3\n"
     ]
    },
    {
     "name": "stderr",
     "output_type": "stream",
     "text": [
      "2022-12-16 04:47:55.988209: W tensorflow/core/kernels/gpu_utils.cc:50] Failed to allocate memory for convolution redzone checking; skipping this check. This is benign and only means that we won't check cudnn for out-of-bounds reads and writes. This message will only be printed once.\n",
      "2022-12-16 04:47:56.570946: I tensorflow/stream_executor/cuda/cuda_dnn.cc:368] Loaded cuDNN version 8200\n",
      "2022-12-16 04:47:59.396664: I tensorflow/stream_executor/cuda/cuda_blas.cc:1786] TensorFloat-32 will be used for the matrix multiplication. This will only be logged once.\n"
     ]
    },
    {
     "name": "stdout",
     "output_type": "stream",
     "text": [
      "     16/Unknown - 243s 15s/step - loss: 2.8497 - accuracy: 0.3500"
     ]
    },
    {
     "name": "stderr",
     "output_type": "stream",
     "text": [
      "/tmp/ipykernel_819/1530022409.py:33: RuntimeWarning: invalid value encountered in true_divide\n",
      "  out=(((out-out.min())/(out.max()-out.min()))*255\n"
     ]
    },
    {
     "name": "stdout",
     "output_type": "stream",
     "text": [
      "1413/1413 [==============================] - 23038s 16s/step - loss: 1.0836 - accuracy: 0.4303 - val_loss: 1.1151 - val_accuracy: 0.4166\n",
      "Epoch 2/3\n",
      "1413/1413 [==============================] - 20247s 14s/step - loss: 0.9312 - accuracy: 0.5401 - val_loss: 0.9131 - val_accuracy: 0.5582\n",
      "Epoch 3/3\n",
      "1413/1413 [==============================] - 19905s 14s/step - loss: 0.7524 - accuracy: 0.6482 - val_loss: 0.7305 - val_accuracy: 0.6639\n",
      "2022-12-16 22:20:50.832582\n"
     ]
    }
   ],
   "source": [
    "print(datetime.datetime.today())\n",
    "tf.keras.backend.clear_session()\n",
    "tf.random.set_seed(42)\n",
    "model=my_cnn_model()\n",
    "model.compile(\n",
    "    optimizer=tf.keras.optimizers.Adam(\n",
    "        learning_rate=.01),\n",
    "    loss='categorical_crossentropy', \n",
    "    metrics=['accuracy'],\n",
    ")\n",
    "model.fit(tr_gen, epochs=3, validation_data=val_gen,\n",
    "      verbose=1)\n",
    "print(datetime.datetime.today())"
   ]
  },
  {
   "cell_type": "code",
   "execution_count": 9,
   "id": "0f18acb6-0e63-4c44-be57-32233557cd11",
   "metadata": {
    "execution": {
     "iopub.execute_input": "2022-12-16T22:20:50.878563Z",
     "iopub.status.busy": "2022-12-16T22:20:50.878447Z",
     "iopub.status.idle": "2022-12-16T22:20:51.276755Z",
     "shell.execute_reply": "2022-12-16T22:20:51.276304Z",
     "shell.execute_reply.started": "2022-12-16T22:20:50.878550Z"
    },
    "tags": []
   },
   "outputs": [],
   "source": [
    "model.save(\"안진방향판별_v0_1.h5\")"
   ]
  },
  {
   "cell_type": "markdown",
   "id": "d1628e7b-4fbb-4bf5-9146-06df12656117",
   "metadata": {},
   "source": [
    "## 모델 검증"
   ]
  },
  {
   "cell_type": "code",
   "execution_count": 1,
   "id": "515cda6c-8822-4f43-af6c-a0109b38bff6",
   "metadata": {
    "execution": {
     "iopub.execute_input": "2022-12-18T11:17:11.007575Z",
     "iopub.status.busy": "2022-12-18T11:17:11.006860Z",
     "iopub.status.idle": "2022-12-18T11:17:12.903497Z",
     "shell.execute_reply": "2022-12-18T11:17:12.902977Z",
     "shell.execute_reply.started": "2022-12-18T11:17:11.007506Z"
    },
    "tags": []
   },
   "outputs": [
    {
     "name": "stdout",
     "output_type": "stream",
     "text": [
      "2022-12-18 11:17:12.901218\n"
     ]
    }
   ],
   "source": [
    "import tensorflow as tf\n",
    "import pandas as pd\n",
    "import numpy as np\n",
    "import cv2,datetime\n",
    "from sklearn.metrics import roc_auc_score\n",
    "print(datetime.datetime.today())"
   ]
  },
  {
   "cell_type": "code",
   "execution_count": 2,
   "id": "f1951410-5713-40e4-bc7f-f700e01e547d",
   "metadata": {
    "execution": {
     "iopub.execute_input": "2022-12-18T11:17:12.910041Z",
     "iopub.status.busy": "2022-12-18T11:17:12.909481Z",
     "iopub.status.idle": "2022-12-18T11:17:17.797290Z",
     "shell.execute_reply": "2022-12-18T11:17:17.796165Z",
     "shell.execute_reply.started": "2022-12-18T11:17:12.910025Z"
    },
    "tags": []
   },
   "outputs": [
    {
     "name": "stdout",
     "output_type": "stream",
     "text": [
      "2022-12-18 11:17:12.910961\n"
     ]
    },
    {
     "name": "stderr",
     "output_type": "stream",
     "text": [
      "2022-12-18 11:17:14.255248: I tensorflow/core/platform/cpu_feature_guard.cc:151] This TensorFlow binary is optimized with oneAPI Deep Neural Network Library (oneDNN) to use the following CPU instructions in performance-critical operations:  AVX2 AVX512F FMA\n",
      "To enable them in other operations, rebuild TensorFlow with the appropriate compiler flags.\n",
      "2022-12-18 11:17:14.798988: I tensorflow/core/common_runtime/gpu/gpu_device.cc:1525] Created device /job:localhost/replica:0/task:0/device:GPU:0 with 46723 MB memory:  -> device: 0, name: NVIDIA RTX A6000, pci bus id: 0000:3b:00.0, compute capability: 8.6\n"
     ]
    },
    {
     "name": "stdout",
     "output_type": "stream",
     "text": [
      "2022-12-18 11:17:17.793529\n"
     ]
    }
   ],
   "source": [
    "print(datetime.datetime.today())\n",
    "model=tf.keras.models.load_model(\"안진방향판별_v0_1.h5\")\n",
    "print(datetime.datetime.today())"
   ]
  },
  {
   "cell_type": "code",
   "execution_count": 3,
   "id": "79b3c05e-9c9d-4156-a150-99882f36e8d2",
   "metadata": {
    "execution": {
     "iopub.execute_input": "2022-12-18T11:17:19.706590Z",
     "iopub.status.busy": "2022-12-18T11:17:19.706026Z",
     "iopub.status.idle": "2022-12-18T11:17:19.730055Z",
     "shell.execute_reply": "2022-12-18T11:17:19.728932Z",
     "shell.execute_reply.started": "2022-12-18T11:17:19.706523Z"
    },
    "tags": []
   },
   "outputs": [],
   "source": [
    "def my_generator(df):\n",
    "    # 모두 같은 프레임은 제외하고 불러오게 설정\n",
    "    def avi_to_img(file, video_len=32):\n",
    "        data=list()\n",
    "        cap = cv2.VideoCapture(file)\n",
    "        cnt=0\n",
    "        while(cap.isOpened()):\n",
    "            ret, frame = cap.read()\n",
    "            if ret:\n",
    "                if (cnt!=0):\n",
    "                    before=data[-1][0]\n",
    "                else:\n",
    "                    before=np.zeros((240,320))\n",
    "\n",
    "                frame=cv2.resize(frame,(320,240))\n",
    "                frame=cv2.cvtColor(frame,cv2.COLOR_RGB2GRAY)\n",
    "                frame=np.expand_dims(frame/255, axis=0)\n",
    "                if (before!=frame).any():\n",
    "                    data.append(frame)\n",
    "                    cnt+=1\n",
    "                cv2.waitKey(1)\n",
    "            else:\n",
    "                break\n",
    "            if cnt==video_len:\n",
    "                break\n",
    "        cap.release()\n",
    "        cv2.destroyAllWindows()\n",
    "        if len(data)!=0:\n",
    "            out = np.concatenate(data).astype('float')\n",
    "            # # 이미지별 차이를 리턴\n",
    "            out=np.diff(out,axis=0)[:].sum(axis=0)\n",
    "            # # min max scaling \n",
    "            out=(((out-out.min())/(out.max()-out.min()))*255\n",
    "                ).astype('u1')\n",
    "            out=cv2.cvtColor(out,cv2.COLOR_GRAY2RGB)\n",
    "            return out.copy()\n",
    "        else:\n",
    "            return np.zeros((240,320,3))\n",
    "\n",
    "    def f():\n",
    "        for label,video_file in df.sample(frac=1,random_state=42).values:\n",
    "            video = avi_to_img(video_file)\n",
    "            y = np.zeros((3))\n",
    "            if label==\"left\":\n",
    "                y[0]=1\n",
    "            elif label==\"right\":\n",
    "                y[2]=1\n",
    "            else:\n",
    "                y[1]=1\n",
    "            yield video, y\n",
    "    return f"
   ]
  },
  {
   "cell_type": "code",
   "execution_count": 4,
   "id": "48c78c6a-21b3-400f-be68-19fd6022348c",
   "metadata": {
    "execution": {
     "iopub.execute_input": "2022-12-18T11:17:22.649970Z",
     "iopub.status.busy": "2022-12-18T11:17:22.649412Z",
     "iopub.status.idle": "2022-12-18T11:17:22.986244Z",
     "shell.execute_reply": "2022-12-18T11:17:22.985104Z",
     "shell.execute_reply.started": "2022-12-18T11:17:22.649903Z"
    },
    "tags": []
   },
   "outputs": [],
   "source": [
    "test=pd.read_csv(\"안진방향판별_test.tsv\",sep='\\t')\n",
    "te_dataset=tf.data.Dataset.from_generator(\n",
    "    my_generator(test),\n",
    "    output_shapes=((240,320,3), 3),\n",
    "    output_types=('float32','float32'))\n",
    "te_gen =te_dataset.batch(640).prefetch(tf.data.experimental.AUTOTUNE)"
   ]
  },
  {
   "cell_type": "code",
   "execution_count": 5,
   "id": "4a811f32-92b9-4f8f-a7e6-5cc64fb0745b",
   "metadata": {
    "execution": {
     "iopub.execute_input": "2022-12-18T11:17:26.707666Z",
     "iopub.status.busy": "2022-12-18T11:17:26.706938Z",
     "iopub.status.idle": "2022-12-18T14:01:19.499240Z",
     "shell.execute_reply": "2022-12-18T14:01:19.497563Z",
     "shell.execute_reply.started": "2022-12-18T11:17:26.707596Z"
    },
    "tags": []
   },
   "outputs": [
    {
     "name": "stderr",
     "output_type": "stream",
     "text": [
      "2022-12-18 11:17:58.114472: W tensorflow/core/kernels/gpu_utils.cc:50] Failed to allocate memory for convolution redzone checking; skipping this check. This is benign and only means that we won't check cudnn for out-of-bounds reads and writes. This message will only be printed once.\n",
      "2022-12-18 11:17:58.881650: I tensorflow/stream_executor/cuda/cuda_dnn.cc:368] Loaded cuDNN version 8200\n"
     ]
    },
    {
     "name": "stdout",
     "output_type": "stream",
     "text": [
      "      1/Unknown - 35s 35s/step"
     ]
    },
    {
     "name": "stderr",
     "output_type": "stream",
     "text": [
      "2022-12-18 11:18:01.787994: I tensorflow/stream_executor/cuda/cuda_blas.cc:1786] TensorFloat-32 will be used for the matrix multiplication. This will only be logged once.\n"
     ]
    },
    {
     "name": "stdout",
     "output_type": "stream",
     "text": [
      "283/283 [==============================] - 9832s 35s/step\n",
      "2022-12-18 14:01:19.493127\n"
     ]
    }
   ],
   "source": [
    "predict_values=model.predict(te_gen,verbose=1)\n",
    "print(datetime.datetime.today())"
   ]
  },
  {
   "cell_type": "code",
   "execution_count": 6,
   "id": "e359af42-b5f7-4e7a-b05a-084af512a261",
   "metadata": {
    "execution": {
     "iopub.execute_input": "2022-12-18T14:06:35.578935Z",
     "iopub.status.busy": "2022-12-18T14:06:35.578303Z",
     "iopub.status.idle": "2022-12-18T14:06:36.006265Z",
     "shell.execute_reply": "2022-12-18T14:06:36.004960Z",
     "shell.execute_reply.started": "2022-12-18T14:06:35.578863Z"
    }
   },
   "outputs": [],
   "source": [
    "test['patient_id']=['/'.join(i.split('/')[5:7]) \n",
    "                    for i in test.file_path]\n",
    "test['predict_values']=np.array(['left','mid','right'])[\n",
    "    np.argmax(predict_values,axis=1)]\n",
    "test[['patient_id','horizontal','predict_values']].to_csv(\n",
    "    \"안진방향판별_결과값.tsv\",index=False,sep='\\t')"
   ]
  },
  {
   "cell_type": "code",
   "execution_count": 7,
   "id": "604d6c96-f581-4ecb-91d3-357207c0dbf3",
   "metadata": {
    "execution": {
     "iopub.execute_input": "2022-12-18T14:06:37.022572Z",
     "iopub.status.busy": "2022-12-18T14:06:37.022010Z",
     "iopub.status.idle": "2022-12-18T14:06:37.096248Z",
     "shell.execute_reply": "2022-12-18T14:06:37.094449Z",
     "shell.execute_reply.started": "2022-12-18T14:06:37.022504Z"
    },
    "tags": []
   },
   "outputs": [],
   "source": [
    "y_true=np.zeros((test.shape[0],3))\n",
    "for i,label in enumerate(test.horizontal):\n",
    "    if label==\"left\":\n",
    "        y_true[i,0]=1\n",
    "    elif label==\"right\":\n",
    "        y_true[i,2]=1\n",
    "    else:\n",
    "        y_true[i,1]=1"
   ]
  },
  {
   "cell_type": "code",
   "execution_count": 8,
   "id": "2718c156-b237-42b1-9f79-8de233390626",
   "metadata": {
    "execution": {
     "iopub.execute_input": "2022-12-18T14:06:40.716352Z",
     "iopub.status.busy": "2022-12-18T14:06:40.715603Z",
     "iopub.status.idle": "2022-12-18T14:06:40.731696Z",
     "shell.execute_reply": "2022-12-18T14:06:40.730056Z",
     "shell.execute_reply.started": "2022-12-18T14:06:40.716281Z"
    }
   },
   "outputs": [],
   "source": [
    "test[['left_true','mid_true','right_true']]=y_true\n",
    "test[['left_prob','mid_prob','right_prob']]=predict_values"
   ]
  },
  {
   "cell_type": "code",
   "execution_count": 9,
   "id": "2d69e2c8-cf03-42a2-807a-cff5b60d883d",
   "metadata": {
    "execution": {
     "iopub.execute_input": "2022-12-18T14:06:43.172749Z",
     "iopub.status.busy": "2022-12-18T14:06:43.172009Z",
     "iopub.status.idle": "2022-12-18T14:06:43.821699Z",
     "shell.execute_reply": "2022-12-18T14:06:43.820537Z",
     "shell.execute_reply.started": "2022-12-18T14:06:43.172677Z"
    }
   },
   "outputs": [],
   "source": [
    "test.loc[:,['patient_id','left_true','mid_true','right_true',\n",
    "      'left_prob','mid_prob','right_prob']].to_csv(\n",
    "    '안진방향판별_성능평가계산사용값.tsv',\n",
    "    index=False,sep='\\t')"
   ]
  },
  {
   "cell_type": "code",
   "execution_count": 10,
   "id": "b58ba4d3-b2c9-434c-b817-fece876c3998",
   "metadata": {
    "execution": {
     "iopub.execute_input": "2022-12-18T14:06:45.436878Z",
     "iopub.status.busy": "2022-12-18T14:06:45.435767Z",
     "iopub.status.idle": "2022-12-18T14:06:45.607840Z",
     "shell.execute_reply": "2022-12-18T14:06:45.606736Z",
     "shell.execute_reply.started": "2022-12-18T14:06:45.436803Z"
    },
    "tags": []
   },
   "outputs": [
    {
     "name": "stdout",
     "output_type": "stream",
     "text": [
      "{'left': 0.49863576120456415, 'mid': 0.4999792574359456, 'right': 0.5015958283083986} total :  0.5000702823163028\n",
      "2022-12-18 14:06:45.603700\n"
     ]
    }
   ],
   "source": [
    "score={\"left\":roc_auc_score(y_true[:,0],predict_values[:,0]),\n",
    " \"mid\":roc_auc_score(y_true[:,1],predict_values[:,1]),\n",
    " \"right\":roc_auc_score(y_true[:,2],predict_values[:,2])}\n",
    "print(score,\"total : \",np.mean(list(score.values())))\n",
    "print(datetime.datetime.today())"
   ]
  },
  {
   "cell_type": "code",
   "execution_count": 11,
   "id": "86bea199-c028-477a-ad24-da5e0c0282bd",
   "metadata": {
    "execution": {
     "iopub.execute_input": "2022-12-18T14:06:54.041967Z",
     "iopub.status.busy": "2022-12-18T14:06:54.041130Z",
     "iopub.status.idle": "2022-12-18T14:06:54.057132Z",
     "shell.execute_reply": "2022-12-18T14:06:54.055411Z",
     "shell.execute_reply.started": "2022-12-18T14:06:54.041889Z"
    }
   },
   "outputs": [
    {
     "name": "stdout",
     "output_type": "stream",
     "text": [
      "2022-12-18 14:06:54.051393\n"
     ]
    }
   ],
   "source": [
    "pd.DataFrame({\"AUC\":[np.mean(list(score.values()))]}).to_csv(\n",
    "    \"안진방향판별_AUC.tsv\",index=False,sep='\\t')\n",
    "print(datetime.datetime.today())"
   ]
  },
  {
   "cell_type": "code",
   "execution_count": null,
   "id": "f356691d-6fad-494b-b0eb-3f308bec341d",
   "metadata": {},
   "outputs": [],
   "source": []
  }
 ],
 "metadata": {
  "kernelspec": {
   "display_name": "Python 3 (ipykernel)",
   "language": "python",
   "name": "python3"
  },
  "language_info": {
   "codemirror_mode": {
    "name": "ipython",
    "version": 3
   },
   "file_extension": ".py",
   "mimetype": "text/x-python",
   "name": "python",
   "nbconvert_exporter": "python",
   "pygments_lexer": "ipython3",
   "version": "3.8.10"
  }
 },
 "nbformat": 4,
 "nbformat_minor": 5
}
