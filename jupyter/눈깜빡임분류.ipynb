{
 "cells": [
  {
   "cell_type": "code",
   "execution_count": 1,
   "id": "26796749-7648-4b97-bbb2-920428ae64cb",
   "metadata": {
    "execution": {
     "iopub.execute_input": "2022-12-16T04:43:56.016626Z",
     "iopub.status.busy": "2022-12-16T04:43:56.016471Z",
     "iopub.status.idle": "2022-12-16T04:43:57.890738Z",
     "shell.execute_reply": "2022-12-16T04:43:57.889631Z",
     "shell.execute_reply.started": "2022-12-16T04:43:56.016605Z"
    },
    "tags": []
   },
   "outputs": [
    {
     "name": "stdout",
     "output_type": "stream",
     "text": [
      "Python implementation: CPython\n",
      "Python version       : 3.8.10\n",
      "IPython version      : 7.34.0\n",
      "\n",
      "tensorflow: 2.8.0\n",
      "pandas    : 1.4.1\n",
      "numpy     : 1.22.3\n",
      "cv2       : 4.6.0\n",
      "sklearn   : 1.0.2\n",
      "\n"
     ]
    }
   ],
   "source": [
    "%reload_ext watermark\n",
    "%watermark -v -p tensorflow,pandas,numpy,cv2,sklearn"
   ]
  },
  {
   "cell_type": "code",
   "execution_count": 2,
   "id": "6ad36b75-45e0-48e0-bc9e-19778e4a183a",
   "metadata": {
    "execution": {
     "iopub.execute_input": "2022-12-16T04:43:57.892006Z",
     "iopub.status.busy": "2022-12-16T04:43:57.891798Z",
     "iopub.status.idle": "2022-12-16T04:43:57.897832Z",
     "shell.execute_reply": "2022-12-16T04:43:57.896786Z",
     "shell.execute_reply.started": "2022-12-16T04:43:57.891987Z"
    },
    "tags": []
   },
   "outputs": [
    {
     "name": "stdout",
     "output_type": "stream",
     "text": [
      "2022-12-16 04:43:57.893016\n"
     ]
    }
   ],
   "source": [
    "import tensorflow as tf\n",
    "import pandas as pd\n",
    "import numpy as np\n",
    "import cv2,datetime\n",
    "print(datetime.datetime.today())"
   ]
  },
  {
   "cell_type": "code",
   "execution_count": 3,
   "id": "b6d417de-3750-4a22-9c0a-f844eec59a75",
   "metadata": {
    "execution": {
     "iopub.execute_input": "2022-12-16T04:43:57.924714Z",
     "iopub.status.busy": "2022-12-16T04:43:57.924511Z",
     "iopub.status.idle": "2022-12-16T04:43:57.930681Z",
     "shell.execute_reply": "2022-12-16T04:43:57.930046Z",
     "shell.execute_reply.started": "2022-12-16T04:43:57.924697Z"
    },
    "tags": []
   },
   "outputs": [
    {
     "name": "stdout",
     "output_type": "stream",
     "text": [
      "2022-12-16 04:43:57.927243\n"
     ]
    }
   ],
   "source": [
    "def my_generator(df):\n",
    "    def img_load(file):\n",
    "        img = cv2.imread(file,cv2.IMREAD_COLOR)\n",
    "        img = cv2.resize(img, (320, 240))\n",
    "        return img\n",
    "    \n",
    "    def generator():\n",
    "        for label, path in df.values:\n",
    "            img = img_load(path)\n",
    "            y=np.zeros((3))\n",
    "            if label ==\"Open\":\n",
    "                y[0]=1\n",
    "            elif label==\"Closing\":\n",
    "                y[1]=1\n",
    "            else: \n",
    "                y[2]=1\n",
    "            yield img, y\n",
    "    return generator\n",
    "print(datetime.datetime.today())"
   ]
  },
  {
   "cell_type": "code",
   "execution_count": 4,
   "id": "22a8ce64-e5a4-4449-b329-ad52604051ac",
   "metadata": {
    "execution": {
     "iopub.execute_input": "2022-12-16T04:43:57.934129Z",
     "iopub.status.busy": "2022-12-16T04:43:57.933673Z",
     "iopub.status.idle": "2022-12-16T04:44:00.959953Z",
     "shell.execute_reply": "2022-12-16T04:44:00.958879Z",
     "shell.execute_reply.started": "2022-12-16T04:43:57.934112Z"
    },
    "tags": []
   },
   "outputs": [
    {
     "name": "stdout",
     "output_type": "stream",
     "text": [
      "2022-12-16 04:44:00.955697\n"
     ]
    }
   ],
   "source": [
    "train=pd.read_csv(\"눈깜빡임분류_train.tsv\",sep='\\t')\n",
    "valid=pd.read_csv(\"눈깜빡임분류_valid.tsv\",sep='\\t')\n",
    "print(datetime.datetime.today())"
   ]
  },
  {
   "cell_type": "code",
   "execution_count": 5,
   "id": "42665512-7634-4e9e-b61c-f8f741e2ceaa",
   "metadata": {
    "execution": {
     "iopub.execute_input": "2022-12-16T04:44:00.990620Z",
     "iopub.status.busy": "2022-12-16T04:44:00.990325Z",
     "iopub.status.idle": "2022-12-16T04:44:03.565028Z",
     "shell.execute_reply": "2022-12-16T04:44:03.564048Z",
     "shell.execute_reply.started": "2022-12-16T04:44:00.990604Z"
    },
    "tags": []
   },
   "outputs": [
    {
     "name": "stdout",
     "output_type": "stream",
     "text": [
      "2022-12-16 04:44:03.560762\n"
     ]
    },
    {
     "name": "stderr",
     "output_type": "stream",
     "text": [
      "2022-12-16 04:44:02.332573: I tensorflow/core/platform/cpu_feature_guard.cc:151] This TensorFlow binary is optimized with oneAPI Deep Neural Network Library (oneDNN) to use the following CPU instructions in performance-critical operations:  AVX2 AVX512F FMA\n",
      "To enable them in other operations, rebuild TensorFlow with the appropriate compiler flags.\n",
      "2022-12-16 04:44:02.854923: I tensorflow/core/common_runtime/gpu/gpu_device.cc:1525] Created device /job:localhost/replica:0/task:0/device:GPU:0 with 46723 MB memory:  -> device: 0, name: NVIDIA RTX A6000, pci bus id: 0000:3b:00.0, compute capability: 8.6\n"
     ]
    }
   ],
   "source": [
    "tr_dataset=tf.data.Dataset.from_generator(\n",
    "        my_generator(train),\n",
    "        output_shapes=((240,320,3), 3),\n",
    "        output_types=(\"float32\", \"float32\"))\n",
    "tr_gen =tr_dataset.batch(640).prefetch(tf.data.experimental.AUTOTUNE)\n",
    "\n",
    "val_dataset=tf.data.Dataset.from_generator(\n",
    "        my_generator(valid),\n",
    "        output_shapes=((240,320,3), 3),\n",
    "        output_types=(\"float32\", \"float32\"))\n",
    "val_gen =val_dataset.batch(640).prefetch(tf.data.experimental.AUTOTUNE)\n",
    "print(datetime.datetime.today())"
   ]
  },
  {
   "cell_type": "markdown",
   "id": "139fca84-292b-4841-9b6d-55e216a3af72",
   "metadata": {},
   "source": [
    "## 모델 학습"
   ]
  },
  {
   "cell_type": "code",
   "execution_count": 6,
   "id": "27c4c3b3-b938-4c8b-bf7e-7a37aec7641f",
   "metadata": {
    "execution": {
     "iopub.execute_input": "2022-12-16T04:44:03.567110Z",
     "iopub.status.busy": "2022-12-16T04:44:03.566811Z",
     "iopub.status.idle": "2022-12-16T04:44:03.577626Z",
     "shell.execute_reply": "2022-12-16T04:44:03.576633Z",
     "shell.execute_reply.started": "2022-12-16T04:44:03.567092Z"
    },
    "tags": []
   },
   "outputs": [
    {
     "name": "stdout",
     "output_type": "stream",
     "text": [
      "2022-12-16 04:44:03.573385\n"
     ]
    }
   ],
   "source": [
    "def my_cnn_model():\n",
    "    tf.keras.backend.clear_session()\n",
    "    tf.random.set_seed(42)\n",
    "\n",
    "    cnn_model = tf.keras.Sequential()\n",
    "    cnn_model.add(tf.keras.layers.Input((240,320,3)))\n",
    "    cnn_model.add(tf.keras.layers.Rescaling(1./255))\n",
    "    cnn_model.add(tf.keras.layers.Resizing(256,320,name='resize'))\n",
    "\n",
    "    cnn_model.add(tf.keras.layers.Conv2D(32, (3, 3), activation='relu'))\n",
    "    cnn_model.add(tf.keras.layers.BatchNormalization())\n",
    "    cnn_model.add(tf.keras.layers.MaxPooling2D(pool_size=(2, 2)))\n",
    "    cnn_model.add(tf.keras.layers.Dropout(0.25))\n",
    "\n",
    "    cnn_model.add(tf.keras.layers.Conv2D(64, (3, 3), activation='relu'))\n",
    "    cnn_model.add(tf.keras.layers.BatchNormalization())\n",
    "    cnn_model.add(tf.keras.layers.MaxPooling2D(pool_size=(2, 2)))\n",
    "    cnn_model.add(tf.keras.layers.Dropout(0.25))\n",
    "\n",
    "    cnn_model.add(tf.keras.layers.Conv2D(128, (3, 3), activation='relu'))\n",
    "    cnn_model.add(tf.keras.layers.BatchNormalization())\n",
    "    cnn_model.add(tf.keras.layers.MaxPooling2D(pool_size=(2, 2)))\n",
    "    cnn_model.add(tf.keras.layers.Dropout(0.25))\n",
    "\n",
    "    cnn_model.add(tf.keras.layers.Flatten())\n",
    "    cnn_model.add(tf.keras.layers.Dense(256, activation='relu'))\n",
    "    cnn_model.add(tf.keras.layers.BatchNormalization())\n",
    "    cnn_model.add(tf.keras.layers.Dropout(0.2))\n",
    "    cnn_model.add(tf.keras.layers.Dense(3, activation='softmax'))\n",
    "    return cnn_model\n",
    "print(datetime.datetime.today())"
   ]
  },
  {
   "cell_type": "code",
   "execution_count": 7,
   "id": "78ec6c56-34b4-4e64-8de9-1eb9abb929e1",
   "metadata": {
    "execution": {
     "iopub.execute_input": "2022-12-16T04:44:03.578657Z",
     "iopub.status.busy": "2022-12-16T04:44:03.578529Z",
     "iopub.status.idle": "2022-12-16T21:26:11.877995Z",
     "shell.execute_reply": "2022-12-16T21:26:11.875700Z",
     "shell.execute_reply.started": "2022-12-16T04:44:03.578642Z"
    },
    "tags": []
   },
   "outputs": [
    {
     "name": "stdout",
     "output_type": "stream",
     "text": [
      "2022-12-16 04:44:03.580279\n",
      "Epoch 1/3\n"
     ]
    },
    {
     "name": "stderr",
     "output_type": "stream",
     "text": [
      "2022-12-16 04:44:05.208764: W tensorflow/core/kernels/gpu_utils.cc:50] Failed to allocate memory for convolution redzone checking; skipping this check. This is benign and only means that we won't check cudnn for out-of-bounds reads and writes. This message will only be printed once.\n",
      "2022-12-16 04:44:06.036536: I tensorflow/stream_executor/cuda/cuda_dnn.cc:368] Loaded cuDNN version 8200\n",
      "2022-12-16 04:44:08.985694: I tensorflow/stream_executor/cuda/cuda_blas.cc:1786] TensorFloat-32 will be used for the matrix multiplication. This will only be logged once.\n"
     ]
    },
    {
     "name": "stdout",
     "output_type": "stream",
     "text": [
      "2737/2737 [==============================] - 21816s 8s/step - loss: 0.8149 - accuracy: 0.6217 - val_loss: 0.9321 - val_accuracy: 0.5300\n",
      "Epoch 2/3\n",
      "2737/2737 [==============================] - 19438s 7s/step - loss: 0.7452 - accuracy: 0.6509 - val_loss: 0.8160 - val_accuracy: 0.6552\n",
      "Epoch 3/3\n",
      "2737/2737 [==============================] - 18872s 7s/step - loss: 0.7203 - accuracy: 0.6665 - val_loss: 0.7211 - val_accuracy: 0.7035\n",
      "2022-12-16 21:26:11.870828\n"
     ]
    }
   ],
   "source": [
    "print(datetime.datetime.today())\n",
    "tf.keras.backend.clear_session()\n",
    "tf.random.set_seed(42)\n",
    "model=my_cnn_model()\n",
    "model.compile(\n",
    "    optimizer=tf.keras.optimizers.Adam(\n",
    "        learning_rate=.01),\n",
    "    loss='categorical_crossentropy', \n",
    "    metrics=['accuracy'],\n",
    ")\n",
    "model.fit(tr_gen, epochs=3, validation_data=val_gen,\n",
    "      verbose=1)\n",
    "print(datetime.datetime.today())"
   ]
  },
  {
   "cell_type": "code",
   "execution_count": 8,
   "id": "80c6f38d-a754-4cfe-b6bd-318551170ca7",
   "metadata": {
    "execution": {
     "iopub.execute_input": "2022-12-16T21:26:11.981544Z",
     "iopub.status.busy": "2022-12-16T21:26:11.981420Z",
     "iopub.status.idle": "2022-12-16T21:26:12.863299Z",
     "shell.execute_reply": "2022-12-16T21:26:12.862179Z",
     "shell.execute_reply.started": "2022-12-16T21:26:11.981529Z"
    }
   },
   "outputs": [],
   "source": [
    "model.save(\"눈깜빡임분류_v0_1.h5\")"
   ]
  },
  {
   "cell_type": "markdown",
   "id": "c22dcba3-4469-411c-a787-3c47cefaa44f",
   "metadata": {},
   "source": [
    "## 모델 검증"
   ]
  },
  {
   "cell_type": "code",
   "execution_count": 1,
   "id": "0b90deb6-24b4-48c3-acbf-c23d632da0db",
   "metadata": {
    "execution": {
     "iopub.execute_input": "2022-12-18T09:42:54.461388Z",
     "iopub.status.busy": "2022-12-18T09:42:54.461257Z",
     "iopub.status.idle": "2022-12-18T09:42:56.329381Z",
     "shell.execute_reply": "2022-12-18T09:42:56.328479Z",
     "shell.execute_reply.started": "2022-12-18T09:42:54.461371Z"
    },
    "tags": []
   },
   "outputs": [
    {
     "name": "stdout",
     "output_type": "stream",
     "text": [
      "2022-12-18 09:42:56.325971\n"
     ]
    }
   ],
   "source": [
    "import tensorflow as tf\n",
    "import pandas as pd\n",
    "import numpy as np\n",
    "import cv2,datetime\n",
    "from sklearn.metrics import roc_auc_score\n",
    "print(datetime.datetime.today())"
   ]
  },
  {
   "cell_type": "code",
   "execution_count": 2,
   "id": "624217f7-28af-46c7-a1a9-f59b684e65af",
   "metadata": {
    "execution": {
     "iopub.execute_input": "2022-12-18T09:42:56.330539Z",
     "iopub.status.busy": "2022-12-18T09:42:56.330340Z",
     "iopub.status.idle": "2022-12-18T09:43:00.890068Z",
     "shell.execute_reply": "2022-12-18T09:43:00.888988Z",
     "shell.execute_reply.started": "2022-12-18T09:42:56.330520Z"
    },
    "tags": []
   },
   "outputs": [
    {
     "name": "stdout",
     "output_type": "stream",
     "text": [
      "2022-12-18 09:42:56.331549\n"
     ]
    },
    {
     "name": "stderr",
     "output_type": "stream",
     "text": [
      "2022-12-18 09:42:57.798017: I tensorflow/core/platform/cpu_feature_guard.cc:151] This TensorFlow binary is optimized with oneAPI Deep Neural Network Library (oneDNN) to use the following CPU instructions in performance-critical operations:  AVX2 AVX512F FMA\n",
      "To enable them in other operations, rebuild TensorFlow with the appropriate compiler flags.\n",
      "2022-12-18 09:42:58.305826: I tensorflow/core/common_runtime/gpu/gpu_device.cc:1525] Created device /job:localhost/replica:0/task:0/device:GPU:0 with 46723 MB memory:  -> device: 0, name: NVIDIA RTX A6000, pci bus id: 0000:3b:00.0, compute capability: 8.6\n"
     ]
    },
    {
     "name": "stdout",
     "output_type": "stream",
     "text": [
      "2022-12-18 09:43:00.885840\n"
     ]
    }
   ],
   "source": [
    "print(datetime.datetime.today())\n",
    "model=tf.keras.models.load_model(\"눈깜빡임분류_v0_1.h5\")\n",
    "print(datetime.datetime.today())"
   ]
  },
  {
   "cell_type": "code",
   "execution_count": 3,
   "id": "7c44bfd8-6475-4408-8870-85cb56f9c2db",
   "metadata": {
    "execution": {
     "iopub.execute_input": "2022-12-18T09:43:00.892327Z",
     "iopub.status.busy": "2022-12-18T09:43:00.892022Z",
     "iopub.status.idle": "2022-12-18T09:43:00.898882Z",
     "shell.execute_reply": "2022-12-18T09:43:00.897838Z",
     "shell.execute_reply.started": "2022-12-18T09:43:00.892307Z"
    },
    "tags": []
   },
   "outputs": [],
   "source": [
    "def my_generator(df):\n",
    "    def img_load(file):\n",
    "        img = cv2.imread(file,cv2.IMREAD_COLOR)\n",
    "        img = cv2.resize(img, (320, 240))\n",
    "        return img\n",
    "    \n",
    "    def generator():\n",
    "        for label, path in df.values:\n",
    "            img = img_load(path)\n",
    "            y=np.zeros((3))\n",
    "            if label ==\"Open\":\n",
    "                y[0]=1\n",
    "            elif label==\"Closing\":\n",
    "                y[1]=1\n",
    "            else: \n",
    "                y[2]=1\n",
    "            yield img, y\n",
    "    return generator"
   ]
  },
  {
   "cell_type": "code",
   "execution_count": 4,
   "id": "106c233b-f3d8-47a9-8649-27a5c9a3d8ae",
   "metadata": {
    "execution": {
     "iopub.execute_input": "2022-12-18T09:43:00.900231Z",
     "iopub.status.busy": "2022-12-18T09:43:00.900100Z",
     "iopub.status.idle": "2022-12-18T09:43:01.445738Z",
     "shell.execute_reply": "2022-12-18T09:43:01.444632Z",
     "shell.execute_reply.started": "2022-12-18T09:43:00.900215Z"
    },
    "tags": []
   },
   "outputs": [
    {
     "name": "stdout",
     "output_type": "stream",
     "text": [
      "2022-12-18 09:43:01.441533\n"
     ]
    }
   ],
   "source": [
    "test =pd.read_csv(\"눈깜빡임분류_test.tsv\",sep='\\t')\n",
    "te_dataset=tf.data.Dataset.from_generator(\n",
    "        my_generator(test),\n",
    "        output_shapes=((240,320,3), 3),\n",
    "        output_types=(\"float32\", \"float32\"))\n",
    "te_gen =te_dataset.batch(640).prefetch(tf.data.experimental.AUTOTUNE)\n",
    "print(datetime.datetime.today())"
   ]
  },
  {
   "cell_type": "code",
   "execution_count": 5,
   "id": "dbff72fb-3c27-4bdf-99a6-82a63773cc97",
   "metadata": {
    "execution": {
     "iopub.execute_input": "2022-12-18T09:43:01.446758Z",
     "iopub.status.busy": "2022-12-18T09:43:01.446614Z",
     "iopub.status.idle": "2022-12-18T11:07:11.976183Z",
     "shell.execute_reply": "2022-12-18T11:07:11.974209Z",
     "shell.execute_reply.started": "2022-12-18T09:43:01.446740Z"
    },
    "tags": []
   },
   "outputs": [
    {
     "name": "stderr",
     "output_type": "stream",
     "text": [
      "2022-12-18 09:43:02.581524: W tensorflow/core/kernels/gpu_utils.cc:50] Failed to allocate memory for convolution redzone checking; skipping this check. This is benign and only means that we won't check cudnn for out-of-bounds reads and writes. This message will only be printed once.\n",
      "2022-12-18 09:43:03.396976: I tensorflow/stream_executor/cuda/cuda_dnn.cc:368] Loaded cuDNN version 8200\n"
     ]
    },
    {
     "name": "stdout",
     "output_type": "stream",
     "text": [
      "      1/Unknown - 5s 5s/step"
     ]
    },
    {
     "name": "stderr",
     "output_type": "stream",
     "text": [
      "2022-12-18 09:43:06.187546: I tensorflow/stream_executor/cuda/cuda_blas.cc:1786] TensorFloat-32 will be used for the matrix multiplication. This will only be logged once.\n"
     ]
    },
    {
     "name": "stdout",
     "output_type": "stream",
     "text": [
      "551/551 [==============================] - 5050s 9s/step\n",
      "2022-12-18 11:07:11.969785\n"
     ]
    }
   ],
   "source": [
    "predict_values=model.predict(te_gen,verbose=1)\n",
    "print(datetime.datetime.today())"
   ]
  },
  {
   "cell_type": "code",
   "execution_count": 6,
   "id": "79d0c644-3ca5-45c9-a498-03ac145d06f2",
   "metadata": {
    "execution": {
     "iopub.execute_input": "2022-12-18T11:07:11.992421Z",
     "iopub.status.busy": "2022-12-18T11:07:11.992166Z",
     "iopub.status.idle": "2022-12-18T11:07:12.811770Z",
     "shell.execute_reply": "2022-12-18T11:07:12.809979Z",
     "shell.execute_reply.started": "2022-12-18T11:07:11.992385Z"
    },
    "tags": []
   },
   "outputs": [],
   "source": [
    "test['patient_id']=['/'.join(i.split('/')[5:7]) \n",
    "                    for i in test.file_path]\n",
    "test['predict_values']=np.array(['Open','Closing','Closed'])[\n",
    "    np.argmax(predict_values,axis=1)]\n",
    "test[['patient_id','blink_tagging','predict_values']].to_csv(\n",
    "    \"눈깜빡임분류_결과값.tsv\",index=False,sep='\\t')"
   ]
  },
  {
   "cell_type": "code",
   "execution_count": 7,
   "id": "1c72099b-7f2f-4a74-9003-07a8ee034b4b",
   "metadata": {
    "execution": {
     "iopub.execute_input": "2022-12-18T11:07:12.854041Z",
     "iopub.status.busy": "2022-12-18T11:07:12.853919Z",
     "iopub.status.idle": "2022-12-18T11:07:12.961101Z",
     "shell.execute_reply": "2022-12-18T11:07:12.959458Z",
     "shell.execute_reply.started": "2022-12-18T11:07:12.854027Z"
    },
    "tags": []
   },
   "outputs": [],
   "source": [
    "y_true=np.zeros((test.shape[0],3))\n",
    "for i,label in enumerate(test.blink_tagging):\n",
    "    if label==\"Open\":\n",
    "        y_true[i,0]=1\n",
    "    elif label==\"Closing\":\n",
    "        y_true[i,1]=1\n",
    "    else:\n",
    "        y_true[i,2]=1"
   ]
  },
  {
   "cell_type": "code",
   "execution_count": 11,
   "id": "ac68d543-0a70-401e-9047-d2d202828aa6",
   "metadata": {
    "execution": {
     "iopub.execute_input": "2022-12-18T11:09:48.303486Z",
     "iopub.status.busy": "2022-12-18T11:09:48.302718Z",
     "iopub.status.idle": "2022-12-18T11:09:48.324556Z",
     "shell.execute_reply": "2022-12-18T11:09:48.322871Z",
     "shell.execute_reply.started": "2022-12-18T11:09:48.303407Z"
    },
    "tags": []
   },
   "outputs": [],
   "source": [
    "test[['Open_true','Closing_true','Closed_true']]=y_true\n",
    "test[['Open_prob','Closing_prob','Closed_prob']]=predict_values"
   ]
  },
  {
   "cell_type": "code",
   "execution_count": 14,
   "id": "8a425966-8d89-46ef-8e50-ba2d60099eb4",
   "metadata": {
    "execution": {
     "iopub.execute_input": "2022-12-18T11:10:58.000959Z",
     "iopub.status.busy": "2022-12-18T11:10:58.000153Z",
     "iopub.status.idle": "2022-12-18T11:10:59.216504Z",
     "shell.execute_reply": "2022-12-18T11:10:59.214815Z",
     "shell.execute_reply.started": "2022-12-18T11:10:58.000876Z"
    },
    "tags": []
   },
   "outputs": [],
   "source": [
    "test.loc[:,['patient_id','Open_true','Closing_true','Closed_true',\n",
    "      'Open_prob','Closing_prob','Closed_prob']].to_csv(\n",
    "    '눈깜빡임분류_성능평가계산사용값.tsv',\n",
    "    index=False,sep='\\t')"
   ]
  },
  {
   "cell_type": "code",
   "execution_count": 15,
   "id": "1d11ad4e-e812-4002-ab14-601eb9d13b3a",
   "metadata": {
    "execution": {
     "iopub.execute_input": "2022-12-18T11:11:02.061255Z",
     "iopub.status.busy": "2022-12-18T11:11:02.060505Z",
     "iopub.status.idle": "2022-12-18T11:11:02.356873Z",
     "shell.execute_reply": "2022-12-18T11:11:02.355659Z",
     "shell.execute_reply.started": "2022-12-18T11:11:02.061173Z"
    },
    "tags": []
   },
   "outputs": [
    {
     "name": "stdout",
     "output_type": "stream",
     "text": [
      "{'Open': 0.8777455296975807, 'Closing': 0.7636314496000453, 'Closed': 0.844819209665828} total :  0.828732062987818\n",
      "2022-12-18 11:11:02.352505\n"
     ]
    }
   ],
   "source": [
    "score={\"Open\":roc_auc_score(y_true[:,0],predict_values[:,0]),\n",
    " \"Closing\":roc_auc_score(y_true[:,1],predict_values[:,1]),\n",
    " \"Closed\":roc_auc_score(y_true[:,2],predict_values[:,2])}\n",
    "print(score,\"total : \",np.mean(list(score.values())))\n",
    "print(datetime.datetime.today())"
   ]
  },
  {
   "cell_type": "code",
   "execution_count": 17,
   "id": "a21dc128-4386-4e39-bdb5-0c3f4cdba41e",
   "metadata": {
    "execution": {
     "iopub.execute_input": "2022-12-18T11:11:37.009933Z",
     "iopub.status.busy": "2022-12-18T11:11:37.009210Z",
     "iopub.status.idle": "2022-12-18T11:11:37.024161Z",
     "shell.execute_reply": "2022-12-18T11:11:37.022460Z",
     "shell.execute_reply.started": "2022-12-18T11:11:37.009858Z"
    },
    "tags": []
   },
   "outputs": [
    {
     "name": "stdout",
     "output_type": "stream",
     "text": [
      "2022-12-18 11:11:37.018345\n"
     ]
    }
   ],
   "source": [
    "pd.DataFrame({\"AUC\":[np.mean(list(score.values()))]}).to_csv(\n",
    "    \"눈깜빡임분류_AUC.tsv\",index=False,sep='\\t')\n",
    "print(datetime.datetime.today())"
   ]
  },
  {
   "cell_type": "code",
   "execution_count": null,
   "id": "f01e8c9c-2988-4627-b285-8e54cbf2aae0",
   "metadata": {},
   "outputs": [],
   "source": []
  }
 ],
 "metadata": {
  "kernelspec": {
   "display_name": "Python 3 (ipykernel)",
   "language": "python",
   "name": "python3"
  },
  "language_info": {
   "codemirror_mode": {
    "name": "ipython",
    "version": 3
   },
   "file_extension": ".py",
   "mimetype": "text/x-python",
   "name": "python",
   "nbconvert_exporter": "python",
   "pygments_lexer": "ipython3",
   "version": "3.8.10"
  }
 },
 "nbformat": 4,
 "nbformat_minor": 5
}
